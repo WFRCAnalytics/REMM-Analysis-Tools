{
 "cells": [
  {
   "cell_type": "code",
   "execution_count": 13,
   "metadata": {},
   "outputs": [],
   "source": [
    "import pandas as pd\n",
    "import matplotlib.pyplot as plt"
   ]
  },
  {
   "cell_type": "code",
   "execution_count": 98,
   "metadata": {},
   "outputs": [],
   "source": [
    "zi_2015_1 = r\"E:\\REMM\\REMMRun_0\\zone_indicators_2179_2015.csv\"\n",
    "#zi_2015_2 = r\"E:\\REMM\\REMMRun_1\\zone_indicators_28_2015.csv\"\n",
    "#zi_2015_2 = r\"E:\\REMM\\REMMRun_2\\zone_indicators_75_2015.csv\"\n",
    "zi_2015_2 = r\"E:\\Projects\\REMM2_For_Python3\\REMMRun\\zone_indicators_122_2015.csv\"\n",
    "#zi_2015_2 = r\"E:\\Projects\\REMM_Original\\REMMRun\\zone_indicators_3_2015.csv\"\n",
    "\n",
    "zi_2015_1 = pd.read_csv(zi_2015_1)\n",
    "zi_2015_2 = pd.read_csv(zi_2015_2)"
   ]
  },
  {
   "cell_type": "code",
   "execution_count": 5,
   "metadata": {},
   "outputs": [
    {
     "data": {
      "text/plain": [
       "Index(['zone_id', 'households', 'residential_units', 'population',\n",
       "       'res_price1', 'res_price2', 'avg_hh_income', 'hh_inc1', 'hh_inc2',\n",
       "       'hh_inc3', 'hh_inc4', 'jobs', 'jobs1', 'jobs2', 'jobs3', 'jobs4',\n",
       "       'jobs5', 'jobs6', 'jobs7', 'jobs8', 'jobs9', 'jobs10', 'job_spaces',\n",
       "       'non_residential_sqft', 'nonres_price3', 'nonres_price4',\n",
       "       'nonres_price5', 'COUNTY', 'pop_adjust'],\n",
       "      dtype='object')"
      ]
     },
     "execution_count": 5,
     "metadata": {},
     "output_type": "execute_result"
    }
   ],
   "source": [
    "zi_2015_1.columns"
   ]
  },
  {
   "cell_type": "code",
   "execution_count": 6,
   "metadata": {},
   "outputs": [
    {
     "data": {
      "text/plain": [
       "(2725, 29)"
      ]
     },
     "execution_count": 6,
     "metadata": {},
     "output_type": "execute_result"
    }
   ],
   "source": [
    "zi_2015_1.shape"
   ]
  },
  {
   "cell_type": "code",
   "execution_count": 4,
   "metadata": {},
   "outputs": [
    {
     "data": {
      "text/plain": [
       "Index(['zone_id', 'households', 'residential_units', 'population',\n",
       "       'res_price1', 'res_price2', 'avg_hh_income', 'hh_inc1', 'hh_inc2',\n",
       "       'hh_inc3', 'hh_inc4', 'jobs', 'jobs1', 'jobs2', 'jobs3', 'jobs4',\n",
       "       'jobs5', 'jobs6', 'jobs7', 'jobs8', 'jobs9', 'jobs10', 'job_spaces',\n",
       "       'non_residential_sqft', 'nonres_price3', 'nonres_price4',\n",
       "       'nonres_price5', 'COUNTY', 'pop_adjust'],\n",
       "      dtype='object')"
      ]
     },
     "execution_count": 4,
     "metadata": {},
     "output_type": "execute_result"
    }
   ],
   "source": [
    "zi_2015_2.columns"
   ]
  },
  {
   "cell_type": "code",
   "execution_count": 7,
   "metadata": {},
   "outputs": [
    {
     "data": {
      "text/plain": [
       "(2725, 29)"
      ]
     },
     "execution_count": 7,
     "metadata": {},
     "output_type": "execute_result"
    }
   ],
   "source": [
    "zi_2015_2.shape"
   ]
  },
  {
   "cell_type": "code",
   "execution_count": 99,
   "metadata": {},
   "outputs": [],
   "source": [
    "zi_2015_1 = zi_2015_1[['zone_id', 'COUNTY', 'households', 'population', 'res_price1', 'nonres_price4', 'nonres_price5']].copy()\n",
    "zi_2015_2 = zi_2015_2[['zone_id', 'COUNTY', 'households', 'population', 'res_price1', 'nonres_price4', 'nonres_price5']].copy()"
   ]
  },
  {
   "cell_type": "code",
   "execution_count": 100,
   "metadata": {},
   "outputs": [
    {
     "data": {
      "text/html": [
       "<div>\n",
       "<style scoped>\n",
       "    .dataframe tbody tr th:only-of-type {\n",
       "        vertical-align: middle;\n",
       "    }\n",
       "\n",
       "    .dataframe tbody tr th {\n",
       "        vertical-align: top;\n",
       "    }\n",
       "\n",
       "    .dataframe thead th {\n",
       "        text-align: right;\n",
       "    }\n",
       "</style>\n",
       "<table border=\"1\" class=\"dataframe\">\n",
       "  <thead>\n",
       "    <tr style=\"text-align: right;\">\n",
       "      <th></th>\n",
       "      <th>zone_id</th>\n",
       "      <th>COUNTY_x</th>\n",
       "      <th>households_x</th>\n",
       "      <th>population_x</th>\n",
       "      <th>res_price1_x</th>\n",
       "      <th>nonres_price4_x</th>\n",
       "      <th>nonres_price5_x</th>\n",
       "      <th>COUNTY_y</th>\n",
       "      <th>households_y</th>\n",
       "      <th>population_y</th>\n",
       "      <th>res_price1_y</th>\n",
       "      <th>nonres_price4_y</th>\n",
       "      <th>nonres_price5_y</th>\n",
       "    </tr>\n",
       "  </thead>\n",
       "  <tbody>\n",
       "    <tr>\n",
       "      <th>0</th>\n",
       "      <td>2859</td>\n",
       "      <td>4</td>\n",
       "      <td>23.0</td>\n",
       "      <td>67.214494</td>\n",
       "      <td>27.130846</td>\n",
       "      <td>0.000000</td>\n",
       "      <td>0.000000</td>\n",
       "      <td>49</td>\n",
       "      <td>23.0</td>\n",
       "      <td>67.214494</td>\n",
       "      <td>27.130846</td>\n",
       "      <td>0.000000</td>\n",
       "      <td>0.000000</td>\n",
       "    </tr>\n",
       "    <tr>\n",
       "      <th>1</th>\n",
       "      <td>141</td>\n",
       "      <td>1</td>\n",
       "      <td>133.0</td>\n",
       "      <td>372.557001</td>\n",
       "      <td>65.659543</td>\n",
       "      <td>112.795817</td>\n",
       "      <td>121.425198</td>\n",
       "      <td>11</td>\n",
       "      <td>133.0</td>\n",
       "      <td>532.440918</td>\n",
       "      <td>65.659543</td>\n",
       "      <td>112.795817</td>\n",
       "      <td>121.424179</td>\n",
       "    </tr>\n",
       "    <tr>\n",
       "      <th>2</th>\n",
       "      <td>2865</td>\n",
       "      <td>4</td>\n",
       "      <td>29.0</td>\n",
       "      <td>96.561667</td>\n",
       "      <td>32.020883</td>\n",
       "      <td>0.000000</td>\n",
       "      <td>0.000000</td>\n",
       "      <td>49</td>\n",
       "      <td>29.0</td>\n",
       "      <td>96.561667</td>\n",
       "      <td>32.020883</td>\n",
       "      <td>0.000000</td>\n",
       "      <td>0.000000</td>\n",
       "    </tr>\n",
       "    <tr>\n",
       "      <th>3</th>\n",
       "      <td>1914</td>\n",
       "      <td>4</td>\n",
       "      <td>0.0</td>\n",
       "      <td>0.000000</td>\n",
       "      <td>0.000000</td>\n",
       "      <td>0.000000</td>\n",
       "      <td>0.000000</td>\n",
       "      <td>49</td>\n",
       "      <td>0.0</td>\n",
       "      <td>0.000000</td>\n",
       "      <td>0.000000</td>\n",
       "      <td>0.000000</td>\n",
       "      <td>0.000000</td>\n",
       "    </tr>\n",
       "    <tr>\n",
       "      <th>4</th>\n",
       "      <td>2860</td>\n",
       "      <td>4</td>\n",
       "      <td>1.0</td>\n",
       "      <td>1.893366</td>\n",
       "      <td>38.966667</td>\n",
       "      <td>0.000000</td>\n",
       "      <td>0.000000</td>\n",
       "      <td>49</td>\n",
       "      <td>1.0</td>\n",
       "      <td>1.893366</td>\n",
       "      <td>38.966667</td>\n",
       "      <td>0.000000</td>\n",
       "      <td>0.000000</td>\n",
       "    </tr>\n",
       "  </tbody>\n",
       "</table>\n",
       "</div>"
      ],
      "text/plain": [
       "   zone_id  COUNTY_x  households_x  population_x  res_price1_x  \\\n",
       "0     2859         4          23.0     67.214494     27.130846   \n",
       "1      141         1         133.0    372.557001     65.659543   \n",
       "2     2865         4          29.0     96.561667     32.020883   \n",
       "3     1914         4           0.0      0.000000      0.000000   \n",
       "4     2860         4           1.0      1.893366     38.966667   \n",
       "\n",
       "   nonres_price4_x  nonres_price5_x  COUNTY_y  households_y  population_y  \\\n",
       "0         0.000000         0.000000        49          23.0     67.214494   \n",
       "1       112.795817       121.425198        11         133.0    532.440918   \n",
       "2         0.000000         0.000000        49          29.0     96.561667   \n",
       "3         0.000000         0.000000        49           0.0      0.000000   \n",
       "4         0.000000         0.000000        49           1.0      1.893366   \n",
       "\n",
       "   res_price1_y  nonres_price4_y  nonres_price5_y  \n",
       "0     27.130846         0.000000         0.000000  \n",
       "1     65.659543       112.795817       121.424179  \n",
       "2     32.020883         0.000000         0.000000  \n",
       "3      0.000000         0.000000         0.000000  \n",
       "4     38.966667         0.000000         0.000000  "
      ]
     },
     "execution_count": 100,
     "metadata": {},
     "output_type": "execute_result"
    }
   ],
   "source": [
    "merged = zi_2015_1.merge(zi_2015_2, left_on = 'zone_id', right_on = 'zone_id' , how = 'inner')\n",
    "merged.head()"
   ]
  },
  {
   "cell_type": "code",
   "execution_count": 101,
   "metadata": {},
   "outputs": [],
   "source": [
    "merged['nonres_price4_d'] = merged['nonres_price4_x'].astype(float) - merged['nonres_price4_y'].astype(float)"
   ]
  },
  {
   "cell_type": "code",
   "execution_count": 102,
   "metadata": {},
   "outputs": [
    {
     "data": {
      "text/plain": [
       "(142, 14)"
      ]
     },
     "execution_count": 102,
     "metadata": {},
     "output_type": "execute_result"
    }
   ],
   "source": [
    "merged2 = merged[(merged['nonres_price4_d'] >= 2) | (merged['nonres_price4_d'] <= -2)]\n",
    "merged2.to_csv(r'./Results/nonres_price4.csv', index = False)\n",
    "merged2.shape"
   ]
  },
  {
   "cell_type": "code",
   "execution_count": 103,
   "metadata": {},
   "outputs": [
    {
     "data": {
      "text/plain": [
       "<matplotlib.axes._subplots.AxesSubplot at 0x14eb9ca5240>"
      ]
     },
     "execution_count": 103,
     "metadata": {},
     "output_type": "execute_result"
    },
    {
     "data": {
      "image/png": "[encoded data removed]",
      "text/plain": [
       "<Figure size 864x576 with 1 Axes>"
      ]
     },
     "metadata": {
      "needs_background": "light"
     },
     "output_type": "display_data"
    }
   ],
   "source": [
    "merged.plot.scatter(x='nonres_price4_x', y= 'nonres_price4_y', figsize=(12,8), s=16, xlim=(0,500), ylim=(0,500))"
   ]
  },
  {
   "cell_type": "code",
   "execution_count": 104,
   "metadata": {},
   "outputs": [
    {
     "data": {
      "text/plain": [
       "<matplotlib.axes._subplots.AxesSubplot at 0x14ebaec5b38>"
      ]
     },
     "execution_count": 104,
     "metadata": {},
     "output_type": "execute_result"
    },
    {
     "data": {
      "image/png": "[encoded data removed]",
      "text/plain": [
       "<Figure size 864x576 with 1 Axes>"
      ]
     },
     "metadata": {
      "needs_background": "light"
     },
     "output_type": "display_data"
    }
   ],
   "source": [
    "merged.plot.scatter(x='res_price1_x', y= 'res_price1_y', figsize=(12,8), s=16, xlim=(0,200), ylim=(0,200))"
   ]
  },
  {
   "cell_type": "code",
   "execution_count": 105,
   "metadata": {},
   "outputs": [
    {
     "data": {
      "text/plain": [
       "<matplotlib.axes._subplots.AxesSubplot at 0x14eb64f6f60>"
      ]
     },
     "execution_count": 105,
     "metadata": {},
     "output_type": "execute_result"
    },
    {
     "data": {
      "image/png": "[encoded data removed]",
      "text/plain": [
       "<Figure size 864x576 with 1 Axes>"
      ]
     },
     "metadata": {
      "needs_background": "light"
     },
     "output_type": "display_data"
    }
   ],
   "source": [
    "merged.plot.scatter(x='population_x', y= 'population_y', figsize=(12,8), s=16, xlim=(0,200), ylim=(0,200))"
   ]
  },
  {
   "cell_type": "code",
   "execution_count": 106,
   "metadata": {},
   "outputs": [
    {
     "data": {
      "text/plain": [
       "<matplotlib.axes._subplots.AxesSubplot at 0x14eb74660f0>"
      ]
     },
     "execution_count": 106,
     "metadata": {},
     "output_type": "execute_result"
    },
    {
     "data": {
      "image/png": "[encoded data removed]",
      "text/plain": [
       "<Figure size 864x576 with 1 Axes>"
      ]
     },
     "metadata": {
      "needs_background": "light"
     },
     "output_type": "display_data"
    }
   ],
   "source": [
    "merged.plot.scatter(x='households_x', y= 'households_y', figsize=(12,8), s=16, xlim=(0,200), ylim=(0,200))"
   ]
  }
 ],
 "metadata": {
  "kernelspec": {
   "display_name": "Python 3",
   "language": "python",
   "name": "python3"
  },
  "language_info": {
   "codemirror_mode": {
    "name": "ipython",
    "version": 3
   },
   "file_extension": ".py",
   "mimetype": "text/x-python",
   "name": "python",
   "nbconvert_exporter": "python",
   "pygments_lexer": "ipython3",
   "version": "3.6.10"
  }
 },
 "nbformat": 4,
 "nbformat_minor": 4
}
