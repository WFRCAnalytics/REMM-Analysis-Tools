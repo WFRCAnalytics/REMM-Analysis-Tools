{
 "cells": [
  {
   "cell_type": "markdown",
   "metadata": {},
   "source": [
    "## Updating Attribute Names in Base-Year Table\n",
    "Example:Updating CountyID or CID to CO_FIPS"
   ]
  },
  {
   "cell_type": "code",
   "execution_count": 1,
   "metadata": {},
   "outputs": [],
   "source": [
    "import os\n",
    "import sys\n",
    "import time\n",
    "import pandas as pd"
   ]
  },
  {
   "cell_type": "code",
   "execution_count": 2,
   "metadata": {},
   "outputs": [],
   "source": [
    "# show all columns\n",
    "pd.options.display.max_columns = None"
   ]
  },
  {
   "cell_type": "code",
   "execution_count": 3,
   "metadata": {},
   "outputs": [
    {
     "data": {
      "text/plain": [
       "['/buildings',\n",
       " '/buildings_for_estimation',\n",
       " '/buildings_for_estimation_grouped',\n",
       " '/households',\n",
       " '/households_for_estimation',\n",
       " '/jobs',\n",
       " '/parcels',\n",
       " '/zoning',\n",
       " '/zoning_baseline',\n",
       " '/zoning_for_parcels']"
      ]
     },
     "execution_count": 3,
     "metadata": {},
     "output_type": "execute_result"
    }
   ],
   "source": [
    "# Read in hdf5 \n",
    "store = pd.HDFStore('.\\\\Inputs\\\\remm_data_2015_base_year_10152020.h5')\n",
    "tables = list(store.keys())\n",
    "tables"
   ]
  },
  {
   "cell_type": "code",
   "execution_count": 4,
   "metadata": {},
   "outputs": [
    {
     "data": {
      "text/plain": [
       "Index(['building_sqft', 'building_type_id', 'non_residential_sqft', 'note',\n",
       "       'parcel_id', 'residential_units', 'stories',\n",
       "       'unit_price_non_residential', 'year_built', 'res_price_per_sqft',\n",
       "       'job_spaces'],\n",
       "      dtype='object')"
      ]
     },
     "execution_count": 4,
     "metadata": {},
     "output_type": "execute_result"
    }
   ],
   "source": [
    "store['buildings'].columns"
   ]
  },
  {
   "cell_type": "code",
   "execution_count": 5,
   "metadata": {},
   "outputs": [
    {
     "data": {
      "text/plain": [
       "Index(['parcel_id', 'objectid', 'id', 'building_type_id', 'improvement_value',\n",
       "       'residential_units', 'non_residential_sqft', 'year_built',\n",
       "       'unit_price_residential', 'unit_price_non_residential', 'stories',\n",
       "       'building_sqft', 'sale_lease', 'trans_year', 'actual_r_1'],\n",
       "      dtype='object')"
      ]
     },
     "execution_count": 5,
     "metadata": {},
     "output_type": "execute_result"
    }
   ],
   "source": [
    "store['buildings_for_estimation'].columns"
   ]
  },
  {
   "cell_type": "code",
   "execution_count": 6,
   "metadata": {},
   "outputs": [
    {
     "data": {
      "text/plain": [
       "Index(['improvement_value', 'parcel_id', 'non_residential_sqft',\n",
       "       'building_type_id', 'year_built', 'sale_lease', 'lease_type',\n",
       "       'trans_year', 'residential_units', 'unit_price_residential',\n",
       "       'unit_price_non_residential', 'stories', 'building_sqft'],\n",
       "      dtype='object')"
      ]
     },
     "execution_count": 6,
     "metadata": {},
     "output_type": "execute_result"
    }
   ],
   "source": [
    "store['buildings_for_estimation_grouped'].columns"
   ]
  },
  {
   "cell_type": "code",
   "execution_count": 7,
   "metadata": {},
   "outputs": [
    {
     "data": {
      "text/plain": [
       "Index(['household_id', 'cars', 'household_type_id', 'persons', 'income',\n",
       "       'workers', 'children', 'age_of_head', 'race_id', 'familyhh', 'block_id',\n",
       "       'cid', 'building_id'],\n",
       "      dtype='object')"
      ]
     },
     "execution_count": 7,
     "metadata": {},
     "output_type": "execute_result"
    }
   ],
   "source": [
    "store['households'].columns"
   ]
  },
  {
   "cell_type": "code",
   "execution_count": 8,
   "metadata": {},
   "outputs": [
    {
     "data": {
      "text/plain": [
       "Index(['cars', 'household_type_id', 'persons', 'income', 'workers', 'children',\n",
       "       'tenure', 'recent_mover', 'building_type_id', 'block_id', 'building_id',\n",
       "       'proportion_workers', 'zone_id', 'parcel_id', 'node_id',\n",
       "       'income_quartile', 'county_id'],\n",
       "      dtype='object')"
      ]
     },
     "execution_count": 8,
     "metadata": {},
     "output_type": "execute_result"
    }
   ],
   "source": [
    "store['households_for_estimation'].columns"
   ]
  },
  {
   "cell_type": "code",
   "execution_count": 9,
   "metadata": {},
   "outputs": [
    {
     "data": {
      "text/plain": [
       "Index(['sector_id', 'building_id', 'cid'], dtype='object')"
      ]
     },
     "execution_count": 9,
     "metadata": {},
     "output_type": "execute_result"
    }
   ],
   "source": [
    "store['jobs'].columns"
   ]
  },
  {
   "cell_type": "code",
   "execution_count": 10,
   "metadata": {},
   "outputs": [
    {
     "data": {
      "text/plain": [
       "Index(['county_id', 'zone_id', 'parcel_acres', 'land_value', 'x', 'y',\n",
       "       'elevation', 'fwy_exit', 'airport', 'rail_depot', 'stream', 'trail',\n",
       "       'university', 'shape_area', 'volume_one_way', 'volume_two_way',\n",
       "       'airport_distance', 'fwy_exit_dist', 'raildepot_dist',\n",
       "       'university_dist', 'trail_dist', 'stream_dist', 'train_station',\n",
       "       'rail_stn_dist', 'bus_rte_dist', 'bus_stop', 'bus_stop_dist',\n",
       "       'volume_two_way_nofwy', 'distsml_id', 'distmed_id', 'distlrg_id',\n",
       "       'parent_parcel', 'CO_NAME', 'parcel_id_REMM', 'county_taz_id', 'utmxi',\n",
       "       'utmyi', 'city', 'zonal_ppa', 'cid_old'],\n",
       "      dtype='object')"
      ]
     },
     "execution_count": 10,
     "metadata": {},
     "output_type": "execute_result"
    }
   ],
   "source": [
    "store['parcels'].columns"
   ]
  },
  {
   "cell_type": "code",
   "execution_count": 11,
   "metadata": {},
   "outputs": [
    {
     "data": {
      "text/plain": [
       "Index(['name', 'min_far', 'max_height', 'min_front_setback', 'side_setback',\n",
       "       'rear_setback', 'city', 'max_far', 'max_front_setback', 'min_dua',\n",
       "       'max_dua', 'coverage', 'max_du_per_parcel', 'min_lot_size', 'id_class',\n",
       "       'city_name', 'type1', 'type2', 'type3', 'type4', 'type5', 'type6',\n",
       "       'type7', 'type8'],\n",
       "      dtype='object')"
      ]
     },
     "execution_count": 11,
     "metadata": {},
     "output_type": "execute_result"
    }
   ],
   "source": [
    "store['zoning'].columns"
   ]
  },
  {
   "cell_type": "code",
   "execution_count": 12,
   "metadata": {},
   "outputs": [
    {
     "data": {
      "text/plain": [
       "Index(['max_dua', 'max_far', 'type1', 'type2', 'type3', 'type4', 'type5',\n",
       "       'type6', 'type7', 'type8', 'max_height'],\n",
       "      dtype='object')"
      ]
     },
     "execution_count": 12,
     "metadata": {},
     "output_type": "execute_result"
    }
   ],
   "source": [
    "store['zoning_baseline'].columns"
   ]
  },
  {
   "cell_type": "code",
   "execution_count": 13,
   "metadata": {},
   "outputs": [
    {
     "data": {
      "text/plain": [
       "Index(['zoning'], dtype='object')"
      ]
     },
     "execution_count": 13,
     "metadata": {},
     "output_type": "execute_result"
    }
   ],
   "source": [
    "store['zoning_for_parcels'].columns"
   ]
  },
  {
   "cell_type": "markdown",
   "metadata": {},
   "source": [
    "## Listing tables to update\n",
    "- households\n",
    "- households_for_estimation\n",
    "- jobs\n",
    "- parcels"
   ]
  },
  {
   "cell_type": "code",
   "execution_count": 14,
   "metadata": {},
   "outputs": [],
   "source": [
    "households = store['households']\n",
    "households_for_estimation = store['households_for_estimation']\n",
    "jobs = store['jobs']\n",
    "parcels = store['parcels']"
   ]
  },
  {
   "cell_type": "code",
   "execution_count": 15,
   "metadata": {},
   "outputs": [],
   "source": [
    "def RenameAttribute(dataframe,incolumns,outcolumn):\n",
    "    for column in incolumns:\n",
    "        if column in list(dataframe.columns):\n",
    "            dataframe.rename(columns={column:outcolumn},inplace=True)\n",
    "        else:\n",
    "            print('{} Is not applicable'.format(column)) \n",
    "    "
   ]
  },
  {
   "cell_type": "code",
   "execution_count": 16,
   "metadata": {},
   "outputs": [
    {
     "name": "stdout",
     "output_type": "stream",
     "text": [
      "county_id Is not applicable\n"
     ]
    }
   ],
   "source": [
    "RenameAttribute(households,['cid','county_id'],'CO_FIPS')"
   ]
  },
  {
   "cell_type": "code",
   "execution_count": 17,
   "metadata": {},
   "outputs": [
    {
     "data": {
      "text/html": [
       "<div>\n",
       "<style scoped>\n",
       "    .dataframe tbody tr th:only-of-type {\n",
       "        vertical-align: middle;\n",
       "    }\n",
       "\n",
       "    .dataframe tbody tr th {\n",
       "        vertical-align: top;\n",
       "    }\n",
       "\n",
       "    .dataframe thead th {\n",
       "        text-align: right;\n",
       "    }\n",
       "</style>\n",
       "<table border=\"1\" class=\"dataframe\">\n",
       "  <thead>\n",
       "    <tr style=\"text-align: right;\">\n",
       "      <th></th>\n",
       "      <th>household_id</th>\n",
       "      <th>cars</th>\n",
       "      <th>household_type_id</th>\n",
       "      <th>persons</th>\n",
       "      <th>income</th>\n",
       "      <th>workers</th>\n",
       "      <th>children</th>\n",
       "      <th>age_of_head</th>\n",
       "      <th>race_id</th>\n",
       "      <th>familyhh</th>\n",
       "      <th>block_id</th>\n",
       "      <th>CO_FIPS</th>\n",
       "      <th>building_id</th>\n",
       "    </tr>\n",
       "  </thead>\n",
       "  <tbody>\n",
       "    <tr>\n",
       "      <th>0</th>\n",
       "      <td>48</td>\n",
       "      <td>2</td>\n",
       "      <td>1</td>\n",
       "      <td>2</td>\n",
       "      <td>27356.53846</td>\n",
       "      <td>2</td>\n",
       "      <td>0</td>\n",
       "      <td>20</td>\n",
       "      <td>2</td>\n",
       "      <td>1</td>\n",
       "      <td>4443</td>\n",
       "      <td>11</td>\n",
       "      <td>14091</td>\n",
       "    </tr>\n",
       "    <tr>\n",
       "      <th>1</th>\n",
       "      <td>110</td>\n",
       "      <td>1</td>\n",
       "      <td>1</td>\n",
       "      <td>2</td>\n",
       "      <td>22795.18946</td>\n",
       "      <td>2</td>\n",
       "      <td>0</td>\n",
       "      <td>21</td>\n",
       "      <td>1</td>\n",
       "      <td>1</td>\n",
       "      <td>1592</td>\n",
       "      <td>11</td>\n",
       "      <td>81576</td>\n",
       "    </tr>\n",
       "    <tr>\n",
       "      <th>2</th>\n",
       "      <td>111</td>\n",
       "      <td>1</td>\n",
       "      <td>1</td>\n",
       "      <td>2</td>\n",
       "      <td>21871.72308</td>\n",
       "      <td>2</td>\n",
       "      <td>0</td>\n",
       "      <td>21</td>\n",
       "      <td>1</td>\n",
       "      <td>1</td>\n",
       "      <td>2230</td>\n",
       "      <td>11</td>\n",
       "      <td>112533</td>\n",
       "    </tr>\n",
       "    <tr>\n",
       "      <th>3</th>\n",
       "      <td>112</td>\n",
       "      <td>1</td>\n",
       "      <td>1</td>\n",
       "      <td>2</td>\n",
       "      <td>22795.18946</td>\n",
       "      <td>2</td>\n",
       "      <td>0</td>\n",
       "      <td>21</td>\n",
       "      <td>1</td>\n",
       "      <td>1</td>\n",
       "      <td>2745</td>\n",
       "      <td>11</td>\n",
       "      <td>425457</td>\n",
       "    </tr>\n",
       "    <tr>\n",
       "      <th>4</th>\n",
       "      <td>113</td>\n",
       "      <td>1</td>\n",
       "      <td>1</td>\n",
       "      <td>2</td>\n",
       "      <td>26076.39344</td>\n",
       "      <td>2</td>\n",
       "      <td>0</td>\n",
       "      <td>21</td>\n",
       "      <td>1</td>\n",
       "      <td>1</td>\n",
       "      <td>3110</td>\n",
       "      <td>11</td>\n",
       "      <td>41442</td>\n",
       "    </tr>\n",
       "  </tbody>\n",
       "</table>\n",
       "</div>"
      ],
      "text/plain": [
       "   household_id  cars  household_type_id  persons       income  workers  \\\n",
       "0            48     2                  1        2  27356.53846        2   \n",
       "1           110     1                  1        2  22795.18946        2   \n",
       "2           111     1                  1        2  21871.72308        2   \n",
       "3           112     1                  1        2  22795.18946        2   \n",
       "4           113     1                  1        2  26076.39344        2   \n",
       "\n",
       "   children  age_of_head  race_id  familyhh  block_id  CO_FIPS  building_id  \n",
       "0         0           20        2         1      4443       11        14091  \n",
       "1         0           21        1         1      1592       11        81576  \n",
       "2         0           21        1         1      2230       11       112533  \n",
       "3         0           21        1         1      2745       11       425457  \n",
       "4         0           21        1         1      3110       11        41442  "
      ]
     },
     "execution_count": 17,
     "metadata": {},
     "output_type": "execute_result"
    }
   ],
   "source": [
    "households.head()"
   ]
  },
  {
   "cell_type": "code",
   "execution_count": 18,
   "metadata": {},
   "outputs": [
    {
     "name": "stdout",
     "output_type": "stream",
     "text": [
      "cid Is not applicable\n"
     ]
    },
    {
     "data": {
      "text/html": [
       "<div>\n",
       "<style scoped>\n",
       "    .dataframe tbody tr th:only-of-type {\n",
       "        vertical-align: middle;\n",
       "    }\n",
       "\n",
       "    .dataframe tbody tr th {\n",
       "        vertical-align: top;\n",
       "    }\n",
       "\n",
       "    .dataframe thead th {\n",
       "        text-align: right;\n",
       "    }\n",
       "</style>\n",
       "<table border=\"1\" class=\"dataframe\">\n",
       "  <thead>\n",
       "    <tr style=\"text-align: right;\">\n",
       "      <th></th>\n",
       "      <th>cars</th>\n",
       "      <th>household_type_id</th>\n",
       "      <th>persons</th>\n",
       "      <th>income</th>\n",
       "      <th>workers</th>\n",
       "      <th>children</th>\n",
       "      <th>tenure</th>\n",
       "      <th>recent_mover</th>\n",
       "      <th>building_type_id</th>\n",
       "      <th>block_id</th>\n",
       "      <th>building_id</th>\n",
       "      <th>proportion_workers</th>\n",
       "      <th>zone_id</th>\n",
       "      <th>parcel_id</th>\n",
       "      <th>node_id</th>\n",
       "      <th>income_quartile</th>\n",
       "      <th>CO_FIPS</th>\n",
       "    </tr>\n",
       "    <tr>\n",
       "      <th>household_id</th>\n",
       "      <th></th>\n",
       "      <th></th>\n",
       "      <th></th>\n",
       "      <th></th>\n",
       "      <th></th>\n",
       "      <th></th>\n",
       "      <th></th>\n",
       "      <th></th>\n",
       "      <th></th>\n",
       "      <th></th>\n",
       "      <th></th>\n",
       "      <th></th>\n",
       "      <th></th>\n",
       "      <th></th>\n",
       "      <th></th>\n",
       "      <th></th>\n",
       "      <th></th>\n",
       "    </tr>\n",
       "  </thead>\n",
       "  <tbody>\n",
       "    <tr>\n",
       "      <th>85</th>\n",
       "      <td>2</td>\n",
       "      <td>1</td>\n",
       "      <td>2</td>\n",
       "      <td>87500</td>\n",
       "      <td>2</td>\n",
       "      <td>0</td>\n",
       "      <td>2</td>\n",
       "      <td>1</td>\n",
       "      <td>1</td>\n",
       "      <td>17049</td>\n",
       "      <td>259924</td>\n",
       "      <td>1.000000</td>\n",
       "      <td>1074</td>\n",
       "      <td>152309</td>\n",
       "      <td>6119734</td>\n",
       "      <td>3</td>\n",
       "      <td>35</td>\n",
       "    </tr>\n",
       "    <tr>\n",
       "      <th>86</th>\n",
       "      <td>3</td>\n",
       "      <td>1</td>\n",
       "      <td>3</td>\n",
       "      <td>-1</td>\n",
       "      <td>3</td>\n",
       "      <td>0</td>\n",
       "      <td>2</td>\n",
       "      <td>0</td>\n",
       "      <td>1</td>\n",
       "      <td>6857</td>\n",
       "      <td>440101</td>\n",
       "      <td>1.000000</td>\n",
       "      <td>1607</td>\n",
       "      <td>347510</td>\n",
       "      <td>52501442</td>\n",
       "      <td>1</td>\n",
       "      <td>35</td>\n",
       "    </tr>\n",
       "    <tr>\n",
       "      <th>87</th>\n",
       "      <td>2</td>\n",
       "      <td>2</td>\n",
       "      <td>4</td>\n",
       "      <td>42500</td>\n",
       "      <td>2</td>\n",
       "      <td>2</td>\n",
       "      <td>2</td>\n",
       "      <td>0</td>\n",
       "      <td>1</td>\n",
       "      <td>13832</td>\n",
       "      <td>321465</td>\n",
       "      <td>0.500000</td>\n",
       "      <td>1095</td>\n",
       "      <td>224414</td>\n",
       "      <td>30362517</td>\n",
       "      <td>2</td>\n",
       "      <td>35</td>\n",
       "    </tr>\n",
       "    <tr>\n",
       "      <th>88</th>\n",
       "      <td>3</td>\n",
       "      <td>1</td>\n",
       "      <td>3</td>\n",
       "      <td>125000</td>\n",
       "      <td>2</td>\n",
       "      <td>0</td>\n",
       "      <td>2</td>\n",
       "      <td>0</td>\n",
       "      <td>1</td>\n",
       "      <td>4031</td>\n",
       "      <td>83948</td>\n",
       "      <td>0.666667</td>\n",
       "      <td>379</td>\n",
       "      <td>390199</td>\n",
       "      <td>6082196</td>\n",
       "      <td>4</td>\n",
       "      <td>35</td>\n",
       "    </tr>\n",
       "    <tr>\n",
       "      <th>89</th>\n",
       "      <td>2</td>\n",
       "      <td>2</td>\n",
       "      <td>5</td>\n",
       "      <td>87500</td>\n",
       "      <td>2</td>\n",
       "      <td>3</td>\n",
       "      <td>2</td>\n",
       "      <td>0</td>\n",
       "      <td>1</td>\n",
       "      <td>8950</td>\n",
       "      <td>221670</td>\n",
       "      <td>0.400000</td>\n",
       "      <td>1123</td>\n",
       "      <td>106020</td>\n",
       "      <td>6146478</td>\n",
       "      <td>3</td>\n",
       "      <td>11</td>\n",
       "    </tr>\n",
       "  </tbody>\n",
       "</table>\n",
       "</div>"
      ],
      "text/plain": [
       "              cars  household_type_id  persons  income  workers  children  \\\n",
       "household_id                                                                \n",
       "85               2                  1        2   87500        2         0   \n",
       "86               3                  1        3      -1        3         0   \n",
       "87               2                  2        4   42500        2         2   \n",
       "88               3                  1        3  125000        2         0   \n",
       "89               2                  2        5   87500        2         3   \n",
       "\n",
       "              tenure  recent_mover  building_type_id  block_id  building_id  \\\n",
       "household_id                                                                  \n",
       "85                 2             1                 1     17049       259924   \n",
       "86                 2             0                 1      6857       440101   \n",
       "87                 2             0                 1     13832       321465   \n",
       "88                 2             0                 1      4031        83948   \n",
       "89                 2             0                 1      8950       221670   \n",
       "\n",
       "              proportion_workers  zone_id  parcel_id   node_id  \\\n",
       "household_id                                                     \n",
       "85                      1.000000     1074     152309   6119734   \n",
       "86                      1.000000     1607     347510  52501442   \n",
       "87                      0.500000     1095     224414  30362517   \n",
       "88                      0.666667      379     390199   6082196   \n",
       "89                      0.400000     1123     106020   6146478   \n",
       "\n",
       "              income_quartile  CO_FIPS  \n",
       "household_id                            \n",
       "85                          3       35  \n",
       "86                          1       35  \n",
       "87                          2       35  \n",
       "88                          4       35  \n",
       "89                          3       11  "
      ]
     },
     "execution_count": 18,
     "metadata": {},
     "output_type": "execute_result"
    }
   ],
   "source": [
    "RenameAttribute(households_for_estimation,['cid','county_id'],'CO_FIPS')\n",
    "households_for_estimation.head()"
   ]
  },
  {
   "cell_type": "code",
   "execution_count": 19,
   "metadata": {},
   "outputs": [
    {
     "name": "stdout",
     "output_type": "stream",
     "text": [
      "county_id Is not applicable\n"
     ]
    },
    {
     "data": {
      "text/html": [
       "<div>\n",
       "<style scoped>\n",
       "    .dataframe tbody tr th:only-of-type {\n",
       "        vertical-align: middle;\n",
       "    }\n",
       "\n",
       "    .dataframe tbody tr th {\n",
       "        vertical-align: top;\n",
       "    }\n",
       "\n",
       "    .dataframe thead th {\n",
       "        text-align: right;\n",
       "    }\n",
       "</style>\n",
       "<table border=\"1\" class=\"dataframe\">\n",
       "  <thead>\n",
       "    <tr style=\"text-align: right;\">\n",
       "      <th></th>\n",
       "      <th>sector_id</th>\n",
       "      <th>building_id</th>\n",
       "      <th>CO_FIPS</th>\n",
       "    </tr>\n",
       "    <tr>\n",
       "      <th>jobs_id</th>\n",
       "      <th></th>\n",
       "      <th></th>\n",
       "      <th></th>\n",
       "    </tr>\n",
       "  </thead>\n",
       "  <tbody>\n",
       "    <tr>\n",
       "      <th>89859</th>\n",
       "      <td>1</td>\n",
       "      <td>741332</td>\n",
       "      <td>11</td>\n",
       "    </tr>\n",
       "    <tr>\n",
       "      <th>89860</th>\n",
       "      <td>1</td>\n",
       "      <td>741332</td>\n",
       "      <td>11</td>\n",
       "    </tr>\n",
       "    <tr>\n",
       "      <th>89861</th>\n",
       "      <td>1</td>\n",
       "      <td>741332</td>\n",
       "      <td>11</td>\n",
       "    </tr>\n",
       "    <tr>\n",
       "      <th>89862</th>\n",
       "      <td>1</td>\n",
       "      <td>741332</td>\n",
       "      <td>11</td>\n",
       "    </tr>\n",
       "    <tr>\n",
       "      <th>89863</th>\n",
       "      <td>1</td>\n",
       "      <td>741333</td>\n",
       "      <td>11</td>\n",
       "    </tr>\n",
       "  </tbody>\n",
       "</table>\n",
       "</div>"
      ],
      "text/plain": [
       "         sector_id  building_id  CO_FIPS\n",
       "jobs_id                                 \n",
       "89859            1       741332       11\n",
       "89860            1       741332       11\n",
       "89861            1       741332       11\n",
       "89862            1       741332       11\n",
       "89863            1       741333       11"
      ]
     },
     "execution_count": 19,
     "metadata": {},
     "output_type": "execute_result"
    }
   ],
   "source": [
    "RenameAttribute(jobs,['cid','county_id'],'CO_FIPS')\n",
    "jobs.head()"
   ]
  },
  {
   "cell_type": "code",
   "execution_count": 20,
   "metadata": {},
   "outputs": [
    {
     "name": "stdout",
     "output_type": "stream",
     "text": [
      "cid Is not applicable\n"
     ]
    },
    {
     "data": {
      "text/html": [
       "<div>\n",
       "<style scoped>\n",
       "    .dataframe tbody tr th:only-of-type {\n",
       "        vertical-align: middle;\n",
       "    }\n",
       "\n",
       "    .dataframe tbody tr th {\n",
       "        vertical-align: top;\n",
       "    }\n",
       "\n",
       "    .dataframe thead th {\n",
       "        text-align: right;\n",
       "    }\n",
       "</style>\n",
       "<table border=\"1\" class=\"dataframe\">\n",
       "  <thead>\n",
       "    <tr style=\"text-align: right;\">\n",
       "      <th></th>\n",
       "      <th>CO_FIPS</th>\n",
       "      <th>zone_id</th>\n",
       "      <th>parcel_acres</th>\n",
       "      <th>land_value</th>\n",
       "      <th>x</th>\n",
       "      <th>y</th>\n",
       "      <th>elevation</th>\n",
       "      <th>fwy_exit</th>\n",
       "      <th>airport</th>\n",
       "      <th>rail_depot</th>\n",
       "      <th>stream</th>\n",
       "      <th>trail</th>\n",
       "      <th>university</th>\n",
       "      <th>shape_area</th>\n",
       "      <th>volume_one_way</th>\n",
       "      <th>volume_two_way</th>\n",
       "      <th>airport_distance</th>\n",
       "      <th>fwy_exit_dist</th>\n",
       "      <th>raildepot_dist</th>\n",
       "      <th>university_dist</th>\n",
       "      <th>trail_dist</th>\n",
       "      <th>stream_dist</th>\n",
       "      <th>train_station</th>\n",
       "      <th>rail_stn_dist</th>\n",
       "      <th>bus_rte_dist</th>\n",
       "      <th>bus_stop</th>\n",
       "      <th>bus_stop_dist</th>\n",
       "      <th>volume_two_way_nofwy</th>\n",
       "      <th>distsml_id</th>\n",
       "      <th>distmed_id</th>\n",
       "      <th>distlrg_id</th>\n",
       "      <th>parent_parcel</th>\n",
       "      <th>CO_NAME</th>\n",
       "      <th>parcel_id_REMM</th>\n",
       "      <th>county_taz_id</th>\n",
       "      <th>utmxi</th>\n",
       "      <th>utmyi</th>\n",
       "      <th>city</th>\n",
       "      <th>zonal_ppa</th>\n",
       "      <th>cid_old</th>\n",
       "    </tr>\n",
       "    <tr>\n",
       "      <th>parcel_id</th>\n",
       "      <th></th>\n",
       "      <th></th>\n",
       "      <th></th>\n",
       "      <th></th>\n",
       "      <th></th>\n",
       "      <th></th>\n",
       "      <th></th>\n",
       "      <th></th>\n",
       "      <th></th>\n",
       "      <th></th>\n",
       "      <th></th>\n",
       "      <th></th>\n",
       "      <th></th>\n",
       "      <th></th>\n",
       "      <th></th>\n",
       "      <th></th>\n",
       "      <th></th>\n",
       "      <th></th>\n",
       "      <th></th>\n",
       "      <th></th>\n",
       "      <th></th>\n",
       "      <th></th>\n",
       "      <th></th>\n",
       "      <th></th>\n",
       "      <th></th>\n",
       "      <th></th>\n",
       "      <th></th>\n",
       "      <th></th>\n",
       "      <th></th>\n",
       "      <th></th>\n",
       "      <th></th>\n",
       "      <th></th>\n",
       "      <th></th>\n",
       "      <th></th>\n",
       "      <th></th>\n",
       "      <th></th>\n",
       "      <th></th>\n",
       "      <th></th>\n",
       "      <th></th>\n",
       "      <th></th>\n",
       "    </tr>\n",
       "  </thead>\n",
       "  <tbody>\n",
       "    <tr>\n",
       "      <th>741871</th>\n",
       "      <td>49</td>\n",
       "      <td>2111</td>\n",
       "      <td>0.197968</td>\n",
       "      <td>35700.00</td>\n",
       "      <td>1531239.186</td>\n",
       "      <td>7330722.151</td>\n",
       "      <td>1447.537450</td>\n",
       "      <td>0.0</td>\n",
       "      <td>0.0</td>\n",
       "      <td>0.0</td>\n",
       "      <td>1.0</td>\n",
       "      <td>0.0</td>\n",
       "      <td>0.0</td>\n",
       "      <td>8.623484e+03</td>\n",
       "      <td>992.0</td>\n",
       "      <td>1942.0</td>\n",
       "      <td>18.02655</td>\n",
       "      <td>0.85831</td>\n",
       "      <td>12.61234</td>\n",
       "      <td>14.73993</td>\n",
       "      <td>0.09764</td>\n",
       "      <td>0.0</td>\n",
       "      <td>0.0</td>\n",
       "      <td>8.748286</td>\n",
       "      <td>2382.31</td>\n",
       "      <td>0.0</td>\n",
       "      <td>0.882466</td>\n",
       "      <td>1942.0</td>\n",
       "      <td>487</td>\n",
       "      <td>38</td>\n",
       "      <td>13</td>\n",
       "      <td>741871</td>\n",
       "      <td>UTAH</td>\n",
       "      <td>741871</td>\n",
       "      <td>492111</td>\n",
       "      <td>424331.7633</td>\n",
       "      <td>4477427.732</td>\n",
       "      <td>Lehi</td>\n",
       "      <td>176926.527483</td>\n",
       "      <td>4</td>\n",
       "    </tr>\n",
       "    <tr>\n",
       "      <th>579822</th>\n",
       "      <td>49</td>\n",
       "      <td>2873</td>\n",
       "      <td>37.717834</td>\n",
       "      <td>56614.32</td>\n",
       "      <td>1535437.548</td>\n",
       "      <td>7341595.932</td>\n",
       "      <td>1657.284652</td>\n",
       "      <td>0.0</td>\n",
       "      <td>0.0</td>\n",
       "      <td>0.0</td>\n",
       "      <td>1.0</td>\n",
       "      <td>0.0</td>\n",
       "      <td>0.0</td>\n",
       "      <td>1.642989e+06</td>\n",
       "      <td>3564.0</td>\n",
       "      <td>7135.0</td>\n",
       "      <td>19.48828</td>\n",
       "      <td>1.32984</td>\n",
       "      <td>10.63629</td>\n",
       "      <td>15.94851</td>\n",
       "      <td>0.23207</td>\n",
       "      <td>0.0</td>\n",
       "      <td>0.0</td>\n",
       "      <td>6.691816</td>\n",
       "      <td>4930.50</td>\n",
       "      <td>0.0</td>\n",
       "      <td>1.164110</td>\n",
       "      <td>7135.0</td>\n",
       "      <td>0</td>\n",
       "      <td>0</td>\n",
       "      <td>0</td>\n",
       "      <td>579822</td>\n",
       "      <td>UTAH</td>\n",
       "      <td>579822</td>\n",
       "      <td>492873</td>\n",
       "      <td>425629.9856</td>\n",
       "      <td>4480733.739</td>\n",
       "      <td>Utah County</td>\n",
       "      <td>140869.334754</td>\n",
       "      <td>4</td>\n",
       "    </tr>\n",
       "    <tr>\n",
       "      <th>579853</th>\n",
       "      <td>49</td>\n",
       "      <td>2117</td>\n",
       "      <td>6.791235</td>\n",
       "      <td>81500.00</td>\n",
       "      <td>1534101.235</td>\n",
       "      <td>7334630.179</td>\n",
       "      <td>1657.284652</td>\n",
       "      <td>0.0</td>\n",
       "      <td>0.0</td>\n",
       "      <td>0.0</td>\n",
       "      <td>1.0</td>\n",
       "      <td>0.0</td>\n",
       "      <td>0.0</td>\n",
       "      <td>2.958262e+05</td>\n",
       "      <td>0.0</td>\n",
       "      <td>0.0</td>\n",
       "      <td>18.42054</td>\n",
       "      <td>1.66976</td>\n",
       "      <td>11.91035</td>\n",
       "      <td>15.00142</td>\n",
       "      <td>0.55081</td>\n",
       "      <td>0.0</td>\n",
       "      <td>0.0</td>\n",
       "      <td>7.994607</td>\n",
       "      <td>6770.95</td>\n",
       "      <td>0.0</td>\n",
       "      <td>1.661999</td>\n",
       "      <td>0.0</td>\n",
       "      <td>487</td>\n",
       "      <td>38</td>\n",
       "      <td>13</td>\n",
       "      <td>579853</td>\n",
       "      <td>UTAH</td>\n",
       "      <td>579853</td>\n",
       "      <td>492117</td>\n",
       "      <td>425210.6619</td>\n",
       "      <td>4478613.554</td>\n",
       "      <td>Lehi</td>\n",
       "      <td>199096.575130</td>\n",
       "      <td>4</td>\n",
       "    </tr>\n",
       "    <tr>\n",
       "      <th>640185</th>\n",
       "      <td>49</td>\n",
       "      <td>2073</td>\n",
       "      <td>1.372797</td>\n",
       "      <td>112100.00</td>\n",
       "      <td>1538253.186</td>\n",
       "      <td>7322787.258</td>\n",
       "      <td>1445.761763</td>\n",
       "      <td>0.0</td>\n",
       "      <td>0.0</td>\n",
       "      <td>0.0</td>\n",
       "      <td>1.0</td>\n",
       "      <td>0.0</td>\n",
       "      <td>0.0</td>\n",
       "      <td>5.979902e+04</td>\n",
       "      <td>2495.0</td>\n",
       "      <td>5043.0</td>\n",
       "      <td>16.06753</td>\n",
       "      <td>0.60111</td>\n",
       "      <td>14.23267</td>\n",
       "      <td>12.73670</td>\n",
       "      <td>0.04966</td>\n",
       "      <td>0.0</td>\n",
       "      <td>0.0</td>\n",
       "      <td>10.277766</td>\n",
       "      <td>2627.34</td>\n",
       "      <td>0.0</td>\n",
       "      <td>0.548186</td>\n",
       "      <td>5043.0</td>\n",
       "      <td>482</td>\n",
       "      <td>38</td>\n",
       "      <td>13</td>\n",
       "      <td>640185</td>\n",
       "      <td>UTAH</td>\n",
       "      <td>640185</td>\n",
       "      <td>492073</td>\n",
       "      <td>426455.1775</td>\n",
       "      <td>4474997.689</td>\n",
       "      <td>Lehi</td>\n",
       "      <td>169098.553773</td>\n",
       "      <td>4</td>\n",
       "    </tr>\n",
       "    <tr>\n",
       "      <th>682698</th>\n",
       "      <td>49</td>\n",
       "      <td>2119</td>\n",
       "      <td>0.163751</td>\n",
       "      <td>43000.00</td>\n",
       "      <td>1548648.398</td>\n",
       "      <td>7336198.043</td>\n",
       "      <td>1766.927829</td>\n",
       "      <td>0.0</td>\n",
       "      <td>0.0</td>\n",
       "      <td>0.0</td>\n",
       "      <td>1.0</td>\n",
       "      <td>0.0</td>\n",
       "      <td>0.0</td>\n",
       "      <td>7.132996e+03</td>\n",
       "      <td>3632.0</td>\n",
       "      <td>7133.0</td>\n",
       "      <td>17.61362</td>\n",
       "      <td>3.74880</td>\n",
       "      <td>12.20122</td>\n",
       "      <td>13.84603</td>\n",
       "      <td>0.37882</td>\n",
       "      <td>0.0</td>\n",
       "      <td>0.0</td>\n",
       "      <td>8.210217</td>\n",
       "      <td>9997.32</td>\n",
       "      <td>0.0</td>\n",
       "      <td>2.129948</td>\n",
       "      <td>7133.0</td>\n",
       "      <td>488</td>\n",
       "      <td>39</td>\n",
       "      <td>14</td>\n",
       "      <td>682698</td>\n",
       "      <td>UTAH</td>\n",
       "      <td>682698</td>\n",
       "      <td>492119</td>\n",
       "      <td>429646.0053</td>\n",
       "      <td>4479065.962</td>\n",
       "      <td>Draper</td>\n",
       "      <td>254583.603528</td>\n",
       "      <td>4</td>\n",
       "    </tr>\n",
       "  </tbody>\n",
       "</table>\n",
       "</div>"
      ],
      "text/plain": [
       "           CO_FIPS  zone_id  parcel_acres  land_value            x  \\\n",
       "parcel_id                                                            \n",
       "741871          49     2111      0.197968    35700.00  1531239.186   \n",
       "579822          49     2873     37.717834    56614.32  1535437.548   \n",
       "579853          49     2117      6.791235    81500.00  1534101.235   \n",
       "640185          49     2073      1.372797   112100.00  1538253.186   \n",
       "682698          49     2119      0.163751    43000.00  1548648.398   \n",
       "\n",
       "                     y    elevation  fwy_exit  airport  rail_depot  stream  \\\n",
       "parcel_id                                                                    \n",
       "741871     7330722.151  1447.537450       0.0      0.0         0.0     1.0   \n",
       "579822     7341595.932  1657.284652       0.0      0.0         0.0     1.0   \n",
       "579853     7334630.179  1657.284652       0.0      0.0         0.0     1.0   \n",
       "640185     7322787.258  1445.761763       0.0      0.0         0.0     1.0   \n",
       "682698     7336198.043  1766.927829       0.0      0.0         0.0     1.0   \n",
       "\n",
       "           trail  university    shape_area  volume_one_way  volume_two_way  \\\n",
       "parcel_id                                                                    \n",
       "741871       0.0         0.0  8.623484e+03           992.0          1942.0   \n",
       "579822       0.0         0.0  1.642989e+06          3564.0          7135.0   \n",
       "579853       0.0         0.0  2.958262e+05             0.0             0.0   \n",
       "640185       0.0         0.0  5.979902e+04          2495.0          5043.0   \n",
       "682698       0.0         0.0  7.132996e+03          3632.0          7133.0   \n",
       "\n",
       "           airport_distance  fwy_exit_dist  raildepot_dist  university_dist  \\\n",
       "parcel_id                                                                     \n",
       "741871             18.02655        0.85831        12.61234         14.73993   \n",
       "579822             19.48828        1.32984        10.63629         15.94851   \n",
       "579853             18.42054        1.66976        11.91035         15.00142   \n",
       "640185             16.06753        0.60111        14.23267         12.73670   \n",
       "682698             17.61362        3.74880        12.20122         13.84603   \n",
       "\n",
       "           trail_dist  stream_dist  train_station  rail_stn_dist  \\\n",
       "parcel_id                                                          \n",
       "741871        0.09764          0.0            0.0       8.748286   \n",
       "579822        0.23207          0.0            0.0       6.691816   \n",
       "579853        0.55081          0.0            0.0       7.994607   \n",
       "640185        0.04966          0.0            0.0      10.277766   \n",
       "682698        0.37882          0.0            0.0       8.210217   \n",
       "\n",
       "           bus_rte_dist  bus_stop  bus_stop_dist  volume_two_way_nofwy  \\\n",
       "parcel_id                                                                \n",
       "741871          2382.31       0.0       0.882466                1942.0   \n",
       "579822          4930.50       0.0       1.164110                7135.0   \n",
       "579853          6770.95       0.0       1.661999                   0.0   \n",
       "640185          2627.34       0.0       0.548186                5043.0   \n",
       "682698          9997.32       0.0       2.129948                7133.0   \n",
       "\n",
       "           distsml_id  distmed_id  distlrg_id  parent_parcel CO_NAME  \\\n",
       "parcel_id                                                              \n",
       "741871            487          38          13         741871    UTAH   \n",
       "579822              0           0           0         579822    UTAH   \n",
       "579853            487          38          13         579853    UTAH   \n",
       "640185            482          38          13         640185    UTAH   \n",
       "682698            488          39          14         682698    UTAH   \n",
       "\n",
       "           parcel_id_REMM  county_taz_id        utmxi        utmyi  \\\n",
       "parcel_id                                                            \n",
       "741871             741871         492111  424331.7633  4477427.732   \n",
       "579822             579822         492873  425629.9856  4480733.739   \n",
       "579853             579853         492117  425210.6619  4478613.554   \n",
       "640185             640185         492073  426455.1775  4474997.689   \n",
       "682698             682698         492119  429646.0053  4479065.962   \n",
       "\n",
       "                  city      zonal_ppa  cid_old  \n",
       "parcel_id                                       \n",
       "741871            Lehi  176926.527483        4  \n",
       "579822     Utah County  140869.334754        4  \n",
       "579853            Lehi  199096.575130        4  \n",
       "640185            Lehi  169098.553773        4  \n",
       "682698          Draper  254583.603528        4  "
      ]
     },
     "execution_count": 20,
     "metadata": {},
     "output_type": "execute_result"
    }
   ],
   "source": [
    "RenameAttribute(parcels,['cid','county_id'],'CO_FIPS')\n",
    "parcels.head()"
   ]
  },
  {
   "cell_type": "markdown",
   "metadata": {},
   "source": [
    "## Load Tables into New H5"
   ]
  },
  {
   "cell_type": "code",
   "execution_count": 21,
   "metadata": {},
   "outputs": [],
   "source": [
    "# store path for new hdf\n",
    "new_hdf = '.\\\\Outputs\\\\remm_data_2015_base_year_10282020.h5'\n",
    "\n",
    "# if it exists already delete it; it will not overwrite\n",
    "if os.path.exists(new_hdf):\n",
    "    try:\n",
    "        hdf.close()\n",
    "    except:\n",
    "        pass\n",
    "    \n",
    "    os.remove(new_hdf)\n",
    "\n",
    "# Create empty h5   \n",
    "hdf = pd.HDFStore(new_hdf) "
   ]
  },
  {
   "cell_type": "code",
   "execution_count": 22,
   "metadata": {},
   "outputs": [],
   "source": [
    "# load the new tables to the h5\n",
    "hdf.put('parcels', parcels, format='t', data_columns=True)\n",
    "hdf.put('jobs', jobs, format='t', data_columns=True)\n",
    "hdf.put('households', households, format='t', data_columns=True)\n",
    "hdf.put('households_for_estimation',households_for_estimation, format='t', data_columns=True)"
   ]
  },
  {
   "cell_type": "code",
   "execution_count": 23,
   "metadata": {},
   "outputs": [
    {
     "data": {
      "text/plain": [
       "['/buildings',\n",
       " '/buildings_for_estimation',\n",
       " '/buildings_for_estimation_grouped',\n",
       " '/households',\n",
       " '/households_for_estimation',\n",
       " '/jobs',\n",
       " '/parcels',\n",
       " '/zoning',\n",
       " '/zoning_baseline',\n",
       " '/zoning_for_parcels']"
      ]
     },
     "execution_count": 23,
     "metadata": {},
     "output_type": "execute_result"
    }
   ],
   "source": [
    "\n",
    "\n",
    "# load the unchanged tables to the h5\n",
    "hdf.put('buildings_for_estimation',store['buildings_for_estimation'], format='t', data_columns=True)\n",
    "\n",
    "hdf.put('buildings_for_estimation_grouped',store['buildings_for_estimation_grouped'], format='t', data_columns=True)\n",
    "\n",
    "hdf.put('buildings',store['buildings'], format='t', data_columns=True)\n",
    "\n",
    "hdf.put('zoning', store['zoning'], format='t', data_columns=True)\n",
    "\n",
    "hdf.put('zoning_baseline', store['zoning_baseline'], format='t', data_columns=True)\n",
    "\n",
    "hdf.put('zoning_for_parcels',store['zoning_for_parcels'], format='t', data_columns=True)\n",
    "\n",
    "tables = list(hdf.keys())\n",
    "tables\n"
   ]
  },
  {
   "cell_type": "code",
   "execution_count": 24,
   "metadata": {},
   "outputs": [],
   "source": [
    "hdf.close()"
   ]
  }
 ],
 "metadata": {
  "kernelspec": {
   "display_name": "joshpy3",
   "language": "python",
   "name": "joshpy3"
  },
  "language_info": {
   "codemirror_mode": {
    "name": "ipython",
    "version": 3
   },
   "file_extension": ".py",
   "mimetype": "text/x-python",
   "name": "python",
   "nbconvert_exporter": "python",
   "pygments_lexer": "ipython3",
   "version": "3.6.10"
  }
 },
 "nbformat": 4,
 "nbformat_minor": 4
}
