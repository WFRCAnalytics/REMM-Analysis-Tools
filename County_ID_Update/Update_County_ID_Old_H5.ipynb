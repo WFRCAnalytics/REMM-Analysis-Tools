{
 "cells": [
  {
   "cell_type": "markdown",
   "metadata": {},
   "source": [
    "## Import libraries"
   ]
  },
  {
   "cell_type": "code",
   "execution_count": 1,
   "metadata": {},
   "outputs": [],
   "source": [
    "import os\n",
    "import sys\n",
    "import time\n",
    "import pandas as pd\n",
    "import arcpy\n",
    "from arcgis.features import GeoAccessor, GeoSeriesAccessor"
   ]
  },
  {
   "cell_type": "code",
   "execution_count": 2,
   "metadata": {},
   "outputs": [],
   "source": [
    "# show all columns\n",
    "pd.options.display.max_columns = None"
   ]
  },
  {
   "cell_type": "markdown",
   "metadata": {},
   "source": [
    "## Load base year H5 and show all tables"
   ]
  },
  {
   "cell_type": "code",
   "execution_count": 3,
   "metadata": {},
   "outputs": [],
   "source": [
    "# # Read in hdf5 \n",
    "# store = pd.HDFStore('.\\\\Inputs\\\\remm_data_2015_base_year_02082019.h5')\n",
    "# tables = list(store.keys())\n",
    "# tables"
   ]
  },
  {
   "cell_type": "code",
   "execution_count": 4,
   "metadata": {},
   "outputs": [
    {
     "data": {
      "text/html": [
       "<style>\n",
       "table {float:left}\n",
       "</style>\n"
      ],
      "text/plain": [
       "<IPython.core.display.HTML object>"
      ]
     },
     "metadata": {},
     "output_type": "display_data"
    }
   ],
   "source": [
    "%%html\n",
    "<style>\n",
    "table {float:left}\n",
    "</style>"
   ]
  },
  {
   "cell_type": "markdown",
   "metadata": {},
   "source": [
    "## Crosswalk County IDs to County FIPS codes"
   ]
  },
  {
   "cell_type": "markdown",
   "metadata": {},
   "source": [
    "#### Tasks\n",
    "Updated County ID in following tables:\n",
    "- parcels\n",
    "- jobs\n",
    "- households\n",
    "- population_controls.csv\n",
    "- household_controls.csv\n",
    "- employment_controls.csv\n",
    "- tazctyeq.csv \n",
    "\n",
    "\n",
    "#### Files in h5 store that aren't being used by REMM\n",
    "- household_controls (csv file is used instead)\n",
    "- population_controls (csv file is used instead)\n",
    "- employment_controls (csv file is used instead)\n",
    "\n",
    "\n",
    "#### Identify parcels with 0 as county ID and identify their id (use TAZ)\n",
    "\n",
    "\n",
    " \n",
    " # Check Weber/Davis ids vs fips"
   ]
  },
  {
   "cell_type": "markdown",
   "metadata": {},
   "source": [
    "**Crosswalk Table**  \n",
    "\n",
    "| Name       | County_ID | CID  | TAZCTYEQ | FIPS |\n",
    "|------------|-----------|------|----------|------|\n",
    "| Box Elder  |   5       |  NA  |    5     |  3   |\n",
    "| Weber      |   3       |  3   |    1     |  57  |  \n",
    "| Davis      |   1       |  1   |    2     |  11  |\n",
    "| Salt Lake  |   2       |  2   |    3     |  35  |\n",
    "| Utah       |   4       |  4   |    4     |  49  |\n"
   ]
  },
  {
   "cell_type": "code",
   "execution_count": 5,
   "metadata": {},
   "outputs": [],
   "source": [
    "# Create crosswalk dictionary for county values\n",
    "crosswalk1 = {1:11, 2:35, 3:57, 4:49, 5:3, 0:0}\n",
    "\n",
    "# Create crosswalk for TAZCTYEQ csv\n",
    "crosswalk2 = {1:57, 3:35, 2:11, 4:49, 5:3, 0:0} "
   ]
  },
  {
   "cell_type": "markdown",
   "metadata": {},
   "source": [
    "### Work on parcels"
   ]
  },
  {
   "cell_type": "code",
   "execution_count": 6,
   "metadata": {},
   "outputs": [],
   "source": [
    "# get the parcels table from the store\n",
    "# parcels = store.get('parcels').reset_index()\n",
    "parcels = pd.read_csv(r\"E:\\Projects\\REMM-Analysis-Tools\\County_ID_Update\\Inputs_02282018\\parcels.csv\")\n",
    "parcels.head(5)\n",
    "parcels_converted = parcels.copy()\n",
    "parcels_converted['county_id'] = parcels_converted['county_id'].map(crosswalk1)\n",
    "del parcels_converted['Unnamed: 0']"
   ]
  },
  {
   "cell_type": "code",
   "execution_count": 7,
   "metadata": {},
   "outputs": [
    {
     "data": {
      "text/plain": [
       "35    368139\n",
       "49    250210\n",
       "11    113643\n",
       "57    109672\n",
       "0       3555\n",
       "Name: county_id, dtype: int64"
      ]
     },
     "execution_count": 7,
     "metadata": {},
     "output_type": "execute_result"
    }
   ],
   "source": [
    "# Temporarily crosswalk values and get a value count\n",
    "parcels['county_id'].map(crosswalk1).value_counts()"
   ]
  },
  {
   "cell_type": "code",
   "execution_count": 8,
   "metadata": {},
   "outputs": [],
   "source": [
    "# # read in parcels with county ids; 'parcel_id_' is 'parcel_id_REMM'; it was truncated\n",
    "# parcels_county = pd.DataFrame.spatial.from_featureclass('.\\\\Inputs\\\\parcels_county_id.shp')\n",
    "# parcels_county = parcels_county[['parcel_id_', 'FIPS']].copy()"
   ]
  },
  {
   "cell_type": "code",
   "execution_count": 9,
   "metadata": {},
   "outputs": [],
   "source": [
    "# print(parcels_county.shape)\n",
    "# print(parcels.shape)"
   ]
  },
  {
   "cell_type": "code",
   "execution_count": 10,
   "metadata": {},
   "outputs": [],
   "source": [
    "# # join resulting table back to original parcels table, keep new county fips column\n",
    "# parcels_converted = parcels.merge(parcels_county, left_on = 'parcel_id_REMM', right_on = 'parcel_id_' , how = 'inner')\n",
    "\n",
    "# # Store old cid for reference\n",
    "# parcels_converted['cid_old'] = parcels_converted['county_id']\n",
    "\n",
    "# # Replace old cid with FIPS codes\n",
    "# parcels_converted['county_id'] = parcels_converted['FIPS'].astype(int)\n",
    "\n",
    "# # Delete unneeded columns\n",
    "# del parcels_converted['FIPS']\n",
    "# del parcels_converted['parcel_id_']\n",
    "# del parcels_converted['Unnamed: 0']\n",
    "\n",
    "# # Check value counts\n",
    "# parcels_converted['county_id'].value_counts()"
   ]
  },
  {
   "cell_type": "code",
   "execution_count": 11,
   "metadata": {},
   "outputs": [
    {
     "data": {
      "text/html": [
       "<div>\n",
       "<style scoped>\n",
       "    .dataframe tbody tr th:only-of-type {\n",
       "        vertical-align: middle;\n",
       "    }\n",
       "\n",
       "    .dataframe tbody tr th {\n",
       "        vertical-align: top;\n",
       "    }\n",
       "\n",
       "    .dataframe thead th {\n",
       "        text-align: right;\n",
       "    }\n",
       "</style>\n",
       "<table border=\"1\" class=\"dataframe\">\n",
       "  <thead>\n",
       "    <tr style=\"text-align: right;\">\n",
       "      <th></th>\n",
       "      <th>parcel_id</th>\n",
       "      <th>county_id</th>\n",
       "      <th>zone_id</th>\n",
       "      <th>parcel_acres</th>\n",
       "      <th>land_value</th>\n",
       "      <th>x</th>\n",
       "      <th>y</th>\n",
       "      <th>elevation</th>\n",
       "      <th>fwy_exit</th>\n",
       "      <th>airport</th>\n",
       "      <th>rail_depot</th>\n",
       "      <th>stream</th>\n",
       "      <th>trail</th>\n",
       "      <th>university</th>\n",
       "      <th>shape_area</th>\n",
       "      <th>volume_one_way</th>\n",
       "      <th>volume_two_way</th>\n",
       "      <th>airport_distance</th>\n",
       "      <th>fwy_exit_dist</th>\n",
       "      <th>raildepot_dist</th>\n",
       "      <th>university_dist</th>\n",
       "      <th>trail_dist</th>\n",
       "      <th>stream_dist</th>\n",
       "      <th>train_station</th>\n",
       "      <th>rail_stn_dist</th>\n",
       "      <th>bus_rte_dist</th>\n",
       "      <th>bus_stop</th>\n",
       "      <th>bus_stop_dist</th>\n",
       "      <th>volume_two_way_nofwy</th>\n",
       "      <th>distsml_id</th>\n",
       "      <th>distmed_id</th>\n",
       "      <th>distlrg_id</th>\n",
       "      <th>parent_parcel</th>\n",
       "      <th>CO_NAME</th>\n",
       "      <th>parcel_id_REMM</th>\n",
       "      <th>county_taz_id</th>\n",
       "      <th>utmxi</th>\n",
       "      <th>utmyi</th>\n",
       "      <th>city</th>\n",
       "    </tr>\n",
       "  </thead>\n",
       "  <tbody>\n",
       "    <tr>\n",
       "      <th>0</th>\n",
       "      <td>741871</td>\n",
       "      <td>49</td>\n",
       "      <td>2111</td>\n",
       "      <td>0.197968</td>\n",
       "      <td>35700.00</td>\n",
       "      <td>1531239.186</td>\n",
       "      <td>7330722.151</td>\n",
       "      <td>1447.537450</td>\n",
       "      <td>0.0</td>\n",
       "      <td>0.0</td>\n",
       "      <td>0.0</td>\n",
       "      <td>1.0</td>\n",
       "      <td>0.0</td>\n",
       "      <td>0.0</td>\n",
       "      <td>8.623484e+03</td>\n",
       "      <td>992.0</td>\n",
       "      <td>1942.0</td>\n",
       "      <td>18.02655</td>\n",
       "      <td>0.85831</td>\n",
       "      <td>12.61234</td>\n",
       "      <td>14.73993</td>\n",
       "      <td>0.09764</td>\n",
       "      <td>0.00000</td>\n",
       "      <td>0.0</td>\n",
       "      <td>8.748286</td>\n",
       "      <td>2382.31</td>\n",
       "      <td>0.0</td>\n",
       "      <td>0.882466</td>\n",
       "      <td>1942.0</td>\n",
       "      <td>487</td>\n",
       "      <td>38</td>\n",
       "      <td>13</td>\n",
       "      <td>741871</td>\n",
       "      <td>UTAH</td>\n",
       "      <td>741871</td>\n",
       "      <td>492111</td>\n",
       "      <td>424331.7633</td>\n",
       "      <td>4477427.732</td>\n",
       "      <td>Lehi</td>\n",
       "    </tr>\n",
       "    <tr>\n",
       "      <th>1</th>\n",
       "      <td>579822</td>\n",
       "      <td>49</td>\n",
       "      <td>2873</td>\n",
       "      <td>37.717834</td>\n",
       "      <td>56614.32</td>\n",
       "      <td>1535437.548</td>\n",
       "      <td>7341595.932</td>\n",
       "      <td>1657.284652</td>\n",
       "      <td>0.0</td>\n",
       "      <td>0.0</td>\n",
       "      <td>0.0</td>\n",
       "      <td>1.0</td>\n",
       "      <td>0.0</td>\n",
       "      <td>0.0</td>\n",
       "      <td>1.642989e+06</td>\n",
       "      <td>3564.0</td>\n",
       "      <td>7135.0</td>\n",
       "      <td>19.48828</td>\n",
       "      <td>1.32984</td>\n",
       "      <td>10.63629</td>\n",
       "      <td>15.94851</td>\n",
       "      <td>0.23207</td>\n",
       "      <td>0.00000</td>\n",
       "      <td>0.0</td>\n",
       "      <td>6.691816</td>\n",
       "      <td>4930.50</td>\n",
       "      <td>0.0</td>\n",
       "      <td>1.164110</td>\n",
       "      <td>7135.0</td>\n",
       "      <td>0</td>\n",
       "      <td>0</td>\n",
       "      <td>0</td>\n",
       "      <td>579822</td>\n",
       "      <td>UTAH</td>\n",
       "      <td>579822</td>\n",
       "      <td>492873</td>\n",
       "      <td>425629.9856</td>\n",
       "      <td>4480733.739</td>\n",
       "      <td>Utah County</td>\n",
       "    </tr>\n",
       "    <tr>\n",
       "      <th>2</th>\n",
       "      <td>579853</td>\n",
       "      <td>49</td>\n",
       "      <td>2117</td>\n",
       "      <td>6.791235</td>\n",
       "      <td>81500.00</td>\n",
       "      <td>1534101.235</td>\n",
       "      <td>7334630.179</td>\n",
       "      <td>1657.284652</td>\n",
       "      <td>0.0</td>\n",
       "      <td>0.0</td>\n",
       "      <td>0.0</td>\n",
       "      <td>1.0</td>\n",
       "      <td>0.0</td>\n",
       "      <td>0.0</td>\n",
       "      <td>2.958262e+05</td>\n",
       "      <td>0.0</td>\n",
       "      <td>0.0</td>\n",
       "      <td>18.42054</td>\n",
       "      <td>1.66976</td>\n",
       "      <td>11.91035</td>\n",
       "      <td>15.00142</td>\n",
       "      <td>0.55081</td>\n",
       "      <td>0.00000</td>\n",
       "      <td>0.0</td>\n",
       "      <td>7.994607</td>\n",
       "      <td>6770.95</td>\n",
       "      <td>0.0</td>\n",
       "      <td>1.661999</td>\n",
       "      <td>0.0</td>\n",
       "      <td>487</td>\n",
       "      <td>38</td>\n",
       "      <td>13</td>\n",
       "      <td>579853</td>\n",
       "      <td>UTAH</td>\n",
       "      <td>579853</td>\n",
       "      <td>492117</td>\n",
       "      <td>425210.6619</td>\n",
       "      <td>4478613.554</td>\n",
       "      <td>Lehi</td>\n",
       "    </tr>\n",
       "    <tr>\n",
       "      <th>3</th>\n",
       "      <td>640185</td>\n",
       "      <td>49</td>\n",
       "      <td>2073</td>\n",
       "      <td>1.372797</td>\n",
       "      <td>112100.00</td>\n",
       "      <td>1538253.186</td>\n",
       "      <td>7322787.258</td>\n",
       "      <td>1445.761763</td>\n",
       "      <td>0.0</td>\n",
       "      <td>0.0</td>\n",
       "      <td>0.0</td>\n",
       "      <td>1.0</td>\n",
       "      <td>0.0</td>\n",
       "      <td>0.0</td>\n",
       "      <td>5.979902e+04</td>\n",
       "      <td>2495.0</td>\n",
       "      <td>5043.0</td>\n",
       "      <td>16.06753</td>\n",
       "      <td>0.60111</td>\n",
       "      <td>14.23267</td>\n",
       "      <td>12.73670</td>\n",
       "      <td>0.04966</td>\n",
       "      <td>0.00000</td>\n",
       "      <td>0.0</td>\n",
       "      <td>10.277766</td>\n",
       "      <td>2627.34</td>\n",
       "      <td>0.0</td>\n",
       "      <td>0.548186</td>\n",
       "      <td>5043.0</td>\n",
       "      <td>482</td>\n",
       "      <td>38</td>\n",
       "      <td>13</td>\n",
       "      <td>640185</td>\n",
       "      <td>UTAH</td>\n",
       "      <td>640185</td>\n",
       "      <td>492073</td>\n",
       "      <td>426455.1775</td>\n",
       "      <td>4474997.689</td>\n",
       "      <td>Lehi</td>\n",
       "    </tr>\n",
       "    <tr>\n",
       "      <th>4</th>\n",
       "      <td>682698</td>\n",
       "      <td>49</td>\n",
       "      <td>2119</td>\n",
       "      <td>0.163751</td>\n",
       "      <td>43000.00</td>\n",
       "      <td>1548648.398</td>\n",
       "      <td>7336198.043</td>\n",
       "      <td>1766.927829</td>\n",
       "      <td>0.0</td>\n",
       "      <td>0.0</td>\n",
       "      <td>0.0</td>\n",
       "      <td>1.0</td>\n",
       "      <td>0.0</td>\n",
       "      <td>0.0</td>\n",
       "      <td>7.132996e+03</td>\n",
       "      <td>3632.0</td>\n",
       "      <td>7133.0</td>\n",
       "      <td>17.61362</td>\n",
       "      <td>3.74880</td>\n",
       "      <td>12.20122</td>\n",
       "      <td>13.84603</td>\n",
       "      <td>0.37882</td>\n",
       "      <td>0.00000</td>\n",
       "      <td>0.0</td>\n",
       "      <td>8.210217</td>\n",
       "      <td>9997.32</td>\n",
       "      <td>0.0</td>\n",
       "      <td>2.129948</td>\n",
       "      <td>7133.0</td>\n",
       "      <td>488</td>\n",
       "      <td>39</td>\n",
       "      <td>14</td>\n",
       "      <td>682698</td>\n",
       "      <td>UTAH</td>\n",
       "      <td>682698</td>\n",
       "      <td>492119</td>\n",
       "      <td>429646.0053</td>\n",
       "      <td>4479065.962</td>\n",
       "      <td>Draper</td>\n",
       "    </tr>\n",
       "    <tr>\n",
       "      <th>...</th>\n",
       "      <td>...</td>\n",
       "      <td>...</td>\n",
       "      <td>...</td>\n",
       "      <td>...</td>\n",
       "      <td>...</td>\n",
       "      <td>...</td>\n",
       "      <td>...</td>\n",
       "      <td>...</td>\n",
       "      <td>...</td>\n",
       "      <td>...</td>\n",
       "      <td>...</td>\n",
       "      <td>...</td>\n",
       "      <td>...</td>\n",
       "      <td>...</td>\n",
       "      <td>...</td>\n",
       "      <td>...</td>\n",
       "      <td>...</td>\n",
       "      <td>...</td>\n",
       "      <td>...</td>\n",
       "      <td>...</td>\n",
       "      <td>...</td>\n",
       "      <td>...</td>\n",
       "      <td>...</td>\n",
       "      <td>...</td>\n",
       "      <td>...</td>\n",
       "      <td>...</td>\n",
       "      <td>...</td>\n",
       "      <td>...</td>\n",
       "      <td>...</td>\n",
       "      <td>...</td>\n",
       "      <td>...</td>\n",
       "      <td>...</td>\n",
       "      <td>...</td>\n",
       "      <td>...</td>\n",
       "      <td>...</td>\n",
       "      <td>...</td>\n",
       "      <td>...</td>\n",
       "      <td>...</td>\n",
       "      <td>...</td>\n",
       "    </tr>\n",
       "    <tr>\n",
       "      <th>845214</th>\n",
       "      <td>886695</td>\n",
       "      <td>49</td>\n",
       "      <td>2666</td>\n",
       "      <td>4.531522</td>\n",
       "      <td>48006.00</td>\n",
       "      <td>1574258.679</td>\n",
       "      <td>7220957.846</td>\n",
       "      <td>1372.488928</td>\n",
       "      <td>0.0</td>\n",
       "      <td>0.0</td>\n",
       "      <td>0.0</td>\n",
       "      <td>0.0</td>\n",
       "      <td>0.0</td>\n",
       "      <td>0.0</td>\n",
       "      <td>1.973931e+05</td>\n",
       "      <td>107.0</td>\n",
       "      <td>214.0</td>\n",
       "      <td>5.32442</td>\n",
       "      <td>4.38052</td>\n",
       "      <td>6.67391</td>\n",
       "      <td>8.88569</td>\n",
       "      <td>3.24828</td>\n",
       "      <td>0.01905</td>\n",
       "      <td>0.0</td>\n",
       "      <td>30.544293</td>\n",
       "      <td>19622.91</td>\n",
       "      <td>0.0</td>\n",
       "      <td>5.026164</td>\n",
       "      <td>214.0</td>\n",
       "      <td>546</td>\n",
       "      <td>44</td>\n",
       "      <td>16</td>\n",
       "      <td>601655</td>\n",
       "      <td>UTAH</td>\n",
       "      <td>886695</td>\n",
       "      <td>492666</td>\n",
       "      <td>437250.4157</td>\n",
       "      <td>4443906.735</td>\n",
       "      <td>Lake Shore</td>\n",
       "    </tr>\n",
       "    <tr>\n",
       "      <th>845215</th>\n",
       "      <td>886696</td>\n",
       "      <td>49</td>\n",
       "      <td>2666</td>\n",
       "      <td>3.158082</td>\n",
       "      <td>33456.00</td>\n",
       "      <td>1573684.703</td>\n",
       "      <td>7220955.159</td>\n",
       "      <td>1372.488928</td>\n",
       "      <td>0.0</td>\n",
       "      <td>0.0</td>\n",
       "      <td>0.0</td>\n",
       "      <td>0.0</td>\n",
       "      <td>0.0</td>\n",
       "      <td>0.0</td>\n",
       "      <td>1.375661e+05</td>\n",
       "      <td>107.0</td>\n",
       "      <td>214.0</td>\n",
       "      <td>5.32442</td>\n",
       "      <td>4.38052</td>\n",
       "      <td>6.67391</td>\n",
       "      <td>8.88569</td>\n",
       "      <td>3.24828</td>\n",
       "      <td>0.01905</td>\n",
       "      <td>0.0</td>\n",
       "      <td>30.544293</td>\n",
       "      <td>19622.91</td>\n",
       "      <td>0.0</td>\n",
       "      <td>5.026164</td>\n",
       "      <td>214.0</td>\n",
       "      <td>546</td>\n",
       "      <td>44</td>\n",
       "      <td>16</td>\n",
       "      <td>601655</td>\n",
       "      <td>UTAH</td>\n",
       "      <td>886696</td>\n",
       "      <td>492666</td>\n",
       "      <td>437075.5120</td>\n",
       "      <td>4443906.904</td>\n",
       "      <td>Lake Shore</td>\n",
       "    </tr>\n",
       "    <tr>\n",
       "      <th>845216</th>\n",
       "      <td>886697</td>\n",
       "      <td>49</td>\n",
       "      <td>2666</td>\n",
       "      <td>4.895412</td>\n",
       "      <td>51862.00</td>\n",
       "      <td>1573301.933</td>\n",
       "      <td>7220958.410</td>\n",
       "      <td>1372.488928</td>\n",
       "      <td>0.0</td>\n",
       "      <td>0.0</td>\n",
       "      <td>0.0</td>\n",
       "      <td>0.0</td>\n",
       "      <td>0.0</td>\n",
       "      <td>0.0</td>\n",
       "      <td>2.132442e+05</td>\n",
       "      <td>107.0</td>\n",
       "      <td>214.0</td>\n",
       "      <td>5.32442</td>\n",
       "      <td>4.38052</td>\n",
       "      <td>6.67391</td>\n",
       "      <td>8.88569</td>\n",
       "      <td>3.24828</td>\n",
       "      <td>0.01905</td>\n",
       "      <td>0.0</td>\n",
       "      <td>30.544293</td>\n",
       "      <td>19622.91</td>\n",
       "      <td>0.0</td>\n",
       "      <td>5.026164</td>\n",
       "      <td>214.0</td>\n",
       "      <td>546</td>\n",
       "      <td>44</td>\n",
       "      <td>16</td>\n",
       "      <td>601655</td>\n",
       "      <td>UTAH</td>\n",
       "      <td>886697</td>\n",
       "      <td>492666</td>\n",
       "      <td>436958.8819</td>\n",
       "      <td>4443908.552</td>\n",
       "      <td>Lake Shore</td>\n",
       "    </tr>\n",
       "    <tr>\n",
       "      <th>845217</th>\n",
       "      <td>886698</td>\n",
       "      <td>49</td>\n",
       "      <td>2666</td>\n",
       "      <td>4.918818</td>\n",
       "      <td>52109.00</td>\n",
       "      <td>1572835.592</td>\n",
       "      <td>7220958.477</td>\n",
       "      <td>1372.488928</td>\n",
       "      <td>0.0</td>\n",
       "      <td>0.0</td>\n",
       "      <td>0.0</td>\n",
       "      <td>0.0</td>\n",
       "      <td>0.0</td>\n",
       "      <td>0.0</td>\n",
       "      <td>2.142637e+05</td>\n",
       "      <td>107.0</td>\n",
       "      <td>214.0</td>\n",
       "      <td>5.32442</td>\n",
       "      <td>4.38052</td>\n",
       "      <td>6.67391</td>\n",
       "      <td>8.88569</td>\n",
       "      <td>3.24828</td>\n",
       "      <td>0.01905</td>\n",
       "      <td>0.0</td>\n",
       "      <td>30.544293</td>\n",
       "      <td>19622.91</td>\n",
       "      <td>0.0</td>\n",
       "      <td>5.026164</td>\n",
       "      <td>214.0</td>\n",
       "      <td>546</td>\n",
       "      <td>44</td>\n",
       "      <td>16</td>\n",
       "      <td>601655</td>\n",
       "      <td>UTAH</td>\n",
       "      <td>886698</td>\n",
       "      <td>492666</td>\n",
       "      <td>436816.7808</td>\n",
       "      <td>4443909.375</td>\n",
       "      <td>Lake Shore</td>\n",
       "    </tr>\n",
       "    <tr>\n",
       "      <th>845218</th>\n",
       "      <td>886699</td>\n",
       "      <td>49</td>\n",
       "      <td>2666</td>\n",
       "      <td>1.263248</td>\n",
       "      <td>13383.00</td>\n",
       "      <td>1572074.441</td>\n",
       "      <td>7220958.452</td>\n",
       "      <td>1372.488928</td>\n",
       "      <td>0.0</td>\n",
       "      <td>0.0</td>\n",
       "      <td>0.0</td>\n",
       "      <td>0.0</td>\n",
       "      <td>0.0</td>\n",
       "      <td>0.0</td>\n",
       "      <td>5.502709e+04</td>\n",
       "      <td>107.0</td>\n",
       "      <td>214.0</td>\n",
       "      <td>5.32442</td>\n",
       "      <td>4.38052</td>\n",
       "      <td>6.67391</td>\n",
       "      <td>8.88569</td>\n",
       "      <td>3.24828</td>\n",
       "      <td>0.01905</td>\n",
       "      <td>0.0</td>\n",
       "      <td>30.544293</td>\n",
       "      <td>19622.91</td>\n",
       "      <td>0.0</td>\n",
       "      <td>5.026164</td>\n",
       "      <td>214.0</td>\n",
       "      <td>546</td>\n",
       "      <td>44</td>\n",
       "      <td>16</td>\n",
       "      <td>601655</td>\n",
       "      <td>UTAH</td>\n",
       "      <td>886699</td>\n",
       "      <td>492666</td>\n",
       "      <td>436584.8462</td>\n",
       "      <td>4443910.676</td>\n",
       "      <td>Lake Shore</td>\n",
       "    </tr>\n",
       "  </tbody>\n",
       "</table>\n",
       "<p>845219 rows × 39 columns</p>\n",
       "</div>"
      ],
      "text/plain": [
       "        parcel_id  county_id  zone_id  parcel_acres  land_value            x  \\\n",
       "0          741871         49     2111      0.197968    35700.00  1531239.186   \n",
       "1          579822         49     2873     37.717834    56614.32  1535437.548   \n",
       "2          579853         49     2117      6.791235    81500.00  1534101.235   \n",
       "3          640185         49     2073      1.372797   112100.00  1538253.186   \n",
       "4          682698         49     2119      0.163751    43000.00  1548648.398   \n",
       "...           ...        ...      ...           ...         ...          ...   \n",
       "845214     886695         49     2666      4.531522    48006.00  1574258.679   \n",
       "845215     886696         49     2666      3.158082    33456.00  1573684.703   \n",
       "845216     886697         49     2666      4.895412    51862.00  1573301.933   \n",
       "845217     886698         49     2666      4.918818    52109.00  1572835.592   \n",
       "845218     886699         49     2666      1.263248    13383.00  1572074.441   \n",
       "\n",
       "                  y    elevation  fwy_exit  airport  rail_depot  stream  \\\n",
       "0       7330722.151  1447.537450       0.0      0.0         0.0     1.0   \n",
       "1       7341595.932  1657.284652       0.0      0.0         0.0     1.0   \n",
       "2       7334630.179  1657.284652       0.0      0.0         0.0     1.0   \n",
       "3       7322787.258  1445.761763       0.0      0.0         0.0     1.0   \n",
       "4       7336198.043  1766.927829       0.0      0.0         0.0     1.0   \n",
       "...             ...          ...       ...      ...         ...     ...   \n",
       "845214  7220957.846  1372.488928       0.0      0.0         0.0     0.0   \n",
       "845215  7220955.159  1372.488928       0.0      0.0         0.0     0.0   \n",
       "845216  7220958.410  1372.488928       0.0      0.0         0.0     0.0   \n",
       "845217  7220958.477  1372.488928       0.0      0.0         0.0     0.0   \n",
       "845218  7220958.452  1372.488928       0.0      0.0         0.0     0.0   \n",
       "\n",
       "        trail  university    shape_area  volume_one_way  volume_two_way  \\\n",
       "0         0.0         0.0  8.623484e+03           992.0          1942.0   \n",
       "1         0.0         0.0  1.642989e+06          3564.0          7135.0   \n",
       "2         0.0         0.0  2.958262e+05             0.0             0.0   \n",
       "3         0.0         0.0  5.979902e+04          2495.0          5043.0   \n",
       "4         0.0         0.0  7.132996e+03          3632.0          7133.0   \n",
       "...       ...         ...           ...             ...             ...   \n",
       "845214    0.0         0.0  1.973931e+05           107.0           214.0   \n",
       "845215    0.0         0.0  1.375661e+05           107.0           214.0   \n",
       "845216    0.0         0.0  2.132442e+05           107.0           214.0   \n",
       "845217    0.0         0.0  2.142637e+05           107.0           214.0   \n",
       "845218    0.0         0.0  5.502709e+04           107.0           214.0   \n",
       "\n",
       "        airport_distance  fwy_exit_dist  raildepot_dist  university_dist  \\\n",
       "0               18.02655        0.85831        12.61234         14.73993   \n",
       "1               19.48828        1.32984        10.63629         15.94851   \n",
       "2               18.42054        1.66976        11.91035         15.00142   \n",
       "3               16.06753        0.60111        14.23267         12.73670   \n",
       "4               17.61362        3.74880        12.20122         13.84603   \n",
       "...                  ...            ...             ...              ...   \n",
       "845214           5.32442        4.38052         6.67391          8.88569   \n",
       "845215           5.32442        4.38052         6.67391          8.88569   \n",
       "845216           5.32442        4.38052         6.67391          8.88569   \n",
       "845217           5.32442        4.38052         6.67391          8.88569   \n",
       "845218           5.32442        4.38052         6.67391          8.88569   \n",
       "\n",
       "        trail_dist  stream_dist  train_station  rail_stn_dist  bus_rte_dist  \\\n",
       "0          0.09764      0.00000            0.0       8.748286       2382.31   \n",
       "1          0.23207      0.00000            0.0       6.691816       4930.50   \n",
       "2          0.55081      0.00000            0.0       7.994607       6770.95   \n",
       "3          0.04966      0.00000            0.0      10.277766       2627.34   \n",
       "4          0.37882      0.00000            0.0       8.210217       9997.32   \n",
       "...            ...          ...            ...            ...           ...   \n",
       "845214     3.24828      0.01905            0.0      30.544293      19622.91   \n",
       "845215     3.24828      0.01905            0.0      30.544293      19622.91   \n",
       "845216     3.24828      0.01905            0.0      30.544293      19622.91   \n",
       "845217     3.24828      0.01905            0.0      30.544293      19622.91   \n",
       "845218     3.24828      0.01905            0.0      30.544293      19622.91   \n",
       "\n",
       "        bus_stop  bus_stop_dist  volume_two_way_nofwy  distsml_id  distmed_id  \\\n",
       "0            0.0       0.882466                1942.0         487          38   \n",
       "1            0.0       1.164110                7135.0           0           0   \n",
       "2            0.0       1.661999                   0.0         487          38   \n",
       "3            0.0       0.548186                5043.0         482          38   \n",
       "4            0.0       2.129948                7133.0         488          39   \n",
       "...          ...            ...                   ...         ...         ...   \n",
       "845214       0.0       5.026164                 214.0         546          44   \n",
       "845215       0.0       5.026164                 214.0         546          44   \n",
       "845216       0.0       5.026164                 214.0         546          44   \n",
       "845217       0.0       5.026164                 214.0         546          44   \n",
       "845218       0.0       5.026164                 214.0         546          44   \n",
       "\n",
       "        distlrg_id  parent_parcel CO_NAME  parcel_id_REMM  county_taz_id  \\\n",
       "0               13         741871    UTAH          741871         492111   \n",
       "1                0         579822    UTAH          579822         492873   \n",
       "2               13         579853    UTAH          579853         492117   \n",
       "3               13         640185    UTAH          640185         492073   \n",
       "4               14         682698    UTAH          682698         492119   \n",
       "...            ...            ...     ...             ...            ...   \n",
       "845214          16         601655    UTAH          886695         492666   \n",
       "845215          16         601655    UTAH          886696         492666   \n",
       "845216          16         601655    UTAH          886697         492666   \n",
       "845217          16         601655    UTAH          886698         492666   \n",
       "845218          16         601655    UTAH          886699         492666   \n",
       "\n",
       "              utmxi        utmyi         city  \n",
       "0       424331.7633  4477427.732         Lehi  \n",
       "1       425629.9856  4480733.739  Utah County  \n",
       "2       425210.6619  4478613.554         Lehi  \n",
       "3       426455.1775  4474997.689         Lehi  \n",
       "4       429646.0053  4479065.962       Draper  \n",
       "...             ...          ...          ...  \n",
       "845214  437250.4157  4443906.735   Lake Shore  \n",
       "845215  437075.5120  4443906.904   Lake Shore  \n",
       "845216  436958.8819  4443908.552   Lake Shore  \n",
       "845217  436816.7808  4443909.375   Lake Shore  \n",
       "845218  436584.8462  4443910.676   Lake Shore  \n",
       "\n",
       "[845219 rows x 39 columns]"
      ]
     },
     "execution_count": 11,
     "metadata": {},
     "output_type": "execute_result"
    }
   ],
   "source": [
    "parcels_converted"
   ]
  },
  {
   "cell_type": "markdown",
   "metadata": {},
   "source": [
    "### Work on households_for_estimation"
   ]
  },
  {
   "cell_type": "code",
   "execution_count": 12,
   "metadata": {},
   "outputs": [
    {
     "data": {
      "text/html": [
       "<div>\n",
       "<style scoped>\n",
       "    .dataframe tbody tr th:only-of-type {\n",
       "        vertical-align: middle;\n",
       "    }\n",
       "\n",
       "    .dataframe tbody tr th {\n",
       "        vertical-align: top;\n",
       "    }\n",
       "\n",
       "    .dataframe thead th {\n",
       "        text-align: right;\n",
       "    }\n",
       "</style>\n",
       "<table border=\"1\" class=\"dataframe\">\n",
       "  <thead>\n",
       "    <tr style=\"text-align: right;\">\n",
       "      <th></th>\n",
       "      <th>cars</th>\n",
       "      <th>household_type_id</th>\n",
       "      <th>persons</th>\n",
       "      <th>income</th>\n",
       "      <th>workers</th>\n",
       "      <th>children</th>\n",
       "      <th>tenure</th>\n",
       "      <th>recent_mover</th>\n",
       "      <th>building_type_id</th>\n",
       "      <th>block_id</th>\n",
       "      <th>building_id</th>\n",
       "      <th>proportion_workers</th>\n",
       "      <th>zone_id</th>\n",
       "      <th>parcel_id</th>\n",
       "      <th>node_id</th>\n",
       "      <th>income_quartile</th>\n",
       "      <th>county_id</th>\n",
       "    </tr>\n",
       "    <tr>\n",
       "      <th>household_id</th>\n",
       "      <th></th>\n",
       "      <th></th>\n",
       "      <th></th>\n",
       "      <th></th>\n",
       "      <th></th>\n",
       "      <th></th>\n",
       "      <th></th>\n",
       "      <th></th>\n",
       "      <th></th>\n",
       "      <th></th>\n",
       "      <th></th>\n",
       "      <th></th>\n",
       "      <th></th>\n",
       "      <th></th>\n",
       "      <th></th>\n",
       "      <th></th>\n",
       "      <th></th>\n",
       "    </tr>\n",
       "  </thead>\n",
       "  <tbody>\n",
       "    <tr>\n",
       "      <th>85</th>\n",
       "      <td>2</td>\n",
       "      <td>1</td>\n",
       "      <td>2</td>\n",
       "      <td>87500</td>\n",
       "      <td>2</td>\n",
       "      <td>0</td>\n",
       "      <td>2</td>\n",
       "      <td>1</td>\n",
       "      <td>1</td>\n",
       "      <td>17049</td>\n",
       "      <td>259924</td>\n",
       "      <td>1.000000</td>\n",
       "      <td>1074</td>\n",
       "      <td>152309</td>\n",
       "      <td>6119734</td>\n",
       "      <td>3</td>\n",
       "      <td>2</td>\n",
       "    </tr>\n",
       "    <tr>\n",
       "      <th>86</th>\n",
       "      <td>3</td>\n",
       "      <td>1</td>\n",
       "      <td>3</td>\n",
       "      <td>-1</td>\n",
       "      <td>3</td>\n",
       "      <td>0</td>\n",
       "      <td>2</td>\n",
       "      <td>0</td>\n",
       "      <td>1</td>\n",
       "      <td>6857</td>\n",
       "      <td>440101</td>\n",
       "      <td>1.000000</td>\n",
       "      <td>1607</td>\n",
       "      <td>347510</td>\n",
       "      <td>52501442</td>\n",
       "      <td>1</td>\n",
       "      <td>2</td>\n",
       "    </tr>\n",
       "    <tr>\n",
       "      <th>87</th>\n",
       "      <td>2</td>\n",
       "      <td>2</td>\n",
       "      <td>4</td>\n",
       "      <td>42500</td>\n",
       "      <td>2</td>\n",
       "      <td>2</td>\n",
       "      <td>2</td>\n",
       "      <td>0</td>\n",
       "      <td>1</td>\n",
       "      <td>13832</td>\n",
       "      <td>321465</td>\n",
       "      <td>0.500000</td>\n",
       "      <td>1095</td>\n",
       "      <td>224414</td>\n",
       "      <td>30362517</td>\n",
       "      <td>2</td>\n",
       "      <td>2</td>\n",
       "    </tr>\n",
       "    <tr>\n",
       "      <th>88</th>\n",
       "      <td>3</td>\n",
       "      <td>1</td>\n",
       "      <td>3</td>\n",
       "      <td>125000</td>\n",
       "      <td>2</td>\n",
       "      <td>0</td>\n",
       "      <td>2</td>\n",
       "      <td>0</td>\n",
       "      <td>1</td>\n",
       "      <td>4031</td>\n",
       "      <td>83948</td>\n",
       "      <td>0.666667</td>\n",
       "      <td>379</td>\n",
       "      <td>390199</td>\n",
       "      <td>6082196</td>\n",
       "      <td>4</td>\n",
       "      <td>2</td>\n",
       "    </tr>\n",
       "    <tr>\n",
       "      <th>89</th>\n",
       "      <td>2</td>\n",
       "      <td>2</td>\n",
       "      <td>5</td>\n",
       "      <td>87500</td>\n",
       "      <td>2</td>\n",
       "      <td>3</td>\n",
       "      <td>2</td>\n",
       "      <td>0</td>\n",
       "      <td>1</td>\n",
       "      <td>8950</td>\n",
       "      <td>221670</td>\n",
       "      <td>0.400000</td>\n",
       "      <td>1123</td>\n",
       "      <td>106020</td>\n",
       "      <td>6146478</td>\n",
       "      <td>3</td>\n",
       "      <td>1</td>\n",
       "    </tr>\n",
       "  </tbody>\n",
       "</table>\n",
       "</div>"
      ],
      "text/plain": [
       "              cars  household_type_id  persons  income  workers  children  \\\n",
       "household_id                                                                \n",
       "85               2                  1        2   87500        2         0   \n",
       "86               3                  1        3      -1        3         0   \n",
       "87               2                  2        4   42500        2         2   \n",
       "88               3                  1        3  125000        2         0   \n",
       "89               2                  2        5   87500        2         3   \n",
       "\n",
       "              tenure  recent_mover  building_type_id  block_id  building_id  \\\n",
       "household_id                                                                  \n",
       "85                 2             1                 1     17049       259924   \n",
       "86                 2             0                 1      6857       440101   \n",
       "87                 2             0                 1     13832       321465   \n",
       "88                 2             0                 1      4031        83948   \n",
       "89                 2             0                 1      8950       221670   \n",
       "\n",
       "              proportion_workers  zone_id  parcel_id   node_id  \\\n",
       "household_id                                                     \n",
       "85                      1.000000     1074     152309   6119734   \n",
       "86                      1.000000     1607     347510  52501442   \n",
       "87                      0.500000     1095     224414  30362517   \n",
       "88                      0.666667      379     390199   6082196   \n",
       "89                      0.400000     1123     106020   6146478   \n",
       "\n",
       "              income_quartile  county_id  \n",
       "household_id                              \n",
       "85                          3          2  \n",
       "86                          1          2  \n",
       "87                          2          2  \n",
       "88                          4          2  \n",
       "89                          3          1  "
      ]
     },
     "execution_count": 12,
     "metadata": {},
     "output_type": "execute_result"
    }
   ],
   "source": [
    "households_for_estimation = pd.read_csv(r\"E:\\Projects\\REMM-Analysis-Tools\\County_ID_Update\\Inputs_02282018\\households_for_estimation.csv\").set_index('household_id')\n",
    "households_for_estimation.head()"
   ]
  },
  {
   "cell_type": "code",
   "execution_count": 13,
   "metadata": {},
   "outputs": [],
   "source": [
    "# copy  the table\n",
    "households_for_estimation_converted = households_for_estimation.copy()\n",
    "\n",
    "# reclassify county values\n",
    "households_for_estimation_converted['county_id'] = households_for_estimation_converted['county_id'].map(crosswalk1)"
   ]
  },
  {
   "cell_type": "markdown",
   "metadata": {},
   "source": [
    "### Work on jobs"
   ]
  },
  {
   "cell_type": "code",
   "execution_count": 14,
   "metadata": {},
   "outputs": [
    {
     "data": {
      "text/plain": [
       "2    755026\n",
       "4    272247\n",
       "1    152689\n",
       "3    115551\n",
       "Name: cid, dtype: int64"
      ]
     },
     "execution_count": 14,
     "metadata": {},
     "output_type": "execute_result"
    }
   ],
   "source": [
    "# get the jobs table from the store\n",
    "# jobs = store.get('jobs').reset_index()\n",
    "jobs = pd.read_csv(r\"E:\\Projects\\REMM-Analysis-Tools\\County_ID_Update\\Inputs_02282018\\jobs.csv\")\n",
    "# count instances of each county value\n",
    "jobs['cid'].value_counts()"
   ]
  },
  {
   "cell_type": "code",
   "execution_count": 15,
   "metadata": {},
   "outputs": [
    {
     "data": {
      "text/plain": [
       "35    755026\n",
       "49    272247\n",
       "11    152689\n",
       "57    115551\n",
       "Name: cid, dtype: int64"
      ]
     },
     "execution_count": 15,
     "metadata": {},
     "output_type": "execute_result"
    }
   ],
   "source": [
    "# Create crosswalk dictionary for county values\n",
    "# crosswalk = {2:11, 3:35, 1:57, 4:49, 0:0}\n",
    "\n",
    "# copy  the table\n",
    "jobs_converted = jobs.copy()\n",
    "\n",
    "# reclassify county values\n",
    "jobs_converted['cid'] = jobs['cid'].map(crosswalk1)\n",
    "\n",
    "# count instances of each county value\n",
    "jobs_converted['cid'].value_counts()"
   ]
  },
  {
   "cell_type": "markdown",
   "metadata": {},
   "source": [
    "### Valid Parcels"
   ]
  },
  {
   "cell_type": "code",
   "execution_count": 16,
   "metadata": {},
   "outputs": [
    {
     "data": {
      "text/plain": [
       "35    344428\n",
       "49    181128\n",
       "11    106909\n",
       "57     92595\n",
       "Name: county_id, dtype: int64"
      ]
     },
     "execution_count": 16,
     "metadata": {},
     "output_type": "execute_result"
    }
   ],
   "source": [
    "valid_parcels = pd.read_csv(r\"E:\\Projects\\REMM-Analysis-Tools\\County_ID_Update\\Inputs_02282018\\valid_parcels.csv\").set_index('parcel_id')\n",
    "valid_parcels.head()\n",
    "\n",
    "# copy  the table\n",
    "valid_parcels_converted = valid_parcels.copy()\n",
    "\n",
    "# reclassify county values\n",
    "valid_parcels_converted['county_id'] = valid_parcels_converted['county_id'].map(crosswalk1)\n",
    "\n",
    "del valid_parcels_converted['Unnamed: 0']\n",
    "\n",
    "# count instances of each county value\n",
    "valid_parcels_converted['county_id'].value_counts()"
   ]
  },
  {
   "cell_type": "markdown",
   "metadata": {},
   "source": [
    "## Travel Data"
   ]
  },
  {
   "cell_type": "code",
   "execution_count": 17,
   "metadata": {},
   "outputs": [],
   "source": [
    "# travel_data = store.get('travel_data')\n",
    "travel_data = pd.read_csv(r\"E:\\Projects\\REMM-Analysis-Tools\\County_ID_Update\\Inputs_02282018\\travel_data.csv\")\n",
    "travel_data_converted = travel_data.set_index(['from_zone_id', 'to_zone_id'])"
   ]
  },
  {
   "cell_type": "markdown",
   "metadata": {},
   "source": [
    "### Work on households"
   ]
  },
  {
   "cell_type": "code",
   "execution_count": 18,
   "metadata": {},
   "outputs": [
    {
     "data": {
      "text/plain": [
       "2    377719\n",
       "4    163918\n",
       "1    106771\n",
       "3     82984\n",
       "Name: cid, dtype: int64"
      ]
     },
     "execution_count": 18,
     "metadata": {},
     "output_type": "execute_result"
    }
   ],
   "source": [
    "# get the households table from the store\n",
    "# households = store.get('households').reset_index()\n",
    "households = pd.read_csv(r\"E:\\Projects\\REMM-Analysis-Tools\\County_ID_Update\\Inputs_02282018\\households.csv\")\n",
    "# count instances of each county value\n",
    "households['cid'].value_counts()"
   ]
  },
  {
   "cell_type": "code",
   "execution_count": 19,
   "metadata": {},
   "outputs": [
    {
     "data": {
      "text/plain": [
       "35    377719\n",
       "49    163918\n",
       "11    106771\n",
       "57     82984\n",
       "Name: cid, dtype: int64"
      ]
     },
     "execution_count": 19,
     "metadata": {},
     "output_type": "execute_result"
    }
   ],
   "source": [
    "# copy  the table\n",
    "households_converted = households.copy()\n",
    "\n",
    "# reclassify county values\n",
    "households_converted['cid'] = households_converted['cid'].map(crosswalk1)\n",
    "\n",
    "# count instances of each county value\n",
    "households_converted['cid'].value_counts()"
   ]
  },
  {
   "cell_type": "markdown",
   "metadata": {},
   "source": [
    "### Work on household_controls"
   ]
  },
  {
   "cell_type": "code",
   "execution_count": 20,
   "metadata": {},
   "outputs": [],
   "source": [
    "# # get the household_controls table from the csv\n",
    "# household_controls = pd.read_csv(\"./Inputs/household_controls.csv\")\n",
    "\n",
    "# # count instances of each county value\n",
    "# household_controls['cid'].value_counts()"
   ]
  },
  {
   "cell_type": "code",
   "execution_count": 21,
   "metadata": {},
   "outputs": [],
   "source": [
    "# # copy  the table\n",
    "# household_controls_converted = household_controls.copy()\n",
    "\n",
    "# # reclassify county values\n",
    "# household_controls_converted['cid'] = household_controls_converted['cid'].map(crosswalk1)\n",
    "\n",
    "# # count instances of each county value\n",
    "# household_controls_converted['cid'].value_counts()"
   ]
  },
  {
   "cell_type": "markdown",
   "metadata": {},
   "source": [
    "### Employment_Controls"
   ]
  },
  {
   "cell_type": "code",
   "execution_count": 22,
   "metadata": {},
   "outputs": [],
   "source": [
    "# # get the household_controls table from the csv\n",
    "# employment_controls = pd.read_csv(\"./Inputs/employment_controls.csv\")\n",
    "\n",
    "# # count instances of each county value\n",
    "# employment_controls['cid'].value_counts()"
   ]
  },
  {
   "cell_type": "code",
   "execution_count": 23,
   "metadata": {},
   "outputs": [],
   "source": [
    "# # Create crosswalk dictionary for county values\n",
    "# # crosswalk = {1:11, 2:35, 3:57, 4:49, 0:0}\n",
    "\n",
    "# # copy  the table\n",
    "# employment_controls_converted = employment_controls.copy()\n",
    "\n",
    "# # reclassify county values\n",
    "# employment_controls_converted['cid'] = employment_controls_converted['cid'].map(crosswalk1)\n",
    "\n",
    "# employment_controls_converted['cid'].value_counts()"
   ]
  },
  {
   "cell_type": "markdown",
   "metadata": {},
   "source": [
    "### Population_Controls"
   ]
  },
  {
   "cell_type": "code",
   "execution_count": 24,
   "metadata": {},
   "outputs": [],
   "source": [
    "# pop_controls = pd.read_csv(\"./Inputs/population_controls.csv\")\n",
    "# pop_controls.head()"
   ]
  },
  {
   "cell_type": "code",
   "execution_count": 25,
   "metadata": {},
   "outputs": [],
   "source": [
    "# # count instances of each county value\n",
    "# pop_controls['cid'].value_counts()"
   ]
  },
  {
   "cell_type": "code",
   "execution_count": 26,
   "metadata": {},
   "outputs": [],
   "source": [
    "# # copy  the table\n",
    "# pop_controls_converted = pop_controls.copy()\n",
    "\n",
    "# # reclassify county values\n",
    "# pop_controls_converted['cid'] = pop_controls_converted['cid'].map(crosswalk1)\n",
    "\n",
    "# pop_controls_converted['cid'].value_counts()"
   ]
  },
  {
   "cell_type": "markdown",
   "metadata": {},
   "source": [
    "### tazctyeq"
   ]
  },
  {
   "cell_type": "code",
   "execution_count": 27,
   "metadata": {},
   "outputs": [],
   "source": [
    "# tazctyeq = pd.read_csv(r\".\\\\Inputs\\TAZCTYEQ.csv\")\n",
    "\n",
    "# # copy  the table\n",
    "# tazctyeq_converted = tazctyeq.copy()\n",
    "\n",
    "# # reclassify county values\n",
    "# tazctyeq_converted['COUNTY'] = tazctyeq['COUNTY'].map(crosswalk2)"
   ]
  },
  {
   "cell_type": "code",
   "execution_count": 28,
   "metadata": {},
   "outputs": [],
   "source": [
    "# tazctyeq_converted['COUNTY'].value_counts()"
   ]
  },
  {
   "cell_type": "markdown",
   "metadata": {},
   "source": [
    "## Rename *cid* and *county_id* attributes to *CO_FIPS* (DISABLED FOR NOW)"
   ]
  },
  {
   "cell_type": "code",
   "execution_count": 29,
   "metadata": {},
   "outputs": [],
   "source": [
    "# renames field names in place\n",
    "def renameAttribute(dataframe,incolumns,outcolumn):\n",
    "    for column in incolumns:\n",
    "        if column in list(dataframe.columns):\n",
    "            dataframe.rename(columns={column:outcolumn},inplace=True)\n",
    "            print('\"{}\" was renamed to \"{}\"'.format(column, outcolumn)) \n",
    "        else:\n",
    "            print('\"{}\" was not present in the table'.format(column)) "
   ]
  },
  {
   "cell_type": "code",
   "execution_count": 30,
   "metadata": {},
   "outputs": [],
   "source": [
    "# # rename attributes\n",
    "# renameAttribute(household_controls_converted,['cid','county_id'],'CO_FIPS')\n",
    "# renameAttribute(employment_controls_converted,['cid','county_id'],'CO_FIPS')\n",
    "# renameAttribute(tazctyeq_converted,['cid','county_id', 'COUNTY'],'CO_FIPS')\n",
    "# renameAttribute(pop_controls_converted,['cid','county_id'],'CO_FIPS')\n",
    "# renameAttribute(households_converted,['cid','county_id'],'CO_FIPS')\n",
    "# renameAttribute(households_for_estimation_converted,['cid','county_id'],'CO_FIPS')\n",
    "# renameAttribute(jobs_converted,['cid','county_id'],'CO_FIPS')\n",
    "# renameAttribute(parcels_converted,['cid','county_id'],'CO_FIPS')\n",
    "# renameAttribute(valid_parcels_converted,['cid','county_id'],'CO_FIPS')"
   ]
  },
  {
   "cell_type": "code",
   "execution_count": 31,
   "metadata": {},
   "outputs": [],
   "source": [
    "# parcels_converted[parcels_converted['cid_old']==2].head()"
   ]
  },
  {
   "cell_type": "markdown",
   "metadata": {},
   "source": [
    "## Export csvs"
   ]
  },
  {
   "cell_type": "code",
   "execution_count": 32,
   "metadata": {},
   "outputs": [],
   "source": [
    "# employment_controls_converted.to_csv(\".\\\\Outputs\\\\employment_controls.csv\", index=False)\n",
    "# tazctyeq_converted.to_csv(\".\\\\Outputs\\\\TAZCTYEQ.csv\", index=False)\n",
    "# pop_controls_converted.to_csv(\".\\\\Outputs\\\\population_controls.csv\", index=False)\n",
    "# household_controls_converted.to_csv(\".\\\\Outputs\\\\household_controls.csv\", index=False)"
   ]
  },
  {
   "cell_type": "markdown",
   "metadata": {},
   "source": [
    "## Load tables into a new h5\n",
    "\n",
    "Table that are not loaded because they exist as csvs:\n",
    "- household_controls\n",
    "- employment_controls\n",
    "\n",
    "Tables that are not loaded because they are unnecessary or duplicates\n",
    "- household_for_estimation\n",
    "- households_for_estimation1\n",
    "- travel_data\n",
    "- valid_parcels\n",
    "- zoning_base_line"
   ]
  },
  {
   "cell_type": "code",
   "execution_count": 33,
   "metadata": {},
   "outputs": [],
   "source": [
    "# store path for new hdf\n",
    "new_hdf = '.\\\\Outputs\\\\remm_data_2015_base_year_02282018.h5'\n",
    "\n",
    "# if it exists already delete it; it will not overwrite\n",
    "if os.path.exists(new_hdf):\n",
    "    try:\n",
    "        new_hdf.close()\n",
    "    except:\n",
    "        pass\n",
    "    \n",
    "    os.remove(new_hdf)\n",
    "\n",
    "# Create empty h5   \n",
    "hdf = pd.HDFStore(new_hdf)   "
   ]
  },
  {
   "cell_type": "code",
   "execution_count": 34,
   "metadata": {},
   "outputs": [],
   "source": [
    "# load the new tables to the h5\n",
    "hdf.put('parcels', parcels_converted.set_index('parcel_id'), format='t', data_columns=True)\n",
    "hdf.put('jobs', jobs_converted.set_index('jobs_id'), format='t', data_columns=True)\n",
    "hdf.put('households', households_converted, format='t', data_columns=True)"
   ]
  },
  {
   "cell_type": "code",
   "execution_count": 35,
   "metadata": {},
   "outputs": [],
   "source": [
    "# load the unchanged tables to the h5\n",
    "# these are from csv because the h5 file was created in an old version of pandas and some tables cant be accessed\n",
    "hdf.put('buildings_for_estimation', pd.read_csv(\".\\\\Inputs\\\\buildings_for_estimation.csv\").set_index('building_id'), format='t', data_columns=True)"
   ]
  },
  {
   "cell_type": "code",
   "execution_count": 36,
   "metadata": {},
   "outputs": [],
   "source": [
    "hdf.put('buildings_for_estimation_grouped', pd.read_csv(\".\\\\Inputs\\\\buildings_for_estimation_grouped.csv\").set_index('building_id'), format='t', data_columns=True)"
   ]
  },
  {
   "cell_type": "code",
   "execution_count": 37,
   "metadata": {},
   "outputs": [],
   "source": [
    "hdf.put('buildings', pd.read_csv(\".\\\\Inputs\\\\buildings.csv\").set_index('building_id'), format='t', data_columns=True)"
   ]
  },
  {
   "cell_type": "code",
   "execution_count": 38,
   "metadata": {},
   "outputs": [],
   "source": [
    "hdf.put('households_for_estimation', households_for_estimation_converted, format='t', data_columns=True)"
   ]
  },
  {
   "cell_type": "code",
   "execution_count": 39,
   "metadata": {},
   "outputs": [],
   "source": [
    "hdf.put('travel_data', travel_data_converted, format='t', data_columns=True)"
   ]
  },
  {
   "cell_type": "code",
   "execution_count": 40,
   "metadata": {},
   "outputs": [],
   "source": [
    "hdf.put('valid_parcels', valid_parcels_converted, format='t', data_columns=True)"
   ]
  },
  {
   "cell_type": "code",
   "execution_count": 41,
   "metadata": {},
   "outputs": [],
   "source": [
    "hdf.put('zoning', pd.read_csv(\".\\\\Inputs\\\\zoning.csv\").set_index('id'), format='t', data_columns=True)"
   ]
  },
  {
   "cell_type": "code",
   "execution_count": 42,
   "metadata": {},
   "outputs": [],
   "source": [
    "hdf.put('zoning_baseline', pd.read_csv(\".\\\\Inputs\\\\zoning_baseline.csv\").set_index('parcel_id'), format='t', data_columns=True)"
   ]
  },
  {
   "cell_type": "code",
   "execution_count": 43,
   "metadata": {},
   "outputs": [],
   "source": [
    "hdf.put('zoning_for_parcels', pd.read_csv(\".\\\\Inputs\\\\zoning_for_parcels.csv\").set_index('parcel'), format='t', data_columns=True)"
   ]
  },
  {
   "cell_type": "code",
   "execution_count": 44,
   "metadata": {},
   "outputs": [],
   "source": [
    "# close the h5\n",
    "hdf.close()"
   ]
  },
  {
   "cell_type": "markdown",
   "metadata": {},
   "source": [
    "## Code dump"
   ]
  },
  {
   "cell_type": "code",
   "execution_count": 45,
   "metadata": {},
   "outputs": [],
   "source": [
    "# hdf.put('household_controls', household_controls_converted.set_index('year'), format='t', data_columns=True)\n",
    "# hdf.put('employment_controls', employment_controls_converted.set_index('year'), format='t', data_columns=True)\n",
    "# hdf.put('household_for_estimation', pd.read_csv(\".\\\\Data\\\\household_for_estimation.csv\").set_index('household_id'), format='t', data_columns=True) # Not used\n",
    "# hdf.put('travel_data', pd.read_csv(\".\\\\Data\\\\travel_data.csv\").set_index(['from_zone_id', 'to_zone_id']), format='t', data_columns=True)\n",
    "# hdf.put('households_for_estimation1', pd.read_csv(\".\\\\Data\\\\households_for_estimation1.csv\").set_index('household_id'), format='t', data_columns=True) # Not used\n",
    "# hdf.put('zoning_base_line', pd.read_csv(\".\\\\Data\\\\zoning_base_line.csv\").set_index('parcel_id'), format='t', data_columns=True) # Not used\n",
    "# hdf.put('valid_parcels', pd.read_csv(\".\\\\Data\\\\valid_parcels.csv\").set_index('parcel_id'), format='t', data_columns=True) # used in datasources.py; commented out"
   ]
  }
 ],
 "metadata": {
  "kernelspec": {
   "display_name": "joshPy3",
   "language": "python",
   "name": "joshpy3"
  },
  "language_info": {
   "codemirror_mode": {
    "name": "ipython",
    "version": 3
   },
   "file_extension": ".py",
   "mimetype": "text/x-python",
   "name": "python",
   "nbconvert_exporter": "python",
   "pygments_lexer": "ipython3",
   "version": "3.7.9"
  }
 },
 "nbformat": 4,
 "nbformat_minor": 4
}
