{
 "cells": [
  {
   "cell_type": "code",
   "execution_count": 1,
   "metadata": {},
   "outputs": [],
   "source": [
    "import os\n",
    "import pandas as pd\n",
    "import numpy as np\n",
    "import glob\n",
    "import matplotlib.pyplot as plt\n",
    "import arcpy\n",
    "from arcgis import GIS\n",
    "from arcgis.features import GeoAccessor, GeoSeriesAccessor\n",
    "arcpy.env.overwriteOutput = True\n",
    "# show all columns\n",
    "pd.options.display.max_columns = None"
   ]
  },
  {
   "cell_type": "code",
   "execution_count": 2,
   "metadata": {},
   "outputs": [],
   "source": [
    "inputs = r'.\\inputs'\n",
    "outputs = r'.\\outputs'"
   ]
  },
  {
   "cell_type": "code",
   "execution_count": 3,
   "metadata": {},
   "outputs": [],
   "source": [
    "# # field must be 'TOTHH', 'HHPOP', 'TOTEMP'\n",
    "# def create_county_dataframe(field, export=False):\n",
    "    \n",
    "#     # create empty list\n",
    "#     rows = []\n",
    "    \n",
    "#     # get list of files\n",
    "#     csvs = glob.glob(os.path.join(inputs, '*SE_WF_*.csv'))\n",
    "#     for csv in csvs:\n",
    "\n",
    "#         # get the year\n",
    "#         year= csv[24:28]\n",
    "\n",
    "#         # read in table\n",
    "#         df = pd.read_csv(csv)\n",
    "        \n",
    "#         # aggregate by county\n",
    "#         df = df.groupby('CO_NAME')[['TOTHH', 'HHPOP', 'TOTEMP']].sum().reset_index()\n",
    "        \n",
    "#         # get value for each county\n",
    "#         davis = float(df[df['CO_NAME']== 'DAVIS'][field])\n",
    "#         saltlake = float(df[df['CO_NAME']== 'SALT LAKE'][field])\n",
    "#         utah = float(df[df['CO_NAME']== 'UTAH'][field])\n",
    "#         weber = float(df[df['CO_NAME']== 'WEBER'][field])\n",
    "        \n",
    "#         # form the row and append to the list\n",
    "#         row = (year, davis, saltlake, utah, weber)\n",
    "#         rows.append(row)\n",
    "\n",
    "#     # create dataframe from list of tuples, convert year col to int, filter to 2050 and earlier\n",
    "#     df2 = pd.DataFrame(rows, columns=[\"year\", \"davis\", \"salt_lake\", \"utah\", \"weber\"])\n",
    "#     df2['year'] = df2['year'].astype(int)\n",
    "#     df2 = df2[df2['year'] <= 2050]\n",
    "\n",
    "#     # export to csv\n",
    "#     if export == True: \n",
    "#         df2.to_csv(os.path.join(outputs, \"remm_yearly_{}.csv\".format(field)))\n",
    "    \n",
    "#     return df2"
   ]
  },
  {
   "cell_type": "code",
   "execution_count": 4,
   "metadata": {},
   "outputs": [],
   "source": [
    "p_base = pd.read_csv(os.path.join(inputs, 'run_435_base_year_2015_parcel_progression_metrics.csv'))\n",
    "p_2015 = pd.read_csv(os.path.join(inputs, 'run_435_year_2015_parcel_progression_metrics.csv'))\n",
    "p_2016 = pd.read_csv(os.path.join(inputs, 'run_435_year_2016_parcel_progression_metrics.csv'))\n",
    "\n",
    "p_base = p_base[p_base['county_id']==57]\n",
    "p_2015 = p_2015[p_2015['county_id']==57]\n",
    "p_2016 = p_2016[p_2016['county_id']==57]\n",
    "\n",
    "p_base = p_base[['parcel_id', 'households_count']]\n",
    "p_2015 = p_2015[['parcel_id', 'households_count']]\n",
    "p_2016 = p_2016[['parcel_id', 'households_count']]\n",
    "\n",
    "p_base.fillna(0, inplace=True)\n",
    "p_2015.fillna(0, inplace=True)\n",
    "p_2016.fillna(0, inplace=True)\n",
    "\n",
    "p_base.columns = ['parcel_id', 'households_count_base']\n",
    "p_2015.columns = ['parcel_id', 'households_count_2015']\n",
    "p_2016.columns = ['parcel_id', 'households_count_2016']"
   ]
  },
  {
   "cell_type": "code",
   "execution_count": 5,
   "metadata": {},
   "outputs": [],
   "source": [
    "p = p_base.merge(p_2015, left_on='parcel_id', right_on='parcel_id', how='inner')\n",
    "p = p.merge(p_2016, left_on='parcel_id', right_on='parcel_id', how='left')\n",
    "p['diff_2015_base'] = p['households_count_2015'] - p['households_count_base']\n",
    "p['diff_2016_2015'] = p['households_count_2016'] - p['households_count_2015']"
   ]
  },
  {
   "cell_type": "code",
   "execution_count": 6,
   "metadata": {},
   "outputs": [],
   "source": [
    "gdb = os.path.join(outputs, \"results.gdb\")\n",
    "if not arcpy.Exists(gdb):\n",
    "    arcpy.CreateFileGDB_management(outputs, \"results.gdb\")"
   ]
  },
  {
   "cell_type": "code",
   "execution_count": 7,
   "metadata": {},
   "outputs": [
    {
     "data": {
      "text/plain": [
       "'E:\\\\Projects\\\\REMM-Analysis-Tools\\\\Investigate_Weber_Capacity\\\\outputs\\\\results.gdb\\\\weber_households'"
      ]
     },
     "execution_count": 7,
     "metadata": {},
     "output_type": "execute_result"
    }
   ],
   "source": [
    "fc = r'E:\\Projects\\REMM-Analysis-Tools\\Investigate_Weber_Capacity\\inputs\\remm.gdb\\weber_parcels'\n",
    "weber_parcels = pd.DataFrame.spatial.from_featureclass(fc)\n",
    "weber_parcels = weber_parcels.merge(p, left_on='parcel_id_REMM', right_on='parcel_id', how='inner')\n",
    "weber_parcels.spatial.to_featureclass(location=os.path.join(gdb,\"weber_households\"))"
   ]
  },
  {
   "cell_type": "code",
   "execution_count": null,
   "metadata": {},
   "outputs": [],
   "source": []
  },
  {
   "cell_type": "code",
   "execution_count": null,
   "metadata": {},
   "outputs": [],
   "source": []
  },
  {
   "cell_type": "code",
   "execution_count": null,
   "metadata": {},
   "outputs": [],
   "source": []
  },
  {
   "cell_type": "code",
   "execution_count": null,
   "metadata": {},
   "outputs": [],
   "source": []
  },
  {
   "cell_type": "code",
   "execution_count": null,
   "metadata": {},
   "outputs": [],
   "source": []
  },
  {
   "cell_type": "code",
   "execution_count": null,
   "metadata": {},
   "outputs": [],
   "source": []
  },
  {
   "cell_type": "code",
   "execution_count": null,
   "metadata": {},
   "outputs": [],
   "source": []
  }
 ],
 "metadata": {
  "kernelspec": {
   "display_name": "joshPy3",
   "language": "python",
   "name": "joshpy3"
  },
  "language_info": {
   "codemirror_mode": {
    "name": "ipython",
    "version": 3
   },
   "file_extension": ".py",
   "mimetype": "text/x-python",
   "name": "python",
   "nbconvert_exporter": "python",
   "pygments_lexer": "ipython3",
   "version": "3.7.9"
  }
 },
 "nbformat": 4,
 "nbformat_minor": 4
}
