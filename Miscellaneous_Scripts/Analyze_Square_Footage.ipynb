{
 "cells": [
  {
   "cell_type": "code",
   "execution_count": 1,
   "metadata": {},
   "outputs": [],
   "source": [
    "import arcpy\n",
    "from arcpy import env\n",
    "import os\n",
    "from arcgis import GIS\n",
    "from arcgis.features import GeoAccessor\n",
    "import pandas as pd\n",
    "\n",
    "arcpy.env.overwriteOutput = True\n",
    "arcpy.env.parallelProcessingFactor = \"90%\"\n",
    "\n",
    "# show all columns\n",
    "pd.options.display.max_columns = None\n",
    "\n",
    "# pd.DataFrame.spatial.from_featureclass(???)\n",
    "# df.spatial.to_featureclass(location=???,sanitize_columns=False)"
   ]
  },
  {
   "cell_type": "code",
   "execution_count": 25,
   "metadata": {},
   "outputs": [],
   "source": [
    "# if not os.path.exists('Outputs'):\n",
    "#     os.makedirs('Outputs')\n",
    "    \n",
    "# outputs = ['.\\\\Outputs', \"scratch.gdb\", 'results.gdb']\n",
    "# gdb = os.path.join(outputs[0], outputs[1])\n",
    "# gdb2 = os.path.join(outputs[0], outputs[2])\n",
    "\n",
    "# if not arcpy.Exists(gdb):\n",
    "#     arcpy.CreateFileGDB_management(outputs[0], outputs[1])\n",
    "\n",
    "# if not arcpy.Exists(gdb2):\n",
    "#     arcpy.CreateFileGDB_management(outputs[0], outputs[2])"
   ]
  },
  {
   "cell_type": "code",
   "execution_count": 2,
   "metadata": {},
   "outputs": [],
   "source": [
    "csv = pd.read_csv(r\"E:\\Tasks\\Quick_Analyze_SQFT\\parcels.csv\")\n",
    "parcels_sdf = pd.DataFrame.spatial.from_featureclass(r\"E:\\REMM\\Base_Year_Data_2019\\v1\\remm_base_year_2019.gdb\\parcels_2019\")"
   ]
  },
  {
   "cell_type": "code",
   "execution_count": 3,
   "metadata": {},
   "outputs": [
    {
     "data": {
      "text/plain": [
       "Index(['OBJECTID', 'parcel_id_REMM', 'CO_NAME', 'TAZID', 'COUNTY_ID',\n",
       "       'PARCEL_ID', 'TOTAL_MKT_VALUE', 'land_value', 'residential_units',\n",
       "       'building_sqft', 'FLOORS_CNT', 'year_built', 'EFFBUILT_YR', 'IS_OUG',\n",
       "       'max_dua', 'max_far', 'max_height', 'type1', 'type2', 'type3', 'type4',\n",
       "       'type5', 'type6', 'type7', 'type8', 'agriculture', 'basebldg',\n",
       "       'NoBuild', 'redev_friction', 'building_type_id', 'x', 'y',\n",
       "       'parcel_acres', 'Split', 'Split_Factor', 'parcel_id_REMM_old',\n",
       "       'building_type', 'residential_price', 'non_residential_price',\n",
       "       'non_residential_sqft', 'TAZID_832', 'TAZID_900', 'parcel_sqft',\n",
       "       'SHAPE'],\n",
       "      dtype='object')"
      ]
     },
     "execution_count": 3,
     "metadata": {},
     "output_type": "execute_result"
    }
   ],
   "source": [
    "parcels_sdf.columns"
   ]
  },
  {
   "cell_type": "code",
   "execution_count": 4,
   "metadata": {},
   "outputs": [
    {
     "data": {
      "text/plain": [
       "Index(['parcel_id_REMM', 'CO_NAME', 'COUNTY_ID', 'PARCEL_ID',\n",
       "       'TOTAL_MKT_VALUE', 'land_value', 'residential_units', 'building_sqft',\n",
       "       'FLOORS_CNT', 'year_built', 'EFFBUILT_YR', 'IS_OUG', 'max_dua',\n",
       "       'max_far', 'max_height', 'type1', 'type2', 'type3', 'type4', 'type5',\n",
       "       'type6', 'type7', 'type8', 'agriculture', 'basebldg', 'NoBuild',\n",
       "       'redev_friction', 'building_type_id', 'x', 'y', 'parcel_acres', 'Split',\n",
       "       'Split_Factor', 'parcel_id_REMM_old', 'building_type',\n",
       "       'residential_price', 'non_residential_price', 'non_residential_sqft',\n",
       "       'TAZID_832', 'TAZID_900', 'Old_PID', 'parent_parcel', 'elevation',\n",
       "       'fwy_exit', 'airport', 'rail_depot', 'stream', 'trail', 'university',\n",
       "       'shape_area', 'volume_one_way', 'volume_two_way', 'airport_distance',\n",
       "       'fwy_exit_dist', 'raildepot_dist', 'university_dist', 'trail_dist',\n",
       "       'stream_dist', 'train_station', 'rail_stn_dist', 'bus_rte_dist',\n",
       "       'bus_stop', 'bus_stop_dist', 'volume_two_way_nofwy', 'distsml_id',\n",
       "       'distmed_id', 'distlrg_id', 'zonal_ppa'],\n",
       "      dtype='object')"
      ]
     },
     "execution_count": 4,
     "metadata": {},
     "output_type": "execute_result"
    }
   ],
   "source": [
    "csv.columns"
   ]
  },
  {
   "cell_type": "code",
   "execution_count": 5,
   "metadata": {},
   "outputs": [],
   "source": [
    "csv = csv[['parcel_id_REMM', 'shape_area']].copy()\n",
    "parcels_sdf = parcels_sdf[['parcel_id_REMM', 'parcel_sqft']].copy()"
   ]
  },
  {
   "cell_type": "code",
   "execution_count": 6,
   "metadata": {},
   "outputs": [],
   "source": [
    "csv['shape_area'] = csv['shape_area'].round(2)\n",
    "parcels_sdf['parcel_sqft'] = parcels_sdf['parcel_sqft'].round(2)"
   ]
  },
  {
   "cell_type": "code",
   "execution_count": 7,
   "metadata": {},
   "outputs": [],
   "source": [
    "merged = csv.merge(parcels_sdf,on='parcel_id_REMM', how='inner')"
   ]
  },
  {
   "cell_type": "code",
   "execution_count": 8,
   "metadata": {},
   "outputs": [
    {
     "data": {
      "text/plain": [
       "(712594, 3)"
      ]
     },
     "execution_count": 8,
     "metadata": {},
     "output_type": "execute_result"
    }
   ],
   "source": [
    "merged.shape"
   ]
  },
  {
   "cell_type": "code",
   "execution_count": 9,
   "metadata": {},
   "outputs": [],
   "source": [
    "merged['diff'] = merged['shape_area'] - merged['parcel_sqft']"
   ]
  },
  {
   "cell_type": "code",
   "execution_count": 10,
   "metadata": {},
   "outputs": [
    {
     "data": {
      "text/plain": [
       "<AxesSubplot:>"
      ]
     },
     "execution_count": 10,
     "metadata": {},
     "output_type": "execute_result"
    },
    {
     "data": {
      "image/png": "[encoded data removed]",
      "text/plain": [
       "<Figure size 432x288 with 1 Axes>"
      ]
     },
     "metadata": {
      "needs_background": "light"
     },
     "output_type": "display_data"
    }
   ],
   "source": [
    "merged['diff'].hist()"
   ]
  },
  {
   "cell_type": "code",
   "execution_count": 12,
   "metadata": {},
   "outputs": [
    {
     "data": {
      "image/png": "[encoded data removed]",
      "text/plain": [
       "<Figure size 432x288 with 1 Axes>"
      ]
     },
     "metadata": {
      "needs_background": "light"
     },
     "output_type": "display_data"
    }
   ],
   "source": [
    "ax1 = merged.plot.scatter(x='shape_area',y='parcel_sqft', c='DarkBlue')"
   ]
  },
  {
   "cell_type": "code",
   "execution_count": 11,
   "metadata": {},
   "outputs": [],
   "source": [
    "merged.to_csv('result.csv')"
   ]
  },
  {
   "cell_type": "code",
   "execution_count": null,
   "metadata": {},
   "outputs": [],
   "source": []
  },
  {
   "cell_type": "code",
   "execution_count": 28,
   "metadata": {},
   "outputs": [],
   "source": [
    "parcels_sdf = parcels_sdf[['parcel_id_REMM', 'parcel_acres']].copy()\n",
    "parcels_sdf['AREA_SQFT'] = parcels_sdf['parcel_acres'] * 43560\n",
    "del parcels_sdf['parcel_acres']"
   ]
  },
  {
   "cell_type": "code",
   "execution_count": 29,
   "metadata": {},
   "outputs": [
    {
     "data": {
      "text/plain": [
       "(712594, 68)"
      ]
     },
     "execution_count": 29,
     "metadata": {},
     "output_type": "execute_result"
    }
   ],
   "source": [
    "csv.shape"
   ]
  },
  {
   "cell_type": "code",
   "execution_count": 30,
   "metadata": {},
   "outputs": [
    {
     "data": {
      "text/plain": [
       "(712594, 2)"
      ]
     },
     "execution_count": 30,
     "metadata": {},
     "output_type": "execute_result"
    }
   ],
   "source": [
    "parcels_sdf.shape"
   ]
  },
  {
   "cell_type": "code",
   "execution_count": 31,
   "metadata": {},
   "outputs": [
    {
     "data": {
      "text/plain": [
       "(712594, 69)"
      ]
     },
     "execution_count": 31,
     "metadata": {},
     "output_type": "execute_result"
    }
   ],
   "source": [
    "new_csv = csv.merge(parcels_sdf, on='parcel_id_REMM', how='inner')\n",
    "new_csv.shape"
   ]
  },
  {
   "cell_type": "code",
   "execution_count": 32,
   "metadata": {},
   "outputs": [],
   "source": [
    "new_csv['shape_area'] = new_csv['AREA_SQFT']\n",
    "del new_csv['AREA_SQFT']"
   ]
  },
  {
   "cell_type": "code",
   "execution_count": 33,
   "metadata": {},
   "outputs": [],
   "source": [
    "new_csv.to_csv(\"parcels_fixed.csv\", index=False)"
   ]
  }
 ],
 "metadata": {
  "interpreter": {
   "hash": "d657bb250ec970b20532561b3a87d14bbf82ce653c71023131e868b5848d28d1"
  },
  "kernelspec": {
   "display_name": "Clone",
   "language": "python",
   "name": "clone"
  },
  "language_info": {
   "codemirror_mode": {
    "name": "ipython",
    "version": 3
   },
   "file_extension": ".py",
   "mimetype": "text/x-python",
   "name": "python",
   "nbconvert_exporter": "python",
   "pygments_lexer": "ipython3",
   "version": "3.7.11"
  },
  "orig_nbformat": 4
 },
 "nbformat": 4,
 "nbformat_minor": 2
}
