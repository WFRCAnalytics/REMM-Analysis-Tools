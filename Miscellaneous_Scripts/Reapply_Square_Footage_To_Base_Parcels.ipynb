{
 "cells": [
  {
   "cell_type": "code",
   "execution_count": 24,
   "metadata": {},
   "outputs": [],
   "source": [
    "import arcpy\n",
    "from arcpy import env\n",
    "import os\n",
    "from arcgis import GIS\n",
    "from arcgis.features import GeoAccessor\n",
    "import pandas as pd\n",
    "\n",
    "arcpy.env.overwriteOutput = True\n",
    "arcpy.env.parallelProcessingFactor = \"90%\"\n",
    "\n",
    "# show all columns\n",
    "pd.options.display.max_columns = None\n",
    "\n",
    "# pd.DataFrame.spatial.from_featureclass(???)\n",
    "# df.spatial.to_featureclass(location=???,sanitize_columns=False)"
   ]
  },
  {
   "cell_type": "code",
   "execution_count": 25,
   "metadata": {},
   "outputs": [],
   "source": [
    "# if not os.path.exists('Outputs'):\n",
    "#     os.makedirs('Outputs')\n",
    "    \n",
    "# outputs = ['.\\\\Outputs', \"scratch.gdb\", 'results.gdb']\n",
    "# gdb = os.path.join(outputs[0], outputs[1])\n",
    "# gdb2 = os.path.join(outputs[0], outputs[2])\n",
    "\n",
    "# if not arcpy.Exists(gdb):\n",
    "#     arcpy.CreateFileGDB_management(outputs[0], outputs[1])\n",
    "\n",
    "# if not arcpy.Exists(gdb2):\n",
    "#     arcpy.CreateFileGDB_management(outputs[0], outputs[2])"
   ]
  },
  {
   "cell_type": "code",
   "execution_count": 26,
   "metadata": {},
   "outputs": [],
   "source": [
    "csv = pd.read_csv(r\"E:\\Tasks\\Reapply_Square_Footage_To_Base_Parcels\\parcels.csv\")\n",
    "parcels_sdf = pd.DataFrame.spatial.from_featureclass(r\"E:\\Tasks\\Reapply_Square_Footage_To_Base_Parcels\\remm_base_year_2019.gdb\\parcels_2019\")"
   ]
  },
  {
   "cell_type": "code",
   "execution_count": 27,
   "metadata": {},
   "outputs": [
    {
     "data": {
      "text/plain": [
       "Index(['OBJECTID', 'parcel_id_REMM', 'CO_NAME', 'TAZID', 'COUNTY_ID',\n",
       "       'PARCEL_ID', 'TOTAL_MKT_VALUE', 'land_value', 'residential_units',\n",
       "       'building_sqft', 'FLOORS_CNT', 'year_built', 'EFFBUILT_YR', 'IS_OUG',\n",
       "       'max_dua', 'max_far', 'max_height', 'type1', 'type2', 'type3', 'type4',\n",
       "       'type5', 'type6', 'type7', 'type8', 'agriculture', 'basebldg',\n",
       "       'NoBuild', 'redev_friction', 'building_type_id', 'x', 'y',\n",
       "       'parcel_acres', 'Split', 'Split_Factor', 'parcel_id_REMM_old',\n",
       "       'building_type', 'residential_price', 'non_residential_price',\n",
       "       'non_residential_sqft', 'TAZID_832', 'TAZID_900', 'SHAPE'],\n",
       "      dtype='object')"
      ]
     },
     "execution_count": 27,
     "metadata": {},
     "output_type": "execute_result"
    }
   ],
   "source": [
    "parcels_sdf.columns"
   ]
  },
  {
   "cell_type": "code",
   "execution_count": 28,
   "metadata": {},
   "outputs": [],
   "source": [
    "parcels_sdf = parcels_sdf[['parcel_id_REMM', 'parcel_acres']].copy()\n",
    "parcels_sdf['AREA_SQFT'] = parcels_sdf['parcel_acres'] * 43560\n",
    "del parcels_sdf['parcel_acres']"
   ]
  },
  {
   "cell_type": "code",
   "execution_count": 29,
   "metadata": {},
   "outputs": [
    {
     "data": {
      "text/plain": [
       "(712594, 68)"
      ]
     },
     "execution_count": 29,
     "metadata": {},
     "output_type": "execute_result"
    }
   ],
   "source": [
    "csv.shape"
   ]
  },
  {
   "cell_type": "code",
   "execution_count": 30,
   "metadata": {},
   "outputs": [
    {
     "data": {
      "text/plain": [
       "(712594, 2)"
      ]
     },
     "execution_count": 30,
     "metadata": {},
     "output_type": "execute_result"
    }
   ],
   "source": [
    "parcels_sdf.shape"
   ]
  },
  {
   "cell_type": "code",
   "execution_count": 31,
   "metadata": {},
   "outputs": [
    {
     "data": {
      "text/plain": [
       "(712594, 69)"
      ]
     },
     "execution_count": 31,
     "metadata": {},
     "output_type": "execute_result"
    }
   ],
   "source": [
    "new_csv = csv.merge(parcels_sdf, on='parcel_id_REMM', how='inner')\n",
    "new_csv.shape"
   ]
  },
  {
   "cell_type": "code",
   "execution_count": 32,
   "metadata": {},
   "outputs": [],
   "source": [
    "new_csv['shape_area'] = new_csv['AREA_SQFT']\n",
    "del new_csv['AREA_SQFT']"
   ]
  },
  {
   "cell_type": "code",
   "execution_count": 33,
   "metadata": {},
   "outputs": [],
   "source": [
    "new_csv.to_csv(\"parcels_fixed.csv\", index=False)"
   ]
  }
 ],
 "metadata": {
  "interpreter": {
   "hash": "d657bb250ec970b20532561b3a87d14bbf82ce653c71023131e868b5848d28d1"
  },
  "kernelspec": {
   "display_name": "Python 3.7.11",
   "language": "python",
   "name": "python3"
  },
  "language_info": {
   "codemirror_mode": {
    "name": "ipython",
    "version": 3
   },
   "file_extension": ".py",
   "mimetype": "text/x-python",
   "name": "python",
   "nbconvert_exporter": "python",
   "pygments_lexer": "ipython3",
   "version": "3.7.11"
  },
  "orig_nbformat": 4
 },
 "nbformat": 4,
 "nbformat_minor": 2
}
