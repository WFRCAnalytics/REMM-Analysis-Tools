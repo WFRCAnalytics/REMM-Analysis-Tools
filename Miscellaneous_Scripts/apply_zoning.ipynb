{
 "cells": [
  {
   "cell_type": "code",
   "execution_count": 17,
   "metadata": {},
   "outputs": [],
   "source": [
    "import arcpy\n",
    "from arcpy import env\n",
    "import os\n",
    "from arcgis import GIS\n",
    "from arcgis.features import GeoAccessor\n",
    "import pandas as pd\n",
    "\n",
    "arcpy.env.overwriteOutput = True\n",
    "arcpy.env.parallelProcessingFactor = \"90%\"\n",
    "\n",
    "# show all columns\n",
    "pd.options.display.max_columns = None\n",
    "\n",
    "# pd.DataFrame.spatial.from_featureclass(???)\n",
    "# df.spatial.to_featureclass(location=???,sanitize_columns=False)"
   ]
  },
  {
   "cell_type": "code",
   "execution_count": 18,
   "metadata": {},
   "outputs": [],
   "source": [
    "# Inputs\n",
    "new_parcels = r\".\\new_remm_base_year_2019.gdb\\parcels_2019\"\n",
    "old_parcels = r\".\\old_remm_base_year_2019.gdb\\parcels_2019\""
   ]
  },
  {
   "cell_type": "code",
   "execution_count": 19,
   "metadata": {},
   "outputs": [],
   "source": [
    "# output directory\n",
    "if not os.path.exists('Outputs'): os.makedirs('Outputs') \n",
    "outputs = ['.\\\\Outputs', 'remm_base_year_2019.gdb']\n",
    "gdb = os.path.join(outputs[0], outputs[1])\n",
    "if not arcpy.Exists(gdb): arcpy.CreateFileGDB_management(outputs[0], outputs[1])"
   ]
  },
  {
   "cell_type": "code",
   "execution_count": 20,
   "metadata": {},
   "outputs": [],
   "source": [
    "pts = arcpy.FeatureToPoint_management(old_parcels, os.path.join(gdb, 'new_pts'), point_location='inside')"
   ]
  },
  {
   "cell_type": "code",
   "execution_count": 21,
   "metadata": {},
   "outputs": [],
   "source": [
    "target_features = pts\n",
    "join_features = new_parcels\n",
    "output_features = os.path.join(gdb, 'sj')\n",
    "\n",
    "fieldmappings = arcpy.FieldMappings()\n",
    "fieldmappings.addTable(target_features)\n",
    "fieldmappings.addTable(join_features)\n",
    "\n",
    "# have to specify since both datasets contain these fields??\n",
    "# fieldmappings.addInputField(join_features, 'max_dua')\n",
    "# fieldmappings.addInputField(join_features, 'max_far')\n",
    "\n",
    "# max dua\n",
    "fieldindex = fieldmappings.findFieldMapIndex('max_dua')\n",
    "fieldmap = fieldmappings.getFieldMap(fieldindex)\n",
    "fieldmap.mergeRule = 'Max'\n",
    "fieldmappings.replaceFieldMap(fieldindex, fieldmap)\n",
    "\n",
    "# max far\n",
    "fieldindex = fieldmappings.findFieldMapIndex('max_far')\n",
    "fieldmap = fieldmappings.getFieldMap(fieldindex)\n",
    "fieldmap.mergeRule = 'Max'\n",
    "fieldmappings.replaceFieldMap(fieldindex, fieldmap)\n",
    "\n",
    "# run the spatial join\n",
    "sj = arcpy.SpatialJoin_analysis(target_features, join_features, output_features,'JOIN_ONE_TO_ONE', \"KEEP_ALL\", \n",
    "                           fieldmappings, \"INTERSECT\")"
   ]
  },
  {
   "cell_type": "code",
   "execution_count": 22,
   "metadata": {},
   "outputs": [],
   "source": [
    "old_parcels_sdf = pd.DataFrame.spatial.from_featureclass(old_parcels)\n",
    "sj_df = pd.DataFrame.spatial.from_featureclass(sj[0])[['parcel_id_REMM', 'max_dua', 'max_far']].copy()\n",
    "sj_df.columns = ['parcel_id_REMM', 'max_dua_NEW', 'max_far_NEW']"
   ]
  },
  {
   "cell_type": "code",
   "execution_count": 23,
   "metadata": {},
   "outputs": [],
   "source": [
    "merged = old_parcels_sdf.merge(sj_df, on='parcel_id_REMM', how='left')\n",
    "\n",
    "merged['max_dua'] = merged['max_dua_NEW']\n",
    "merged['max_far'] = merged['max_far_NEW']\n",
    "\n",
    "del merged['max_dua_NEW']\n",
    "del merged['max_far_NEW']"
   ]
  },
  {
   "cell_type": "code",
   "execution_count": 24,
   "metadata": {},
   "outputs": [
    {
     "data": {
      "text/plain": [
       "'e:\\\\Projects\\\\Apply_Zoning_to_Old_Parcels\\\\Outputs\\\\remm_base_year_2019.gdb\\\\parcels_2019'"
      ]
     },
     "execution_count": 24,
     "metadata": {},
     "output_type": "execute_result"
    }
   ],
   "source": [
    "result = os.path.join(gdb, 'parcels_2019')\n",
    "merged.spatial.to_featureclass(location=result, sanitize_columns=False)"
   ]
  }
 ],
 "metadata": {
  "interpreter": {
   "hash": "d657bb250ec970b20532561b3a87d14bbf82ce653c71023131e868b5848d28d1"
  },
  "kernelspec": {
   "display_name": "Clone",
   "language": "python",
   "name": "clone"
  },
  "language_info": {
   "codemirror_mode": {
    "name": "ipython",
    "version": 3
   },
   "file_extension": ".py",
   "mimetype": "text/x-python",
   "name": "python",
   "nbconvert_exporter": "python",
   "pygments_lexer": "ipython3",
   "version": "3.7.11"
  },
  "varInspector": {
   "cols": {
    "lenName": 16,
    "lenType": 16,
    "lenVar": 40
   },
   "kernels_config": {
    "python": {
     "delete_cmd_postfix": "",
     "delete_cmd_prefix": "del ",
     "library": "var_list.py",
     "varRefreshCmd": "print(var_dic_list())"
    },
    "r": {
     "delete_cmd_postfix": ") ",
     "delete_cmd_prefix": "rm(",
     "library": "var_list.r",
     "varRefreshCmd": "cat(var_dic_list()) "
    }
   },
   "types_to_exclude": [
    "module",
    "function",
    "builtin_function_or_method",
    "instance",
    "_Feature"
   ],
   "window_display": false
  }
 },
 "nbformat": 4,
 "nbformat_minor": 4
}
