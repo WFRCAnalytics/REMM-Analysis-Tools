{
 "cells": [
  {
   "cell_type": "code",
   "execution_count": 1,
   "metadata": {},
   "outputs": [],
   "source": [
    "import os\n",
    "import pandas as pd\n",
    "import glob\n",
    "\n",
    "# show all columns\n",
    "pd.options.display.max_columns = None"
   ]
  },
  {
   "cell_type": "code",
   "execution_count": 2,
   "metadata": {},
   "outputs": [],
   "source": [
    "if not os.path.exists('Outputs'):\n",
    "    os.makedirs('Outputs')\n",
    "    \n",
    "outputs = ['.\\\\Outputs']"
   ]
  },
  {
   "cell_type": "code",
   "execution_count": 3,
   "metadata": {},
   "outputs": [],
   "source": [
    "result1 = pd.read_csv(r\".\\inputs\\centered_vs_noncentered_growth_mq1.csv\", index_col='year')\n",
    "result2 = pd.read_csv(r\".\\inputs\\centered_vs_noncentered_growth_mq2.csv\", index_col='year')\n",
    "result3 = pd.read_csv(r\".\\inputs\\centered_vs_noncentered_growth_mq3.csv\", index_col='year')\n",
    "result4 = pd.read_csv(r\".\\inputs\\centered_vs_noncentered_growth_mq4.csv\", index_col='year')\n",
    "result5 = pd.read_csv(r\".\\inputs\\centered_vs_noncentered_growth_mq5.csv\", index_col='year')\n",
    "result6 = pd.read_csv(r\".\\inputs\\centered_vs_noncentered_growth_mq6.csv\", index_col='year')"
   ]
  },
  {
   "cell_type": "code",
   "execution_count": 10,
   "metadata": {},
   "outputs": [],
   "source": [
    "results = pd.concat([result1, result2, result3, result4, result5, result6])\n",
    "results = results.groupby(results.index).mean().reset_index()\n",
    "results = results.round().astype(int)"
   ]
  },
  {
   "cell_type": "code",
   "execution_count": 11,
   "metadata": {},
   "outputs": [],
   "source": [
    "# export\n",
    "results.to_csv(os.path.join(outputs[0], 'centered_vs_noncentered_growth_6runs_average.csv'), index=False)"
   ]
  }
 ],
 "metadata": {
  "kernelspec": {
   "display_name": "Python 3.7.11",
   "language": "python",
   "name": "python3"
  },
  "language_info": {
   "codemirror_mode": {
    "name": "ipython",
    "version": 3
   },
   "file_extension": ".py",
   "mimetype": "text/x-python",
   "name": "python",
   "nbconvert_exporter": "python",
   "pygments_lexer": "ipython3",
   "version": "3.7.11"
  },
  "orig_nbformat": 4,
  "vscode": {
   "interpreter": {
    "hash": "3245673af07dcc28bdd829afb187282e9288a1f8195a5928b70ecba6e5973721"
   }
  }
 },
 "nbformat": 4,
 "nbformat_minor": 2
}
