{
 "cells": [
  {
   "cell_type": "code",
   "execution_count": 1,
   "metadata": {},
   "outputs": [],
   "source": [
    "import os\n",
    "import pandas as pd\n",
    "import glob\n",
    "\n",
    "# show all columns\n",
    "pd.options.display.max_columns = None"
   ]
  },
  {
   "cell_type": "code",
   "execution_count": 2,
   "metadata": {},
   "outputs": [],
   "source": [
    "if not os.path.exists('Outputs'):\n",
    "    os.makedirs('Outputs')\n",
    "    \n",
    "outputs = ['.\\\\Outputs', \"scratch.gdb\", 'results.gdb']\n",
    "gdb = os.path.join(outputs[0], outputs[1])\n",
    "gdb2 = os.path.join(outputs[0], outputs[2])"
   ]
  },
  {
   "cell_type": "code",
   "execution_count": 3,
   "metadata": {},
   "outputs": [],
   "source": [
    "centers_eq = pd.read_csv(r\".\\Inputs\\Centers_Parcel_EQ_v2.csv\")\n",
    "centers_eq_ids = centers_eq['parcel_id'].to_list()\n",
    "remm_folder = r'D:\\Josh_Projects\\REMM2_For_Python3_Internal_Use_6'\n",
    "include_utah_county = 1"
   ]
  },
  {
   "cell_type": "code",
   "execution_count": 4,
   "metadata": {},
   "outputs": [],
   "source": [
    "center_summary = pd.DataFrame()\n",
    "\n",
    "pm_folder = os.path.join(remm_folder, 'REMMRun\\\\Progression_Metrics')\n",
    "csvs = glob.glob(os.path.join(pm_folder, 'run_*_year_*_parcel_progression_metrics.csv'))\n",
    "csvs = [csv for csv in csvs if 'base' not in csv]\n",
    "\n",
    "for csv in csvs:\n",
    "    df = pd.read_csv(csv)\n",
    "     \n",
    "    year = os.path.basename(csv).split('_')[3]\n",
    "\n",
    "    if include_utah_county == 0:\n",
    "        df = df[df['county_id'] != 49].copy()\n",
    "\n",
    "    # separate into inside and outside of center\n",
    "    in_center = df[df['parcel_id'].isin(centers_eq_ids)==True].copy()\n",
    "    out_center = df[df['parcel_id'].isin(centers_eq_ids)==False].copy()\n",
    "\n",
    "    # new jobs (centered)\n",
    "    in_gov_edu_added = in_center['jobs_gov_edu_added'].sum()\n",
    "    in_jobs_health_added = in_center['jobs_health_added'].sum()\n",
    "    in_jobs_accom_food_added = in_center['jobs_accom_food_added'].sum()\n",
    "    in_jobs_manuf_added = in_center['jobs_manuf_added'].sum()\n",
    "    in_jobs_office_added = in_center['jobs_office_added'].sum()\n",
    "    in_jobs_other_added = in_center['jobs_other_added'].sum()\n",
    "    in_jobs_retail_added = in_center['jobs_retail_added'].sum()\n",
    "    in_jobs_wholesale_added = in_center['jobs_wholesale_added'].sum()\n",
    "\n",
    "    in_new_retail_jobs = in_jobs_accom_food_added + in_jobs_retail_added\n",
    "    in_new_industrial_jobs = in_jobs_manuf_added + in_jobs_wholesale_added\n",
    "    in_new_office_jobs = in_jobs_other_added + in_jobs_office_added + in_jobs_health_added + in_gov_edu_added\n",
    "    in_new_jobs = in_new_retail_jobs + in_new_industrial_jobs + in_new_office_jobs\n",
    "\n",
    "    # new jobs (non-centered)\n",
    "    out_gov_edu_added = out_center['jobs_gov_edu_added'].sum()\n",
    "    out_jobs_health_added = out_center['jobs_health_added'].sum()\n",
    "    out_jobs_accom_food_added = out_center['jobs_accom_food_added'].sum()\n",
    "    out_jobs_manuf_added = out_center['jobs_manuf_added'].sum()\n",
    "    out_jobs_office_added = out_center['jobs_office_added'].sum()\n",
    "    out_jobs_other_added = out_center['jobs_other_added'].sum()\n",
    "    out_jobs_retail_added = out_center['jobs_retail_added'].sum()\n",
    "    out_jobs_wholesale_added = out_center['jobs_wholesale_added'].sum()\n",
    "\n",
    "    out_new_retail_jobs = out_jobs_accom_food_added + out_jobs_retail_added\n",
    "    out_new_industrial_jobs = out_jobs_manuf_added + out_jobs_wholesale_added\n",
    "    out_new_office_jobs = out_jobs_other_added + out_jobs_office_added + out_jobs_health_added + out_gov_edu_added\n",
    "    out_new_jobs = out_new_retail_jobs + out_new_industrial_jobs + out_new_office_jobs\n",
    "\n",
    "    # filter to new residential\n",
    "    in_center_new_sf = in_center[((in_center['was_developed']==1) | (in_center['was_redeveloped']==1)) & ((in_center['is_sf']==1))]\n",
    "    in_center_new_mf = in_center[((in_center['was_developed']==1) | (in_center['was_redeveloped']==1)) & ((in_center['is_mf']==1))]\n",
    "    out_center_new_sf = out_center[((out_center['was_developed']==1) | (out_center['was_redeveloped']==1)) & ((out_center['is_sf']==1))]\n",
    "    out_center_new_mf = out_center[((out_center['was_developed']==1) | (out_center['was_redeveloped']==1)) & ((out_center['is_mf']==1))]\n",
    "\n",
    "    # get the totals & counts\n",
    "    in_new_sf_units = in_center_new_sf['residential_units'].sum()\n",
    "    in_new_mf_units = in_center_new_mf['residential_units'].sum()\n",
    "    out_new_sf_units = out_center_new_sf['residential_units'].sum()\n",
    "    out_new_mf_units = out_center_new_mf['residential_units'].sum()\n",
    "    in_new_units = in_new_sf_units + in_new_mf_units\n",
    "    out_new_units = out_new_sf_units + out_new_mf_units\n",
    "\n",
    "#     in_new_sqft = in_center_new_res['building_sqft'].sum()\n",
    "#     out_new_sqft = out_center_new_res['building_sqft'].sum()\n",
    "#     in_new_bldgs = in_center_new_res['parcel_id'].count()\n",
    "#     out_new_bldgs = out_center_new_res['parcel_id'].count()\n",
    "\n",
    "    # append current data to final dataframe \n",
    "    d = {\n",
    "         'year': [year], \n",
    "         'in_new_res_units': [in_new_units], 'out_new_res_units': [out_new_units], \n",
    "         'in_new_sf_units': [in_new_sf_units], 'out_new_sf_units': [out_new_sf_units],\n",
    "         'in_new_mf_units': [in_new_mf_units], 'out_new_mf_units': [out_new_mf_units],\n",
    "         'in_new_jobs':[in_new_jobs], 'out_new_jobs':[out_new_jobs],\n",
    "         'in_new_retail_jobs':[in_new_retail_jobs], 'out_new_retail_jobs':[out_new_retail_jobs], \n",
    "         'in_new_industrial_jobs':[in_new_industrial_jobs],'out_new_industrial_jobs':[out_new_industrial_jobs], \n",
    "         'in_new_office_jobs':[in_new_office_jobs], 'out_new_office_jobs':[out_new_office_jobs]\n",
    "         }\n",
    "#     d = {'year': [int(year)], 'in_new_units': [in_new_units], 'out_new_units': [out_new_units],'in_new_sqft': [in_new_sqft],'out_new_sqft': [out_new_sqft],'in_new_bldgs': [in_new_bldgs], 'out_new_bldgs': [out_new_bldgs],\n",
    "#          'in_new_retail_jobs':[in_new_retail_jobs], 'out_new_retail_jobs':[out_new_retail_jobs], 'in_new_industrial_jobs':[in_new_industrial_jobs],'out_new_industrial_jobs':[out_new_industrial_jobs], \n",
    "#          'in_new_office_jobs':[in_new_office_jobs], 'out_new_office_jobs':[out_new_office_jobs], 'in_new_jobs':[in_new_jobs], 'out_new_jobs':[out_new_jobs]}\n",
    "\n",
    "    row = pd.DataFrame(data=d)\n",
    "    center_summary = pd.concat([center_summary, row])"
   ]
  },
  {
   "cell_type": "code",
   "execution_count": 5,
   "metadata": {},
   "outputs": [
    {
     "ename": "KeyError",
     "evalue": "'year'",
     "output_type": "error",
     "traceback": [
      "\u001b[1;31m---------------------------------------------------------------------------\u001b[0m",
      "\u001b[1;31mKeyError\u001b[0m                                  Traceback (most recent call last)",
      "\u001b[1;32mc:\\Users\\jreynolds\\AppData\\Local\\ESRI\\conda\\envs\\arcgispro-py3-clone\\lib\\site-packages\\pandas\\core\\indexes\\base.py\u001b[0m in \u001b[0;36mget_loc\u001b[1;34m(self, key, method, tolerance)\u001b[0m\n\u001b[0;32m   3360\u001b[0m             \u001b[1;32mtry\u001b[0m\u001b[1;33m:\u001b[0m\u001b[1;33m\u001b[0m\u001b[1;33m\u001b[0m\u001b[0m\n\u001b[1;32m-> 3361\u001b[1;33m                 \u001b[1;32mreturn\u001b[0m \u001b[0mself\u001b[0m\u001b[1;33m.\u001b[0m\u001b[0m_engine\u001b[0m\u001b[1;33m.\u001b[0m\u001b[0mget_loc\u001b[0m\u001b[1;33m(\u001b[0m\u001b[0mcasted_key\u001b[0m\u001b[1;33m)\u001b[0m\u001b[1;33m\u001b[0m\u001b[1;33m\u001b[0m\u001b[0m\n\u001b[0m\u001b[0;32m   3362\u001b[0m             \u001b[1;32mexcept\u001b[0m \u001b[0mKeyError\u001b[0m \u001b[1;32mas\u001b[0m \u001b[0merr\u001b[0m\u001b[1;33m:\u001b[0m\u001b[1;33m\u001b[0m\u001b[1;33m\u001b[0m\u001b[0m\n",
      "\u001b[1;32mc:\\Users\\jreynolds\\AppData\\Local\\ESRI\\conda\\envs\\arcgispro-py3-clone\\lib\\site-packages\\pandas\\_libs\\index.pyx\u001b[0m in \u001b[0;36mpandas._libs.index.IndexEngine.get_loc\u001b[1;34m()\u001b[0m\n",
      "\u001b[1;32mc:\\Users\\jreynolds\\AppData\\Local\\ESRI\\conda\\envs\\arcgispro-py3-clone\\lib\\site-packages\\pandas\\_libs\\index.pyx\u001b[0m in \u001b[0;36mpandas._libs.index.IndexEngine.get_loc\u001b[1;34m()\u001b[0m\n",
      "\u001b[1;32mpandas\\_libs\\hashtable_class_helper.pxi\u001b[0m in \u001b[0;36mpandas._libs.hashtable.PyObjectHashTable.get_item\u001b[1;34m()\u001b[0m\n",
      "\u001b[1;32mpandas\\_libs\\hashtable_class_helper.pxi\u001b[0m in \u001b[0;36mpandas._libs.hashtable.PyObjectHashTable.get_item\u001b[1;34m()\u001b[0m\n",
      "\u001b[1;31mKeyError\u001b[0m: 'year'",
      "\nThe above exception was the direct cause of the following exception:\n",
      "\u001b[1;31mKeyError\u001b[0m                                  Traceback (most recent call last)",
      "\u001b[1;32m<ipython-input-5-72f729c58686>\u001b[0m in \u001b[0;36m<module>\u001b[1;34m\u001b[0m\n\u001b[0;32m      1\u001b[0m \u001b[1;31m# export\u001b[0m\u001b[1;33m\u001b[0m\u001b[1;33m\u001b[0m\u001b[0m\n\u001b[0;32m      2\u001b[0m \u001b[0mcenter_summary2\u001b[0m \u001b[1;33m=\u001b[0m \u001b[0mcenter_summary\u001b[0m\u001b[1;33m.\u001b[0m\u001b[0mastype\u001b[0m\u001b[1;33m(\u001b[0m\u001b[0mint\u001b[0m\u001b[1;33m)\u001b[0m\u001b[1;33m\u001b[0m\u001b[1;33m\u001b[0m\u001b[0m\n\u001b[1;32m----> 3\u001b[1;33m \u001b[0mcenter_summary2\u001b[0m \u001b[1;33m=\u001b[0m \u001b[0mcenter_summary2\u001b[0m\u001b[1;33m[\u001b[0m\u001b[0mcenter_summary2\u001b[0m\u001b[1;33m[\u001b[0m\u001b[1;34m'year'\u001b[0m\u001b[1;33m]\u001b[0m \u001b[1;33m!=\u001b[0m \u001b[1;36m2019\u001b[0m\u001b[1;33m]\u001b[0m\u001b[1;33m\u001b[0m\u001b[1;33m\u001b[0m\u001b[0m\n\u001b[0m\u001b[0;32m      4\u001b[0m \u001b[0mcenter_summary2\u001b[0m\u001b[1;33m.\u001b[0m\u001b[0mto_csv\u001b[0m\u001b[1;33m(\u001b[0m\u001b[0mos\u001b[0m\u001b[1;33m.\u001b[0m\u001b[0mpath\u001b[0m\u001b[1;33m.\u001b[0m\u001b[0mjoin\u001b[0m\u001b[1;33m(\u001b[0m\u001b[0moutputs\u001b[0m\u001b[1;33m[\u001b[0m\u001b[1;36m0\u001b[0m\u001b[1;33m]\u001b[0m\u001b[1;33m,\u001b[0m \u001b[1;34m'centered_vs_noncentered_growth_mq6.csv'\u001b[0m\u001b[1;33m)\u001b[0m\u001b[1;33m,\u001b[0m \u001b[0mindex\u001b[0m\u001b[1;33m=\u001b[0m\u001b[1;32mFalse\u001b[0m\u001b[1;33m)\u001b[0m\u001b[1;33m\u001b[0m\u001b[1;33m\u001b[0m\u001b[0m\n",
      "\u001b[1;32mc:\\Users\\jreynolds\\AppData\\Local\\ESRI\\conda\\envs\\arcgispro-py3-clone\\lib\\site-packages\\pandas\\core\\frame.py\u001b[0m in \u001b[0;36m__getitem__\u001b[1;34m(self, key)\u001b[0m\n\u001b[0;32m   3456\u001b[0m             \u001b[1;32mif\u001b[0m \u001b[0mself\u001b[0m\u001b[1;33m.\u001b[0m\u001b[0mcolumns\u001b[0m\u001b[1;33m.\u001b[0m\u001b[0mnlevels\u001b[0m \u001b[1;33m>\u001b[0m \u001b[1;36m1\u001b[0m\u001b[1;33m:\u001b[0m\u001b[1;33m\u001b[0m\u001b[1;33m\u001b[0m\u001b[0m\n\u001b[0;32m   3457\u001b[0m                 \u001b[1;32mreturn\u001b[0m \u001b[0mself\u001b[0m\u001b[1;33m.\u001b[0m\u001b[0m_getitem_multilevel\u001b[0m\u001b[1;33m(\u001b[0m\u001b[0mkey\u001b[0m\u001b[1;33m)\u001b[0m\u001b[1;33m\u001b[0m\u001b[1;33m\u001b[0m\u001b[0m\n\u001b[1;32m-> 3458\u001b[1;33m             \u001b[0mindexer\u001b[0m \u001b[1;33m=\u001b[0m \u001b[0mself\u001b[0m\u001b[1;33m.\u001b[0m\u001b[0mcolumns\u001b[0m\u001b[1;33m.\u001b[0m\u001b[0mget_loc\u001b[0m\u001b[1;33m(\u001b[0m\u001b[0mkey\u001b[0m\u001b[1;33m)\u001b[0m\u001b[1;33m\u001b[0m\u001b[1;33m\u001b[0m\u001b[0m\n\u001b[0m\u001b[0;32m   3459\u001b[0m             \u001b[1;32mif\u001b[0m \u001b[0mis_integer\u001b[0m\u001b[1;33m(\u001b[0m\u001b[0mindexer\u001b[0m\u001b[1;33m)\u001b[0m\u001b[1;33m:\u001b[0m\u001b[1;33m\u001b[0m\u001b[1;33m\u001b[0m\u001b[0m\n\u001b[0;32m   3460\u001b[0m                 \u001b[0mindexer\u001b[0m \u001b[1;33m=\u001b[0m \u001b[1;33m[\u001b[0m\u001b[0mindexer\u001b[0m\u001b[1;33m]\u001b[0m\u001b[1;33m\u001b[0m\u001b[1;33m\u001b[0m\u001b[0m\n",
      "\u001b[1;32mc:\\Users\\jreynolds\\AppData\\Local\\ESRI\\conda\\envs\\arcgispro-py3-clone\\lib\\site-packages\\pandas\\core\\indexes\\base.py\u001b[0m in \u001b[0;36mget_loc\u001b[1;34m(self, key, method, tolerance)\u001b[0m\n\u001b[0;32m   3361\u001b[0m                 \u001b[1;32mreturn\u001b[0m \u001b[0mself\u001b[0m\u001b[1;33m.\u001b[0m\u001b[0m_engine\u001b[0m\u001b[1;33m.\u001b[0m\u001b[0mget_loc\u001b[0m\u001b[1;33m(\u001b[0m\u001b[0mcasted_key\u001b[0m\u001b[1;33m)\u001b[0m\u001b[1;33m\u001b[0m\u001b[1;33m\u001b[0m\u001b[0m\n\u001b[0;32m   3362\u001b[0m             \u001b[1;32mexcept\u001b[0m \u001b[0mKeyError\u001b[0m \u001b[1;32mas\u001b[0m \u001b[0merr\u001b[0m\u001b[1;33m:\u001b[0m\u001b[1;33m\u001b[0m\u001b[1;33m\u001b[0m\u001b[0m\n\u001b[1;32m-> 3363\u001b[1;33m                 \u001b[1;32mraise\u001b[0m \u001b[0mKeyError\u001b[0m\u001b[1;33m(\u001b[0m\u001b[0mkey\u001b[0m\u001b[1;33m)\u001b[0m \u001b[1;32mfrom\u001b[0m \u001b[0merr\u001b[0m\u001b[1;33m\u001b[0m\u001b[1;33m\u001b[0m\u001b[0m\n\u001b[0m\u001b[0;32m   3364\u001b[0m \u001b[1;33m\u001b[0m\u001b[0m\n\u001b[0;32m   3365\u001b[0m         \u001b[1;32mif\u001b[0m \u001b[0mis_scalar\u001b[0m\u001b[1;33m(\u001b[0m\u001b[0mkey\u001b[0m\u001b[1;33m)\u001b[0m \u001b[1;32mand\u001b[0m \u001b[0misna\u001b[0m\u001b[1;33m(\u001b[0m\u001b[0mkey\u001b[0m\u001b[1;33m)\u001b[0m \u001b[1;32mand\u001b[0m \u001b[1;32mnot\u001b[0m \u001b[0mself\u001b[0m\u001b[1;33m.\u001b[0m\u001b[0mhasnans\u001b[0m\u001b[1;33m:\u001b[0m\u001b[1;33m\u001b[0m\u001b[1;33m\u001b[0m\u001b[0m\n",
      "\u001b[1;31mKeyError\u001b[0m: 'year'"
     ]
    }
   ],
   "source": [
    "# export\n",
    "center_summary2 = center_summary.astype(int)\n",
    "center_summary2 = center_summary2[center_summary2['year'] != 2019]\n",
    "center_summary2.to_csv(os.path.join(outputs[0], 'centered_vs_noncentered_growth_mq6.csv'), index=False)"
   ]
  }
 ],
 "metadata": {
  "kernelspec": {
   "display_name": "Python 3.7.11",
   "language": "python",
   "name": "python3"
  },
  "language_info": {
   "codemirror_mode": {
    "name": "ipython",
    "version": 3
   },
   "file_extension": ".py",
   "mimetype": "text/x-python",
   "name": "python",
   "nbconvert_exporter": "python",
   "pygments_lexer": "ipython3",
   "version": "3.9.11"
  },
  "orig_nbformat": 4,
  "vscode": {
   "interpreter": {
    "hash": "3245673af07dcc28bdd829afb187282e9288a1f8195a5928b70ecba6e5973721"
   }
  }
 },
 "nbformat": 4,
 "nbformat_minor": 2
}
