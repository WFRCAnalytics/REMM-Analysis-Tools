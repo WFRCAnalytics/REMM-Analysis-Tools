{
 "cells": [
  {
   "cell_type": "code",
   "execution_count": 21,
   "metadata": {},
   "outputs": [],
   "source": [
    "import os\n",
    "import pandas as pd\n",
    "import glob\n",
    "\n",
    "# show all columns\n",
    "pd.options.display.max_columns = None"
   ]
  },
  {
   "cell_type": "code",
   "execution_count": 22,
   "metadata": {},
   "outputs": [],
   "source": [
    "if not os.path.exists('Outputs'):\n",
    "    os.makedirs('Outputs')\n",
    "    \n",
    "outputs = ['.\\\\Outputs', \"scratch.gdb\", 'results.gdb']\n",
    "gdb = os.path.join(outputs[0], outputs[1])\n",
    "gdb2 = os.path.join(outputs[0], outputs[2])"
   ]
  },
  {
   "cell_type": "code",
   "execution_count": 23,
   "metadata": {},
   "outputs": [],
   "source": [
    "centers_eq = pd.read_csv(r\".\\Inputs\\Centers_Parcel_EQ.csv\")\n",
    "centers_eq_ids = centers_eq['parcel_id'].to_list()\n",
    "remm_folder = r'D:\\Josh_Projects\\REMM2_For_Python3_Internal_Use_6'"
   ]
  },
  {
   "cell_type": "code",
   "execution_count": 24,
   "metadata": {},
   "outputs": [],
   "source": [
    "center_summary = pd.DataFrame()\n",
    "\n",
    "pm_folder = os.path.join(remm_folder, 'REMMRun\\\\Progression_Metrics')\n",
    "csvs = glob.glob(os.path.join(pm_folder, 'run_*_year_*_parcel_progression_metrics.csv'))\n",
    "csvs = [csv for csv in csvs if 'base' not in csv]\n",
    "\n",
    "for csv in csvs:\n",
    "    df = pd.read_csv(csv)\n",
    "     \n",
    "    year = os.path.basename(csv).split('_')[3]\n",
    "\n",
    "     # separate into inside and outside of center\n",
    "    in_center = df[df['parcel_id'].isin(centers_eq_ids)==True].copy()\n",
    "    out_center = df[df['parcel_id'].isin(centers_eq_ids)==False].copy()\n",
    "\n",
    "    # new jobs (centered)\n",
    "    in_gov_edu_added = in_center['jobs_gov_edu_added'].sum()\n",
    "    in_jobs_health_added = in_center['jobs_health_added'].sum()\n",
    "    in_jobs_accom_food_added = in_center['jobs_accom_food_added'].sum()\n",
    "    in_jobs_manuf_added = in_center['jobs_manuf_added'].sum()\n",
    "    in_jobs_office_added = in_center['jobs_office_added'].sum()\n",
    "    in_jobs_other_added = in_center['jobs_other_added'].sum()\n",
    "    in_jobs_retail_added = in_center['jobs_retail_added'].sum()\n",
    "    in_jobs_wholesale_added = in_center['jobs_wholesale_added'].sum()\n",
    "\n",
    "    in_new_retail_jobs = in_jobs_accom_food_added + in_jobs_retail_added\n",
    "    in_new_industrial_jobs = in_jobs_manuf_added + in_jobs_wholesale_added\n",
    "    in_new_office_jobs = in_jobs_other_added + in_jobs_office_added + in_jobs_health_added + in_gov_edu_added\n",
    "    in_new_jobs = in_new_retail_jobs + in_new_industrial_jobs + in_new_office_jobs\n",
    "\n",
    "    # new jobs (non-centered)\n",
    "    out_gov_edu_added = out_center['jobs_gov_edu_added'].sum()\n",
    "    out_jobs_health_added = out_center['jobs_health_added'].sum()\n",
    "    out_jobs_accom_food_added = out_center['jobs_accom_food_added'].sum()\n",
    "    out_jobs_manuf_added = out_center['jobs_manuf_added'].sum()\n",
    "    out_jobs_office_added = out_center['jobs_office_added'].sum()\n",
    "    out_jobs_other_added = out_center['jobs_other_added'].sum()\n",
    "    out_jobs_retail_added = out_center['jobs_retail_added'].sum()\n",
    "    out_jobs_wholesale_added = out_center['jobs_wholesale_added'].sum()\n",
    "\n",
    "    out_new_retail_jobs = out_jobs_accom_food_added + out_jobs_retail_added\n",
    "    out_new_industrial_jobs = out_jobs_manuf_added + out_jobs_wholesale_added\n",
    "    out_new_office_jobs = out_jobs_other_added + out_jobs_office_added + out_jobs_health_added + out_gov_edu_added\n",
    "    out_new_jobs = out_new_retail_jobs + out_new_industrial_jobs + out_new_office_jobs\n",
    "\n",
    "    # filter to new residential\n",
    "    in_center_new_sf = in_center[((in_center['was_developed']==1) | (in_center['was_redeveloped']==1)) & ((in_center['is_sf']==1))]\n",
    "    in_center_new_mf = in_center[((in_center['was_developed']==1) | (in_center['was_redeveloped']==1)) & ((in_center['is_mf']==1))]\n",
    "    out_center_new_sf = out_center[((out_center['was_developed']==1) | (out_center['was_redeveloped']==1)) & ((out_center['is_sf']==1))]\n",
    "    out_center_new_mf = out_center[((out_center['was_developed']==1) | (out_center['was_redeveloped']==1)) & ((out_center['is_mf']==1))]\n",
    "\n",
    "    # get the totals & counts\n",
    "    in_new_sf_units = in_center_new_sf['residential_units'].sum()\n",
    "    in_new_mf_units = in_center_new_mf['residential_units'].sum()\n",
    "    out_new_sf_units = out_center_new_sf['residential_units'].sum()\n",
    "    out_new_mf_units = out_center_new_mf['residential_units'].sum()\n",
    "    in_new_units = in_new_sf_units + in_new_mf_units\n",
    "    out_new_units = out_new_sf_units + out_new_mf_units\n",
    "\n",
    "#     in_new_sqft = in_center_new_res['building_sqft'].sum()\n",
    "#     out_new_sqft = out_center_new_res['building_sqft'].sum()\n",
    "#     in_new_bldgs = in_center_new_res['parcel_id'].count()\n",
    "#     out_new_bldgs = out_center_new_res['parcel_id'].count()\n",
    "\n",
    "    # append current data to final dataframe \n",
    "    d = {\n",
    "         'year': [year], \n",
    "         'in_new_res_units': [in_new_units], 'out_new_res_units': [out_new_units], \n",
    "         'in_new_sf_units': [in_new_sf_units], 'out_new_sf_units': [out_new_sf_units],\n",
    "         'in_new_mf_units': [in_new_mf_units], 'out_new_mf_units': [out_new_mf_units],\n",
    "         'in_new_jobs':[in_new_jobs], 'out_new_jobs':[out_new_jobs],\n",
    "         'in_new_retail_jobs':[in_new_retail_jobs], 'out_new_retail_jobs':[out_new_retail_jobs], \n",
    "         'in_new_industrial_jobs':[in_new_industrial_jobs],'out_new_industrial_jobs':[out_new_industrial_jobs], \n",
    "         'in_new_office_jobs':[in_new_office_jobs], 'out_new_office_jobs':[out_new_office_jobs]\n",
    "         }\n",
    "#     d = {'year': [int(year)], 'in_new_units': [in_new_units], 'out_new_units': [out_new_units],'in_new_sqft': [in_new_sqft],'out_new_sqft': [out_new_sqft],'in_new_bldgs': [in_new_bldgs], 'out_new_bldgs': [out_new_bldgs],\n",
    "#          'in_new_retail_jobs':[in_new_retail_jobs], 'out_new_retail_jobs':[out_new_retail_jobs], 'in_new_industrial_jobs':[in_new_industrial_jobs],'out_new_industrial_jobs':[out_new_industrial_jobs], \n",
    "#          'in_new_office_jobs':[in_new_office_jobs], 'out_new_office_jobs':[out_new_office_jobs], 'in_new_jobs':[in_new_jobs], 'out_new_jobs':[out_new_jobs]}\n",
    "\n",
    "    row = pd.DataFrame(data=d)\n",
    "    center_summary = pd.concat([center_summary, row])"
   ]
  },
  {
   "cell_type": "code",
   "execution_count": 25,
   "metadata": {},
   "outputs": [],
   "source": [
    "# export\n",
    "center_summary2 = center_summary.astype(int)\n",
    "center_summary2 = center_summary2[center_summary['year'] != 2019]\n",
    "center_summary2.to_csv(os.path.join(outputs[0], 'centered_vs_noncentered_growth_mq6.csv'), index=False)"
   ]
  }
 ],
 "metadata": {
  "kernelspec": {
   "display_name": "Python 3.7.11",
   "language": "python",
   "name": "python3"
  },
  "language_info": {
   "codemirror_mode": {
    "name": "ipython",
    "version": 3
   },
   "file_extension": ".py",
   "mimetype": "text/x-python",
   "name": "python",
   "nbconvert_exporter": "python",
   "pygments_lexer": "ipython3",
   "version": "3.9.11 [MSC v.1931 64 bit (AMD64)]"
  },
  "orig_nbformat": 4,
  "vscode": {
   "interpreter": {
    "hash": "3245673af07dcc28bdd829afb187282e9288a1f8195a5928b70ecba6e5973721"
   }
  }
 },
 "nbformat": 4,
 "nbformat_minor": 2
}
