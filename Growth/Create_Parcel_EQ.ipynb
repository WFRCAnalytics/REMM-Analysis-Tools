{
 "cells": [
  {
   "cell_type": "code",
   "execution_count": 1,
   "metadata": {},
   "outputs": [],
   "source": [
    "import arcpy\n",
    "from arcpy import env\n",
    "import os\n",
    "from arcgis import GIS\n",
    "from arcgis.features import GeoAccessor\n",
    "from arcgis.features import GeoSeriesAccessor\n",
    "import pandas as pd\n",
    "\n",
    "arcpy.env.overwriteOutput = True\n",
    "arcpy.env.parallelProcessingFactor = \"90%\"\n",
    "\n",
    "# show all columns\n",
    "pd.options.display.max_columns = None\n",
    "\n",
    "# pd.DataFrame.spatial.from_featureclass(???)  \n",
    "# df.spatial.to_featureclass(location=???,sanitize_columns=False)  \n",
    "\n",
    "# gsa = arcgis.features.GeoSeriesAccessor(df['SHAPE'])  \n",
    "# df['AREA'] = gsa.area  # KNOW YOUR UNITS"
   ]
  },
  {
   "cell_type": "code",
   "execution_count": 2,
   "metadata": {},
   "outputs": [],
   "source": [
    "# fill NA values in Spatially enabled dataframes (ignores SHAPE column)\n",
    "def fill_na_sedf(df_with_shape_column, fill_value=0):\n",
    "    if 'SHAPE' in list(df_with_shape_column.columns):\n",
    "        df = df_with_shape_column.copy()\n",
    "        shape_column = df['SHAPE'].copy()\n",
    "        del df['SHAPE']\n",
    "        return df.fillna(fill_value).merge(shape_column,left_index=True, right_index=True, how='inner')\n",
    "    else:\n",
    "        raise Exception(\"Dataframe does not include 'SHAPE' column\")"
   ]
  },
  {
   "cell_type": "code",
   "execution_count": 3,
   "metadata": {},
   "outputs": [],
   "source": [
    "if not os.path.exists('Outputs'):\n",
    "    os.makedirs('Outputs')\n",
    "    \n",
    "outputs = ['.\\\\Outputs', \"scratch.gdb\", 'results.gdb']\n",
    "gdb = os.path.join(outputs[0], outputs[1])\n",
    "gdb2 = os.path.join(outputs[0], outputs[2])\n",
    "\n",
    "if not arcpy.Exists(gdb):\n",
    "    arcpy.CreateFileGDB_management(outputs[0], outputs[1])\n",
    "\n",
    "if not arcpy.Exists(gdb2):\n",
    "    arcpy.CreateFileGDB_management(outputs[0], outputs[2])"
   ]
  },
  {
   "cell_type": "code",
   "execution_count": 4,
   "metadata": {},
   "outputs": [],
   "source": [
    "parcels_centers = pd.DataFrame.spatial.from_featureclass(r\".\\Inputs\\ultimate_parcel_eq.gdb\\parcels_centers\")\n",
    "parcels_infill = pd.DataFrame.spatial.from_featureclass(r\".\\Inputs\\ultimate_parcel_eq.gdb\\parcels_infill\")\n",
    "parcels_counties = pd.DataFrame.spatial.from_featureclass(r\".\\Inputs\\ultimate_parcel_eq.gdb\\parcels_counties\")\n",
    "parcels_cityarea = pd.DataFrame.spatial.from_featureclass(r\".\\Inputs\\ultimate_parcel_eq.gdb\\parcels_cityarea\")"
   ]
  },
  {
   "cell_type": "code",
   "execution_count": 5,
   "metadata": {},
   "outputs": [],
   "source": [
    "parcels_centers2 = parcels_centers[['parcel_id', 'TAZID_832','TAZID_900', 'AreaName',\t'AreaType']].copy()\n",
    "parcels_centers2.rename({'AreaName': 'CENTER_NAME','AreaType': 'CENTER_TYPE'}, axis=1, inplace=True)\n",
    "\n",
    "parcels_infill2 = parcels_infill[['parcel_id', 'Join_Count']].copy()\n",
    "parcels_infill2.rename({'Join_Count': 'INFILL1990'}, axis=1, inplace=True)\n",
    "\n",
    "parcels_counties2 = parcels_counties[['parcel_id', 'NAME', 'FIPS']].copy()\n",
    "parcels_counties2.rename({'NAME': 'COUNTY_NAME', 'FIPS': 'COUNTY_FIPS'}, axis=1, inplace=True)\n",
    "parcels_counties2.loc[parcels_counties2['COUNTY_FIPS'].isin([49])==False , 'MPO'] = 'WFRC'\n",
    "parcels_counties2.loc[parcels_counties2['COUNTY_FIPS'].isin([49])==True , 'MPO'] = 'MAG'\n",
    "\n",
    "parcels_cityarea2 = parcels_cityarea[['parcel_id', 'CityArea']].copy()\n",
    "parcels_cityarea2.rename({'CityArea': 'CITY_AREA'}, axis=1, inplace=True)"
   ]
  },
  {
   "cell_type": "code",
   "execution_count": 6,
   "metadata": {},
   "outputs": [
    {
     "data": {
      "text/html": [
       "<div>\n",
       "<style scoped>\n",
       "    .dataframe tbody tr th:only-of-type {\n",
       "        vertical-align: middle;\n",
       "    }\n",
       "\n",
       "    .dataframe tbody tr th {\n",
       "        vertical-align: top;\n",
       "    }\n",
       "\n",
       "    .dataframe thead th {\n",
       "        text-align: right;\n",
       "    }\n",
       "</style>\n",
       "<table border=\"1\" class=\"dataframe\">\n",
       "  <thead>\n",
       "    <tr style=\"text-align: right;\">\n",
       "      <th></th>\n",
       "      <th>parcel_id</th>\n",
       "      <th>TAZID_832</th>\n",
       "      <th>TAZID_900</th>\n",
       "      <th>CENTER_NAME</th>\n",
       "      <th>CENTER_TYPE</th>\n",
       "      <th>CITY_AREA</th>\n",
       "      <th>COUNTY_NAME</th>\n",
       "      <th>COUNTY_FIPS</th>\n",
       "      <th>MPO</th>\n",
       "      <th>INFILL1990</th>\n",
       "    </tr>\n",
       "  </thead>\n",
       "  <tbody>\n",
       "    <tr>\n",
       "      <th>0</th>\n",
       "      <td>1</td>\n",
       "      <td>611</td>\n",
       "      <td>832</td>\n",
       "      <td>Bountiful Downtown</td>\n",
       "      <td>City Center</td>\n",
       "      <td>Bountiful</td>\n",
       "      <td>DAVIS</td>\n",
       "      <td>11.0</td>\n",
       "      <td>WFRC</td>\n",
       "      <td>1</td>\n",
       "    </tr>\n",
       "    <tr>\n",
       "      <th>1</th>\n",
       "      <td>2</td>\n",
       "      <td>527</td>\n",
       "      <td>704</td>\n",
       "      <td>Layton Midtown</td>\n",
       "      <td>Urban Center</td>\n",
       "      <td>Layton</td>\n",
       "      <td>DAVIS</td>\n",
       "      <td>11.0</td>\n",
       "      <td>WFRC</td>\n",
       "      <td>0</td>\n",
       "    </tr>\n",
       "    <tr>\n",
       "      <th>2</th>\n",
       "      <td>3</td>\n",
       "      <td>620</td>\n",
       "      <td>867</td>\n",
       "      <td>North Salt Lake / Woods Cross Industrial District</td>\n",
       "      <td>Industrial District</td>\n",
       "      <td>Woods Cross</td>\n",
       "      <td>DAVIS</td>\n",
       "      <td>11.0</td>\n",
       "      <td>WFRC</td>\n",
       "      <td>0</td>\n",
       "    </tr>\n",
       "    <tr>\n",
       "      <th>3</th>\n",
       "      <td>4</td>\n",
       "      <td>619</td>\n",
       "      <td>862</td>\n",
       "      <td>None</td>\n",
       "      <td>None</td>\n",
       "      <td>Woods Cross</td>\n",
       "      <td>DAVIS</td>\n",
       "      <td>11.0</td>\n",
       "      <td>WFRC</td>\n",
       "      <td>0</td>\n",
       "    </tr>\n",
       "    <tr>\n",
       "      <th>4</th>\n",
       "      <td>5</td>\n",
       "      <td>605</td>\n",
       "      <td>825</td>\n",
       "      <td>Gateway Crossing</td>\n",
       "      <td>Neighborhood Center</td>\n",
       "      <td>Bountiful</td>\n",
       "      <td>DAVIS</td>\n",
       "      <td>11.0</td>\n",
       "      <td>WFRC</td>\n",
       "      <td>1</td>\n",
       "    </tr>\n",
       "  </tbody>\n",
       "</table>\n",
       "</div>"
      ],
      "text/plain": [
       "   parcel_id  TAZID_832  TAZID_900  \\\n",
       "0          1        611        832   \n",
       "1          2        527        704   \n",
       "2          3        620        867   \n",
       "3          4        619        862   \n",
       "4          5        605        825   \n",
       "\n",
       "                                         CENTER_NAME          CENTER_TYPE  \\\n",
       "0                                 Bountiful Downtown          City Center   \n",
       "1                                     Layton Midtown         Urban Center   \n",
       "2  North Salt Lake / Woods Cross Industrial District  Industrial District   \n",
       "3                                               None                 None   \n",
       "4                                   Gateway Crossing  Neighborhood Center   \n",
       "\n",
       "     CITY_AREA COUNTY_NAME  COUNTY_FIPS   MPO  INFILL1990  \n",
       "0    Bountiful       DAVIS         11.0  WFRC           1  \n",
       "1       Layton       DAVIS         11.0  WFRC           0  \n",
       "2  Woods Cross       DAVIS         11.0  WFRC           0  \n",
       "3  Woods Cross       DAVIS         11.0  WFRC           0  \n",
       "4    Bountiful       DAVIS         11.0  WFRC           1  "
      ]
     },
     "execution_count": 6,
     "metadata": {},
     "output_type": "execute_result"
    }
   ],
   "source": [
    "parcel_eq = parcels_centers2.merge(parcels_cityarea2, on='parcel_id', how='left').merge(parcels_counties2, on='parcel_id', how='left').merge(parcels_infill2, on='parcel_id', how='left')\n",
    "parcel_eq.head()"
   ]
  },
  {
   "cell_type": "code",
   "execution_count": 7,
   "metadata": {},
   "outputs": [],
   "source": [
    "parcel_eq.to_csv(r'.\\Outputs\\parcel_eq_v4.csv', index=False)"
   ]
  }
 ],
 "metadata": {
  "kernelspec": {
   "display_name": "Python 3.7.11",
   "language": "python",
   "name": "python3"
  },
  "language_info": {
   "codemirror_mode": {
    "name": "ipython",
    "version": 3
   },
   "file_extension": ".py",
   "mimetype": "text/x-python",
   "name": "python",
   "nbconvert_exporter": "python",
   "pygments_lexer": "ipython3",
   "version": "3.9.11"
  },
  "orig_nbformat": 4,
  "vscode": {
   "interpreter": {
    "hash": "3245673af07dcc28bdd829afb187282e9288a1f8195a5928b70ecba6e5973721"
   }
  }
 },
 "nbformat": 4,
 "nbformat_minor": 2
}
