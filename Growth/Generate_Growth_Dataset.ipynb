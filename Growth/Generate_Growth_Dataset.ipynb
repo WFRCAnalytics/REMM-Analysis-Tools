{
 "cells": [
  {
   "attachments": {},
   "cell_type": "markdown",
   "metadata": {},
   "source": [
    "##  To do:\n",
    "- hh; jobs (office, industrial, retail); housing units (sf, mf)\n",
    "    - 2019 (average of runs)\n",
    "    - 2050 (average of runs)\n",
    "\n",
    "- append to parcel eq table\n",
    "    - create some pivots"
   ]
  },
  {
   "cell_type": "code",
   "execution_count": 56,
   "metadata": {},
   "outputs": [],
   "source": [
    "import os\n",
    "import pandas as pd\n",
    "import glob\n",
    "\n",
    "# show all columns\n",
    "pd.options.display.max_columns = None"
   ]
  },
  {
   "cell_type": "code",
   "execution_count": 57,
   "metadata": {},
   "outputs": [],
   "source": [
    "outputs = os.path.join(r'.\\Outputs')\n",
    "if not os.path.exists(outputs):\n",
    "    os.makedirs(outputs)"
   ]
  },
  {
   "cell_type": "code",
   "execution_count": 58,
   "metadata": {},
   "outputs": [],
   "source": [
    "# Parcel Equivalency Table\n",
    "eq = pd.read_csv(r\".\\Inputs\\parcel_eq_v5.csv\")\n",
    "\n",
    "# get 2019 and 2050 files\n",
    "remm_pm_2019_1 = pd.read_csv(r\"D:\\Josh_Projects\\REMM2_For_Python3_Internal_Use_1\\REMMRun\\Progression_Metrics\\run_48_year_2019_parcel_progression_metrics.csv\")\n",
    "remm_pm_2050_1 = pd.read_csv(r\"D:\\Josh_Projects\\REMM2_For_Python3_Internal_Use_1\\REMMRun\\Progression_Metrics\\run_48_year_2050_parcel_progression_metrics.csv\")\n",
    "\n",
    "remm_pm_2019_2 = pd.read_csv(r\"D:\\Josh_Projects\\REMM2_For_Python3_Internal_Use_2\\REMMRun\\Progression_Metrics\\run_48_year_2019_parcel_progression_metrics.csv\")\n",
    "remm_pm_2050_2 = pd.read_csv(r\"D:\\Josh_Projects\\REMM2_For_Python3_Internal_Use_2\\REMMRun\\Progression_Metrics\\run_48_year_2050_parcel_progression_metrics.csv\")\n",
    "\n",
    "remm_pm_2019_3 = pd.read_csv(r\"D:\\Josh_Projects\\REMM2_For_Python3_Internal_Use_3\\REMMRun\\Progression_Metrics\\run_48_year_2019_parcel_progression_metrics.csv\")\n",
    "remm_pm_2050_3 = pd.read_csv(r\"D:\\Josh_Projects\\REMM2_For_Python3_Internal_Use_3\\REMMRun\\Progression_Metrics\\run_48_year_2050_parcel_progression_metrics.csv\")\n",
    "\n",
    "remm_pm_2019_4 = pd.read_csv(r\"D:\\Josh_Projects\\REMM2_For_Python3_Internal_Use_4\\REMMRun\\Progression_Metrics\\run_47_year_2019_parcel_progression_metrics.csv\")\n",
    "remm_pm_2050_4 = pd.read_csv(r\"D:\\Josh_Projects\\REMM2_For_Python3_Internal_Use_4\\REMMRun\\Progression_Metrics\\run_47_year_2050_parcel_progression_metrics.csv\")\n",
    "\n",
    "remm_pm_2019_5 = pd.read_csv(r\"D:\\Josh_Projects\\REMM2_For_Python3_Internal_Use_5\\REMMRun\\Progression_Metrics\\run_47_year_2019_parcel_progression_metrics.csv\")\n",
    "remm_pm_2050_5 = pd.read_csv(r\"D:\\Josh_Projects\\REMM2_For_Python3_Internal_Use_5\\REMMRun\\Progression_Metrics\\run_47_year_2050_parcel_progression_metrics.csv\")\n",
    "\n",
    "remm_pm_2019_6 = pd.read_csv(r\"D:\\Josh_Projects\\REMM2_For_Python3_Internal_Use_6\\REMMRun\\Progression_Metrics\\run_46_year_2019_parcel_progression_metrics.csv\")\n",
    "remm_pm_2050_6 = pd.read_csv(r\"D:\\Josh_Projects\\REMM2_For_Python3_Internal_Use_6\\REMMRun\\Progression_Metrics\\run_46_year_2050_parcel_progression_metrics.csv\")"
   ]
  },
  {
   "cell_type": "code",
   "execution_count": 59,
   "metadata": {},
   "outputs": [],
   "source": [
    "def prepare_df(df, year):\n",
    "    df = df.set_index('parcel_id')\n",
    "    df.loc[(df['is_sf']==1), 'sf_units'] = df['residential_units']\n",
    "    df.loc[(df['is_mf']==1), 'mf_units'] = df['residential_units']\n",
    "    df['ind_jobs'] = df['jobs_wholesale'] + df['jobs_manuf']\n",
    "    df['rtl_jobs'] = df['jobs_retail'] + df['jobs_accom_food']\n",
    "    df['off_jobs'] = df['jobs_office'] + df['jobs_gov_edu'] + df['jobs_health'] + df['jobs_other']\n",
    "\n",
    "    df = df[['sf_units', 'mf_units', 'ind_jobs', 'rtl_jobs', 'off_jobs']].copy()\n",
    "    new_col_names = [col + f'_{year}' for col in list(df.columns)]\n",
    "    df.columns = new_col_names\n",
    "    return df.fillna(0)"
   ]
  },
  {
   "cell_type": "code",
   "execution_count": 60,
   "metadata": {},
   "outputs": [],
   "source": [
    "remm_pm_2019 = [remm_pm_2019_1, remm_pm_2019_2, remm_pm_2019_3, remm_pm_2019_4, remm_pm_2019_5, remm_pm_2019_6]\n",
    "remm_pm_2050 = [remm_pm_2050_1, remm_pm_2050_2, remm_pm_2050_3, remm_pm_2050_4, remm_pm_2050_5, remm_pm_2050_6]\n",
    "\n",
    "remm_pm_2019_processed = [prepare_df(df, 2019) for df in remm_pm_2019]\n",
    "remm_pm_2050_processed = [prepare_df(df, 2050) for df in remm_pm_2050]"
   ]
  },
  {
   "cell_type": "code",
   "execution_count": 61,
   "metadata": {},
   "outputs": [],
   "source": [
    "# stack all 6 runs together\n",
    "data_stack_2019 = pd.concat(remm_pm_2019_processed)\n",
    "data_stack_2050 = pd.concat(remm_pm_2050_processed)\n",
    "\n",
    "# average the 6 runs\n",
    "results_2019 = data_stack_2019.groupby(data_stack_2019.index).mean().reset_index().round().astype(int)\n",
    "results_2050 = data_stack_2050.groupby(data_stack_2050.index).mean().reset_index().round().astype(int)\n",
    "\n",
    "results_2019['residential_units_2019'] = results_2019['sf_units_2019'] + results_2019['mf_units_2019']\n",
    "results_2019['ttl_jobs_2019'] = results_2019['off_jobs_2019'] + results_2019['rtl_jobs_2019'] + results_2019['ind_jobs_2019']\n",
    "results_2050['residential_units_2050'] = results_2050['sf_units_2050'] + results_2050['mf_units_2050']\n",
    "results_2050['ttl_jobs_2050'] = results_2050['off_jobs_2050'] + results_2050['rtl_jobs_2050'] + results_2050['ind_jobs_2050']\n"
   ]
  },
  {
   "cell_type": "code",
   "execution_count": 62,
   "metadata": {},
   "outputs": [],
   "source": [
    "# fill na's in parcel eq\n",
    "eq.fillna({'CENTER_NAME':'Non-Center', 'CENTER_TYPE':'Non-Center', 'CITY_AREA':'Unincorporated'}, inplace=True)"
   ]
  },
  {
   "cell_type": "code",
   "execution_count": 63,
   "metadata": {},
   "outputs": [],
   "source": [
    "# export\n",
    "results = eq.merge(results_2019, on='parcel_id', how='left').merge(results_2050, on='parcel_id', how='left')\n",
    "results.to_csv(os.path.join(outputs, 'SE_by_PARCEL.csv'), index = False)"
   ]
  },
  {
   "cell_type": "code",
   "execution_count": 64,
   "metadata": {},
   "outputs": [],
   "source": [
    "# eq.columns"
   ]
  },
  {
   "cell_type": "code",
   "execution_count": 65,
   "metadata": {},
   "outputs": [
    {
     "data": {
      "text/plain": [
       "Index(['parcel_id', 'TAZID_832', 'TAZID_900', 'CENTER_NAME', 'CENTER_TYPE',\n",
       "       'CITY_AREA', 'COUNTY_NAME', 'COUNTY_FIPS', 'MPO', 'INFILL1990',\n",
       "       'parcel_acres', 'sf_units_2019', 'mf_units_2019', 'ind_jobs_2019',\n",
       "       'rtl_jobs_2019', 'off_jobs_2019', 'residential_units_2019',\n",
       "       'ttl_jobs_2019', 'sf_units_2050', 'mf_units_2050', 'ind_jobs_2050',\n",
       "       'rtl_jobs_2050', 'off_jobs_2050', 'residential_units_2050',\n",
       "       'ttl_jobs_2050'],\n",
       "      dtype='object')"
      ]
     },
     "execution_count": 65,
     "metadata": {},
     "output_type": "execute_result"
    }
   ],
   "source": [
    "results.columns"
   ]
  },
  {
   "cell_type": "code",
   "execution_count": 66,
   "metadata": {},
   "outputs": [],
   "source": [
    "# pivot to different geographies\n",
    "data_columns = ['parcel_acres', 'residential_units_2019', 'sf_units_2019',\n",
    "       'mf_units_2019', 'ind_jobs_2019', 'rtl_jobs_2019', 'off_jobs_2019', 'ttl_jobs_2019',\n",
    "       'residential_units_2050', 'sf_units_2050', 'mf_units_2050',\n",
    "       'ind_jobs_2050', 'rtl_jobs_2050', 'off_jobs_2050','ttl_jobs_2050']\n",
    "\n",
    "# aggregations\n",
    "results.groupby('CITY_AREA')[data_columns].sum().reset_index().to_csv(os.path.join(outputs, 'SE_by_CITY_AREA.csv'), index = False)\n",
    "results.groupby('COUNTY_NAME')[data_columns].sum().reset_index().to_csv(os.path.join(outputs, 'SE_by_COUNTY.csv'), index = False)\n",
    "results.groupby('CENTER_NAME')[data_columns].sum().reset_index().to_csv(os.path.join(outputs, 'SE_by_CENTER_NAME.csv'), index = False)\n",
    "results.groupby('CENTER_TYPE')[data_columns].sum().reset_index().to_csv(os.path.join(outputs, 'SE_by_CENTER_TYPE.csv'), index = False)\n",
    "results.groupby('INFILL1990')[data_columns].sum().reset_index().to_csv(os.path.join(outputs, 'SE_by_INFILL1990.csv'), index = False)\n",
    "results.groupby('MPO')[data_columns].sum().reset_index().to_csv(os.path.join(outputs, 'SE_by_MPO.csv'), index = False)\n",
    "\n",
    "# pivots\n",
    "results.pivot_table(index='CENTER_TYPE', columns='COUNTY_NAME', values=data_columns,  aggfunc='sum').fillna(0).reset_index().to_csv(os.path.join(outputs, 'SE_by_CENTER_TYPE_by_COUNTY.csv'), index = False)\n",
    "results.pivot_table(index='COUNTY_NAME', columns='INFILL1990', values=data_columns,  aggfunc='sum').fillna(0).reset_index().to_csv(os.path.join(outputs, 'SE_by_INFILL1990_by_COUNTY.csv'), index = False)"
   ]
  }
 ],
 "metadata": {
  "kernelspec": {
   "display_name": "Python 3.7.11",
   "language": "python",
   "name": "python3"
  },
  "language_info": {
   "codemirror_mode": {
    "name": "ipython",
    "version": 3
   },
   "file_extension": ".py",
   "mimetype": "text/x-python",
   "name": "python",
   "nbconvert_exporter": "python",
   "pygments_lexer": "ipython3",
   "version": "3.7.11"
  },
  "orig_nbformat": 4,
  "vscode": {
   "interpreter": {
    "hash": "3245673af07dcc28bdd829afb187282e9288a1f8195a5928b70ecba6e5973721"
   }
  }
 },
 "nbformat": 4,
 "nbformat_minor": 2
}
