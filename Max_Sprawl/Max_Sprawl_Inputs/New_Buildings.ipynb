{
 "cells": [
  {
   "cell_type": "code",
   "execution_count": 1,
   "metadata": {},
   "outputs": [],
   "source": [
    "import os\n",
    "import sys\n",
    "import time\n",
    "import pandas as pd\n",
    "import arcpy\n",
    "from arcgis.features import GeoAccessor, GeoSeriesAccessor"
   ]
  },
  {
   "cell_type": "code",
   "execution_count": 2,
   "metadata": {},
   "outputs": [
    {
     "data": {
      "text/plain": [
       "Index(['FID', 'Join_Count', 'TARGET_FID', 'parcel_id', 'CO_TAZID', 'DEVACRES',\n",
       "       'TAZID', 'CO_FIPS', 'CO_NAME', 'SHAPE'],\n",
       "      dtype='object')"
      ]
     },
     "execution_count": 2,
     "metadata": {},
     "output_type": "execute_result"
    }
   ],
   "source": [
    "parcels = r\"E:\\Data\\REMM_Parcels_with_TAZID.shp\"\n",
    "parcels_sdf = pd.DataFrame.spatial.from_featureclass(parcels)\n",
    "parcels_sdf.columns"
   ]
  },
  {
   "cell_type": "code",
   "execution_count": 3,
   "metadata": {},
   "outputs": [
    {
     "data": {
      "text/plain": [
       "Index(['FID', 'CO_TAZID', 'DEVACRES', 'TAZID', 'CO_FIPS', 'CO_NAME', 'SHAPE'], dtype='object')"
      ]
     },
     "execution_count": 3,
     "metadata": {},
     "output_type": "execute_result"
    }
   ],
   "source": [
    "taz = '.\\\\Inputs\\\\TAZ_WFRC_UTM12.shp'\n",
    "taz_sdf = pd.DataFrame.spatial.from_featureclass(taz)\n",
    "taz_sdf.columns"
   ]
  },
  {
   "cell_type": "code",
   "execution_count": 4,
   "metadata": {},
   "outputs": [],
   "source": [
    "# new buildings csv\n",
    "nb_2015 = pd.read_csv(r\"E:\\Projects\\REMM2_For_Python3_MAX_SPRAWL\\REMMRun\\run225year2015newbuildings.csv\")\n",
    "nb_2020 = pd.read_csv(r\"E:\\Projects\\REMM2_For_Python3_MAX_SPRAWL\\REMMRun\\run225year2020newbuildings.csv\")\n",
    "nb_2030 = pd.read_csv(r\"E:\\Projects\\REMM2_For_Python3_MAX_SPRAWL\\REMMRun\\run225year2030newbuildings.csv\")\n",
    "nb_2040 = pd.read_csv(r\"E:\\Projects\\REMM2_For_Python3_MAX_SPRAWL\\REMMRun\\run225year2040newbuildings.csv\")\n",
    "nb_2050 = pd.read_csv(r\"E:\\Projects\\REMM2_For_Python3_MAX_SPRAWL\\REMMRun\\run225year2050newbuildings.csv\")"
   ]
  },
  {
   "cell_type": "code",
   "execution_count": 5,
   "metadata": {},
   "outputs": [
    {
     "data": {
      "text/html": [
       "<div>\n",
       "<style scoped>\n",
       "    .dataframe tbody tr th:only-of-type {\n",
       "        vertical-align: middle;\n",
       "    }\n",
       "\n",
       "    .dataframe tbody tr th {\n",
       "        vertical-align: top;\n",
       "    }\n",
       "\n",
       "    .dataframe thead th {\n",
       "        text-align: right;\n",
       "    }\n",
       "</style>\n",
       "<table border=\"1\" class=\"dataframe\">\n",
       "  <thead>\n",
       "    <tr style=\"text-align: right;\">\n",
       "      <th></th>\n",
       "      <th>parcel_id</th>\n",
       "      <th>count_nb</th>\n",
       "    </tr>\n",
       "  </thead>\n",
       "  <tbody>\n",
       "    <tr>\n",
       "      <th>0</th>\n",
       "      <td>698367</td>\n",
       "      <td>1</td>\n",
       "    </tr>\n",
       "    <tr>\n",
       "      <th>1</th>\n",
       "      <td>410912</td>\n",
       "      <td>1</td>\n",
       "    </tr>\n",
       "    <tr>\n",
       "      <th>2</th>\n",
       "      <td>765219</td>\n",
       "      <td>1</td>\n",
       "    </tr>\n",
       "    <tr>\n",
       "      <th>3</th>\n",
       "      <td>439590</td>\n",
       "      <td>1</td>\n",
       "    </tr>\n",
       "    <tr>\n",
       "      <th>4</th>\n",
       "      <td>812328</td>\n",
       "      <td>1</td>\n",
       "    </tr>\n",
       "  </tbody>\n",
       "</table>\n",
       "</div>"
      ],
      "text/plain": [
       "   parcel_id  count_nb\n",
       "0     698367         1\n",
       "1     410912         1\n",
       "2     765219         1\n",
       "3     439590         1\n",
       "4     812328         1"
      ]
     },
     "execution_count": 5,
     "metadata": {},
     "output_type": "execute_result"
    }
   ],
   "source": [
    "nb_by_parcel_2015 = pd.DataFrame(nb_2015['parcel_id'].value_counts()).reset_index()\n",
    "nb_by_parcel_2015.columns = ['parcel_id', 'count_nb']\n",
    "nb_by_parcel_2015.head(5)"
   ]
  },
  {
   "cell_type": "code",
   "execution_count": 6,
   "metadata": {},
   "outputs": [],
   "source": [
    "nb_by_parcel_2020 = pd.DataFrame(nb_2020['parcel_id'].value_counts()).reset_index()\n",
    "nb_by_parcel_2020.columns = ['parcel_id', 'count_nb']\n",
    "\n",
    "nb_by_parcel_2030 = pd.DataFrame(nb_2030['parcel_id'].value_counts()).reset_index()\n",
    "nb_by_parcel_2030.columns = ['parcel_id', 'count_nb']\n",
    "\n",
    "nb_by_parcel_2040 = pd.DataFrame(nb_2040['parcel_id'].value_counts()).reset_index()\n",
    "nb_by_parcel_2040.columns = ['parcel_id', 'count_nb']\n",
    "\n",
    "nb_by_parcel_2050 = pd.DataFrame(nb_2050['parcel_id'].value_counts()).reset_index()\n",
    "nb_by_parcel_2050.columns = ['parcel_id', 'count_nb']"
   ]
  },
  {
   "cell_type": "code",
   "execution_count": 7,
   "metadata": {},
   "outputs": [],
   "source": [
    "parcels_2015 = parcels_sdf.merge(nb_by_parcel_2015, left_on='parcel_id', right_on='parcel_id', how='left')\n",
    "parcels_2020 = parcels_sdf.merge(nb_by_parcel_2020, left_on='parcel_id', right_on='parcel_id', how='left')\n",
    "parcels_2030 = parcels_sdf.merge(nb_by_parcel_2030, left_on='parcel_id', right_on='parcel_id', how='left')\n",
    "parcels_2040 = parcels_sdf.merge(nb_by_parcel_2040, left_on='parcel_id', right_on='parcel_id', how='left')\n",
    "parcels_2050 = parcels_sdf.merge(nb_by_parcel_2050, left_on='parcel_id', right_on='parcel_id', how='left')"
   ]
  },
  {
   "cell_type": "code",
   "execution_count": 8,
   "metadata": {},
   "outputs": [
    {
     "data": {
      "text/html": [
       "<div>\n",
       "<style scoped>\n",
       "    .dataframe tbody tr th:only-of-type {\n",
       "        vertical-align: middle;\n",
       "    }\n",
       "\n",
       "    .dataframe tbody tr th {\n",
       "        vertical-align: top;\n",
       "    }\n",
       "\n",
       "    .dataframe thead th {\n",
       "        text-align: right;\n",
       "    }\n",
       "</style>\n",
       "<table border=\"1\" class=\"dataframe\">\n",
       "  <thead>\n",
       "    <tr style=\"text-align: right;\">\n",
       "      <th></th>\n",
       "      <th>TAZID</th>\n",
       "      <th>count_nb</th>\n",
       "    </tr>\n",
       "  </thead>\n",
       "  <tbody>\n",
       "    <tr>\n",
       "      <th>0</th>\n",
       "      <td>141</td>\n",
       "      <td>0.0</td>\n",
       "    </tr>\n",
       "    <tr>\n",
       "      <th>1</th>\n",
       "      <td>142</td>\n",
       "      <td>0.0</td>\n",
       "    </tr>\n",
       "    <tr>\n",
       "      <th>2</th>\n",
       "      <td>143</td>\n",
       "      <td>0.0</td>\n",
       "    </tr>\n",
       "    <tr>\n",
       "      <th>3</th>\n",
       "      <td>144</td>\n",
       "      <td>0.0</td>\n",
       "    </tr>\n",
       "    <tr>\n",
       "      <th>4</th>\n",
       "      <td>145</td>\n",
       "      <td>0.0</td>\n",
       "    </tr>\n",
       "  </tbody>\n",
       "</table>\n",
       "</div>"
      ],
      "text/plain": [
       "   TAZID  count_nb\n",
       "0    141       0.0\n",
       "1    142       0.0\n",
       "2    143       0.0\n",
       "3    144       0.0\n",
       "4    145       0.0"
      ]
     },
     "execution_count": 8,
     "metadata": {},
     "output_type": "execute_result"
    }
   ],
   "source": [
    "nb_by_taz_2015 = pd.DataFrame(parcels_2015.groupby('TAZID', as_index=False)['count_nb'].sum())\n",
    "nb_by_taz_2015.head(5)"
   ]
  },
  {
   "cell_type": "code",
   "execution_count": 9,
   "metadata": {},
   "outputs": [],
   "source": [
    "nb_by_taz_2020 = pd.DataFrame(parcels_2020.groupby('TAZID', as_index=False)['count_nb'].sum())\n",
    "nb_by_taz_2020.columns = ['TAZID', 'count_nb']\n",
    "\n",
    "nb_by_taz_2030 = pd.DataFrame(parcels_2030.groupby('TAZID', as_index=False)['count_nb'].sum())\n",
    "nb_by_taz_2030.columns = ['TAZID', 'count_nb']\n",
    "\n",
    "nb_by_taz_2040 = pd.DataFrame(parcels_2040.groupby('TAZID', as_index=False)['count_nb'].sum())\n",
    "nb_by_taz_2040.columns = ['TAZID', 'count_nb']\n",
    "\n",
    "nb_by_taz_2050 = pd.DataFrame(parcels_2050.groupby('TAZID', as_index=False)['count_nb'].sum())\n",
    "nb_by_taz_2050.columns = ['TAZID', 'count_nb']"
   ]
  },
  {
   "cell_type": "code",
   "execution_count": 10,
   "metadata": {},
   "outputs": [
    {
     "data": {
      "text/plain": [
       "248.0"
      ]
     },
     "execution_count": 10,
     "metadata": {},
     "output_type": "execute_result"
    }
   ],
   "source": [
    "nb_by_taz_2015['count_nb'].sum()"
   ]
  },
  {
   "cell_type": "code",
   "execution_count": 11,
   "metadata": {},
   "outputs": [],
   "source": [
    "taz_2015 = taz_sdf.merge(nb_by_taz_2015, left_on='TAZID', right_on='TAZID', how='left')\n",
    "taz_2015['count_nb'].fillna(0, inplace=True)\n",
    "\n",
    "taz_2020 = taz_sdf.merge(nb_by_taz_2020, left_on='TAZID', right_on='TAZID', how='left')\n",
    "taz_2020['count_nb'].fillna(0, inplace=True)\n",
    "\n",
    "taz_2030 = taz_sdf.merge(nb_by_taz_2030, left_on='TAZID', right_on='TAZID', how='left')\n",
    "taz_2030['count_nb'].fillna(0, inplace=True)\n",
    "\n",
    "taz_2040 = taz_sdf.merge(nb_by_taz_2040, left_on='TAZID', right_on='TAZID', how='left')\n",
    "taz_2040['count_nb'].fillna(0, inplace=True)\n",
    "\n",
    "taz_2050 = taz_sdf.merge(nb_by_taz_2050, left_on='TAZID', right_on='TAZID', how='left')\n",
    "taz_2050['count_nb'].fillna(0, inplace=True)"
   ]
  },
  {
   "cell_type": "code",
   "execution_count": 12,
   "metadata": {},
   "outputs": [
    {
     "data": {
      "text/html": [
       "<div>\n",
       "<style scoped>\n",
       "    .dataframe tbody tr th:only-of-type {\n",
       "        vertical-align: middle;\n",
       "    }\n",
       "\n",
       "    .dataframe tbody tr th {\n",
       "        vertical-align: top;\n",
       "    }\n",
       "\n",
       "    .dataframe thead th {\n",
       "        text-align: right;\n",
       "    }\n",
       "</style>\n",
       "<table border=\"1\" class=\"dataframe\">\n",
       "  <thead>\n",
       "    <tr style=\"text-align: right;\">\n",
       "      <th></th>\n",
       "      <th>FID</th>\n",
       "      <th>CO_TAZID</th>\n",
       "      <th>DEVACRES</th>\n",
       "      <th>TAZID</th>\n",
       "      <th>CO_FIPS</th>\n",
       "      <th>CO_NAME</th>\n",
       "      <th>SHAPE</th>\n",
       "      <th>count_nb</th>\n",
       "    </tr>\n",
       "  </thead>\n",
       "  <tbody>\n",
       "    <tr>\n",
       "      <th>0</th>\n",
       "      <td>0</td>\n",
       "      <td>491896</td>\n",
       "      <td>194.00</td>\n",
       "      <td>1896</td>\n",
       "      <td>49</td>\n",
       "      <td>UTAH</td>\n",
       "      <td>{'rings': [[[413322.9699998261, 4468422.370000...</td>\n",
       "      <td>0.0</td>\n",
       "    </tr>\n",
       "    <tr>\n",
       "      <th>1</th>\n",
       "      <td>1</td>\n",
       "      <td>492490</td>\n",
       "      <td>163.53</td>\n",
       "      <td>2490</td>\n",
       "      <td>49</td>\n",
       "      <td>UTAH</td>\n",
       "      <td>{'rings': [[[446538.3899997908, 4447316.290000...</td>\n",
       "      <td>8.0</td>\n",
       "    </tr>\n",
       "    <tr>\n",
       "      <th>2</th>\n",
       "      <td>2</td>\n",
       "      <td>492493</td>\n",
       "      <td>172.52</td>\n",
       "      <td>2493</td>\n",
       "      <td>49</td>\n",
       "      <td>UTAH</td>\n",
       "      <td>{'rings': [[[445717.82294877776, 4447316.87087...</td>\n",
       "      <td>16.0</td>\n",
       "    </tr>\n",
       "    <tr>\n",
       "      <th>3</th>\n",
       "      <td>3</td>\n",
       "      <td>492632</td>\n",
       "      <td>316.82</td>\n",
       "      <td>2632</td>\n",
       "      <td>49</td>\n",
       "      <td>UTAH</td>\n",
       "      <td>{'rings': [[[442594.8061128018, 4445568.069968...</td>\n",
       "      <td>28.0</td>\n",
       "    </tr>\n",
       "    <tr>\n",
       "      <th>4</th>\n",
       "      <td>4</td>\n",
       "      <td>491859</td>\n",
       "      <td>1391.86</td>\n",
       "      <td>1859</td>\n",
       "      <td>49</td>\n",
       "      <td>UTAH</td>\n",
       "      <td>{'rings': [[[406997.88032511633, 4470180.33657...</td>\n",
       "      <td>0.0</td>\n",
       "    </tr>\n",
       "  </tbody>\n",
       "</table>\n",
       "</div>"
      ],
      "text/plain": [
       "   FID  CO_TAZID  DEVACRES  TAZID  CO_FIPS CO_NAME  \\\n",
       "0    0    491896    194.00   1896       49    UTAH   \n",
       "1    1    492490    163.53   2490       49    UTAH   \n",
       "2    2    492493    172.52   2493       49    UTAH   \n",
       "3    3    492632    316.82   2632       49    UTAH   \n",
       "4    4    491859   1391.86   1859       49    UTAH   \n",
       "\n",
       "                                               SHAPE  count_nb  \n",
       "0  {'rings': [[[413322.9699998261, 4468422.370000...       0.0  \n",
       "1  {'rings': [[[446538.3899997908, 4447316.290000...       8.0  \n",
       "2  {'rings': [[[445717.82294877776, 4447316.87087...      16.0  \n",
       "3  {'rings': [[[442594.8061128018, 4445568.069968...      28.0  \n",
       "4  {'rings': [[[406997.88032511633, 4470180.33657...       0.0  "
      ]
     },
     "execution_count": 12,
     "metadata": {},
     "output_type": "execute_result"
    }
   ],
   "source": [
    "# Create Total buildings dataframe\n",
    "taz_9999 = taz_2015.copy()\n",
    "taz_9999['count_nb'] = (taz_2015['count_nb'] + taz_2020['count_nb'] + taz_2030['count_nb'] + \n",
    "                        taz_2040['count_nb'] + taz_2050['count_nb'])\n",
    "taz_9999.head()"
   ]
  },
  {
   "cell_type": "code",
   "execution_count": 13,
   "metadata": {},
   "outputs": [],
   "source": [
    "# create output gdb\n",
    "outputs = '.\\\\Outputs'\n",
    "gdb = os.path.join(outputs, \"new_buildings.gdb\")\n",
    "if not arcpy.Exists(gdb):\n",
    "    arcpy.CreateFileGDB_management(outputs, \"new_buildings.gdb\")"
   ]
  },
  {
   "cell_type": "code",
   "execution_count": 17,
   "metadata": {},
   "outputs": [
    {
     "data": {
      "text/plain": [
       "'E:\\\\Projects\\\\REMM-Analysis-Tools\\\\Max_Sprawl\\\\Outputs\\\\new_buildings.gdb\\\\new_buildings_maxsprawl'"
      ]
     },
     "execution_count": 17,
     "metadata": {},
     "output_type": "execute_result"
    }
   ],
   "source": [
    "taz_2015[\"year\"]= 2015\n",
    "taz_2020[\"year\"]= 2020\n",
    "taz_2030[\"year\"]= 2030\n",
    "taz_2040[\"year\"]= 2040\n",
    "taz_2050[\"year\"]= 2050\n",
    "taz_9999[\"year\"]= 9999\n",
    "\n",
    "#concatenate all the tables together to one file\n",
    "taz_tables = [taz_2015, taz_2020, taz_2030, taz_2040, taz_2050, taz_9999]\n",
    "taz_all_sdf = pd.concat(taz_tables)\n",
    "taz_all_sdf.spatial.to_featureclass(location=os.path.join(gdb, 'new_buildings_maxsprawl'))"
   ]
  }
 ],
 "metadata": {
  "kernelspec": {
   "display_name": "joshPy3",
   "language": "python",
   "name": "joshpy3"
  },
  "language_info": {
   "codemirror_mode": {
    "name": "ipython",
    "version": 3
   },
   "file_extension": ".py",
   "mimetype": "text/x-python",
   "name": "python",
   "nbconvert_exporter": "python",
   "pygments_lexer": "ipython3",
   "version": "3.6.10"
  }
 },
 "nbformat": 4,
 "nbformat_minor": 4
}
