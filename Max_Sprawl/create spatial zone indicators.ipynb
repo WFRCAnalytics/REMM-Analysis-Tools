{
 "cells": [
  {
   "cell_type": "code",
   "execution_count": 1,
   "metadata": {},
   "outputs": [],
   "source": [
    "import os\n",
    "import sys\n",
    "import time\n",
    "import pandas as pd\n",
    "import arcpy\n",
    "from arcgis.features import GeoAccessor, GeoSeriesAccessor"
   ]
  },
  {
   "cell_type": "code",
   "execution_count": 29,
   "metadata": {},
   "outputs": [
    {
     "data": {
      "text/plain": [
       "Index(['FID', 'CO_TAZID', 'DEVACRES', 'TAZID', 'CO_FIPS', 'CO_NAME', 'SHAPE'], dtype='object')"
      ]
     },
     "execution_count": 29,
     "metadata": {},
     "output_type": "execute_result"
    }
   ],
   "source": [
    "taz = '..\\\\Data\\\\TAZ_WFRC_UTM12.shp'\n",
    "taz_sdf = pd.DataFrame.spatial.from_featureclass(taz)\n",
    "taz_sdf.columns"
   ]
  },
  {
   "cell_type": "code",
   "execution_count": 4,
   "metadata": {},
   "outputs": [],
   "source": [
    "# create output gdb\n",
    "outputs = '.\\\\Outputs'\n",
    "gdb = os.path.join(outputs, \"runs.gdb\")\n",
    "if not arcpy.Exists(gdb):\n",
    "    arcpy.CreateFileGDB_management(outputs, \"runs.gdb\")"
   ]
  },
  {
   "cell_type": "markdown",
   "metadata": {},
   "source": [
    "# Max Sprawl 1"
   ]
  },
  {
   "cell_type": "code",
   "execution_count": 19,
   "metadata": {},
   "outputs": [],
   "source": [
    "cols = ['zone_id', 'households', 'population', 'jobs', 'residential_units']\n",
    "\n",
    "# max sprawl indicators run 1\n",
    "zone_ind_2015_df = pd.read_csv(r\"E:\\Projects\\REMM2_For_Python3_MAX_SPRAWL\\REMMRun\\zone_indicators_131_2015.csv\")[cols].copy()\n",
    "zone_ind_2020_df = pd.read_csv(r\"E:\\Projects\\REMM2_For_Python3_MAX_SPRAWL\\REMMRun\\zone_indicators_131_2020.csv\")[cols].copy()\n",
    "zone_ind_2030_df = pd.read_csv(r\"E:\\Projects\\REMM2_For_Python3_MAX_SPRAWL\\REMMRun\\zone_indicators_131_2030.csv\")[cols].copy()\n",
    "zone_ind_2040_df = pd.read_csv(r\"E:\\Projects\\REMM2_For_Python3_MAX_SPRAWL\\REMMRun\\zone_indicators_131_2040.csv\")[cols].copy()"
   ]
  },
  {
   "cell_type": "code",
   "execution_count": 20,
   "metadata": {},
   "outputs": [
    {
     "data": {
      "text/html": [
       "<div>\n",
       "<style scoped>\n",
       "    .dataframe tbody tr th:only-of-type {\n",
       "        vertical-align: middle;\n",
       "    }\n",
       "\n",
       "    .dataframe tbody tr th {\n",
       "        vertical-align: top;\n",
       "    }\n",
       "\n",
       "    .dataframe thead th {\n",
       "        text-align: right;\n",
       "    }\n",
       "</style>\n",
       "<table border=\"1\" class=\"dataframe\">\n",
       "  <thead>\n",
       "    <tr style=\"text-align: right;\">\n",
       "      <th></th>\n",
       "      <th>zone_id</th>\n",
       "      <th>households</th>\n",
       "      <th>population</th>\n",
       "      <th>jobs</th>\n",
       "      <th>residential_units</th>\n",
       "    </tr>\n",
       "  </thead>\n",
       "  <tbody>\n",
       "    <tr>\n",
       "      <th>0</th>\n",
       "      <td>2859</td>\n",
       "      <td>23.0</td>\n",
       "      <td>67.219412</td>\n",
       "      <td>1.0</td>\n",
       "      <td>27.0</td>\n",
       "    </tr>\n",
       "    <tr>\n",
       "      <th>1</th>\n",
       "      <td>141</td>\n",
       "      <td>133.0</td>\n",
       "      <td>372.557001</td>\n",
       "      <td>925.0</td>\n",
       "      <td>151.0</td>\n",
       "    </tr>\n",
       "    <tr>\n",
       "      <th>2</th>\n",
       "      <td>2865</td>\n",
       "      <td>29.0</td>\n",
       "      <td>96.568733</td>\n",
       "      <td>0.0</td>\n",
       "      <td>30.0</td>\n",
       "    </tr>\n",
       "    <tr>\n",
       "      <th>3</th>\n",
       "      <td>1914</td>\n",
       "      <td>0.0</td>\n",
       "      <td>0.000000</td>\n",
       "      <td>0.0</td>\n",
       "      <td>1.0</td>\n",
       "    </tr>\n",
       "    <tr>\n",
       "      <th>4</th>\n",
       "      <td>2860</td>\n",
       "      <td>1.0</td>\n",
       "      <td>1.893505</td>\n",
       "      <td>0.0</td>\n",
       "      <td>3.0</td>\n",
       "    </tr>\n",
       "  </tbody>\n",
       "</table>\n",
       "</div>"
      ],
      "text/plain": [
       "   zone_id  households  population   jobs  residential_units\n",
       "0     2859        23.0   67.219412    1.0               27.0\n",
       "1      141       133.0  372.557001  925.0              151.0\n",
       "2     2865        29.0   96.568733    0.0               30.0\n",
       "3     1914         0.0    0.000000    0.0                1.0\n",
       "4     2860         1.0    1.893505    0.0                3.0"
      ]
     },
     "execution_count": 20,
     "metadata": {},
     "output_type": "execute_result"
    }
   ],
   "source": [
    "zone_ind_2015_df.head()"
   ]
  },
  {
   "cell_type": "code",
   "execution_count": 27,
   "metadata": {},
   "outputs": [],
   "source": [
    "zone_ind_2015_df[\"year\"]= 2015\n",
    "zone_ind_2020_df[\"year\"]= 2020\n",
    "zone_ind_2030_df[\"year\"]= 2030\n",
    "zone_ind_2040_df[\"year\"]= 2040\n",
    "\n",
    "#concatenate all the tables together to one file\n",
    "zone_inds_df = [zone_ind_2015_df,zone_ind_2020_df,zone_ind_2030_df,zone_ind_2040_df]\n",
    "all_zones_inds_df = pd.concat(zone_inds_df)"
   ]
  },
  {
   "cell_type": "code",
   "execution_count": 30,
   "metadata": {},
   "outputs": [
    {
     "data": {
      "text/plain": [
       "'E:\\\\Projects\\\\REMM-Analysis-Tools\\\\Max_Sprawl\\\\Outputs\\\\runs.gdb\\\\zone_indicators_ms1'"
      ]
     },
     "execution_count": 30,
     "metadata": {},
     "output_type": "execute_result"
    }
   ],
   "source": [
    "taz_sdf_merged = taz_sdf.merge(all_zones_inds_df, left_on='TAZID', right_on='zone_id', how='left')\n",
    "taz_sdf_merged.spatial.to_featureclass(location=os.path.join(gdb, 'zone_indicators_ms1'))"
   ]
  },
  {
   "cell_type": "markdown",
   "metadata": {},
   "source": [
    "# Regular"
   ]
  },
  {
   "cell_type": "code",
   "execution_count": 32,
   "metadata": {},
   "outputs": [],
   "source": [
    "cols = ['zone_id', 'households', 'population', 'jobs', 'residential_units']\n",
    "\n",
    "zone_ind_2015_df = pd.read_csv(r\"E:\\Projects\\REMM_Try_2\\REMMRun\\zone_indicators_59_2015.csv\")[cols].copy()\n",
    "zone_ind_2020_df = pd.read_csv(r\"E:\\Projects\\REMM_Try_2\\REMMRun\\zone_indicators_59_2020.csv\")[cols].copy()\n",
    "zone_ind_2030_df = pd.read_csv(r\"E:\\Projects\\REMM_Try_2\\REMMRun\\zone_indicators_59_2030.csv\")[cols].copy()\n",
    "zone_ind_2040_df = pd.read_csv(r\"E:\\Projects\\REMM_Try_2\\REMMRun\\zone_indicators_59_2040.csv\")[cols].copy()"
   ]
  },
  {
   "cell_type": "code",
   "execution_count": 33,
   "metadata": {},
   "outputs": [
    {
     "data": {
      "text/plain": [
       "'E:\\\\Projects\\\\REMM-Analysis-Tools\\\\Max_Sprawl\\\\Outputs\\\\runs.gdb\\\\zone_indicators_original'"
      ]
     },
     "execution_count": 33,
     "metadata": {},
     "output_type": "execute_result"
    }
   ],
   "source": [
    "zone_ind_2015_df[\"year\"]= 2015\n",
    "zone_ind_2020_df[\"year\"]= 2020\n",
    "zone_ind_2030_df[\"year\"]= 2030\n",
    "zone_ind_2040_df[\"year\"]= 2040\n",
    "\n",
    "#concatenate all the tables together to one file\n",
    "zone_inds_df = [zone_ind_2015_df,zone_ind_2020_df,zone_ind_2030_df,zone_ind_2040_df]\n",
    "all_zones_inds_df = pd.concat(zone_inds_df)\n",
    "\n",
    "taz_sdf_merged = taz_sdf.merge(all_zones_inds_df, left_on='TAZID', right_on='zone_id', how='left')\n",
    "taz_sdf_merged.spatial.to_featureclass(location=os.path.join(gdb, 'zone_indicators_original'))"
   ]
  }
 ],
 "metadata": {
  "kernelspec": {
   "display_name": "joshPy3",
   "language": "python",
   "name": "joshpy3"
  },
  "language_info": {
   "codemirror_mode": {
    "name": "ipython",
    "version": 3
   },
   "file_extension": ".py",
   "mimetype": "text/x-python",
   "name": "python",
   "nbconvert_exporter": "python",
   "pygments_lexer": "ipython3",
   "version": "3.6.10"
  }
 },
 "nbformat": 4,
 "nbformat_minor": 4
}
