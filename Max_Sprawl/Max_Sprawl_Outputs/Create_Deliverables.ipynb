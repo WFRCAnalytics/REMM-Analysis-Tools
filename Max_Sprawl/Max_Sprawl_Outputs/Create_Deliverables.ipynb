{
 "cells": [
  {
   "cell_type": "code",
   "execution_count": 1,
   "metadata": {},
   "outputs": [],
   "source": [
    "import os\n",
    "import sys\n",
    "import time\n",
    "import pandas as pd\n",
    "import arcpy\n",
    "from arcgis.features import GeoAccessor, GeoSeriesAccessor"
   ]
  },
  {
   "cell_type": "code",
   "execution_count": 2,
   "metadata": {},
   "outputs": [],
   "source": [
    "# show all columns\n",
    "pd.options.display.max_columns = None"
   ]
  },
  {
   "cell_type": "markdown",
   "metadata": {},
   "source": [
    "## 2015"
   ]
  },
  {
   "cell_type": "code",
   "execution_count": 3,
   "metadata": {},
   "outputs": [],
   "source": [
    "# import the taz outputs \n",
    "run1 = pd.read_csv(r'.\\Inputs\\run1\\SE_WF_2015.csv')\n",
    "run2 = pd.read_csv(r'.\\Inputs\\run2\\SE_WF_2015.csv')\n",
    "run3 = pd.read_csv(r'.\\Inputs\\run3\\SE_WF_2015.csv')\n",
    "run4 = pd.read_csv(r'.\\Inputs\\run4\\SE_WF_2015.csv')\n",
    "run5 = pd.read_csv(r'.\\Inputs\\run5\\SE_WF_2015.csv')"
   ]
  },
  {
   "cell_type": "code",
   "execution_count": 4,
   "metadata": {},
   "outputs": [],
   "source": [
    "# average each cell across runs\n",
    "runs = pd.concat([run1,run2,run3,run4,run5])\n",
    "mean = runs.groupby(runs.index).mean()\n",
    "\n",
    "# get county name (CO_NAME) back on the table\n",
    "mean2015 = mean.merge(run1[[';TAZID', 'CO_NAME']], left_on=';TAZID', right_on=';TAZID', how='inner')"
   ]
  },
  {
   "cell_type": "code",
   "execution_count": 5,
   "metadata": {},
   "outputs": [],
   "source": [
    "# export the result\n",
    "mean2015.to_csv(r'.\\Outputs\\SE_WF_2015_Maxsprawl.csv')"
   ]
  },
  {
   "cell_type": "markdown",
   "metadata": {},
   "source": [
    "## 2020"
   ]
  },
  {
   "cell_type": "code",
   "execution_count": 6,
   "metadata": {},
   "outputs": [],
   "source": [
    "# import the taz outputs \n",
    "run1 = pd.read_csv(r'.\\Inputs\\run1\\SE_WF_2020.csv')\n",
    "run2 = pd.read_csv(r'.\\Inputs\\run2\\SE_WF_2020.csv')\n",
    "run3 = pd.read_csv(r'.\\Inputs\\run3\\SE_WF_2020.csv')\n",
    "run4 = pd.read_csv(r'.\\Inputs\\run4\\SE_WF_2020.csv')\n",
    "run5 = pd.read_csv(r'.\\Inputs\\run5\\SE_WF_2020.csv')"
   ]
  },
  {
   "cell_type": "code",
   "execution_count": 7,
   "metadata": {},
   "outputs": [],
   "source": [
    "# average each cell across runs\n",
    "runs = pd.concat([run1,run2,run3,run4,run5])\n",
    "mean = runs.groupby(runs.index).mean()\n",
    "\n",
    "# get county name (CO_NAME) back on the table\n",
    "mean2020 = mean.merge(run1[[';TAZID', 'CO_NAME']], left_on=';TAZID', right_on=';TAZID', how='inner')"
   ]
  },
  {
   "cell_type": "code",
   "execution_count": 8,
   "metadata": {},
   "outputs": [],
   "source": [
    "# export the result\n",
    "mean2020.to_csv(r'.\\Outputs\\SE_WF_2020_Maxsprawl.csv')"
   ]
  },
  {
   "cell_type": "code",
   "execution_count": 9,
   "metadata": {},
   "outputs": [
    {
     "data": {
      "text/html": [
       "<div>\n",
       "<style scoped>\n",
       "    .dataframe tbody tr th:only-of-type {\n",
       "        vertical-align: middle;\n",
       "    }\n",
       "\n",
       "    .dataframe tbody tr th {\n",
       "        vertical-align: top;\n",
       "    }\n",
       "\n",
       "    .dataframe thead th {\n",
       "        text-align: right;\n",
       "    }\n",
       "</style>\n",
       "<table border=\"1\" class=\"dataframe\">\n",
       "  <thead>\n",
       "    <tr style=\"text-align: right;\">\n",
       "      <th></th>\n",
       "      <th>;TAZID</th>\n",
       "      <th>CO_TAZID</th>\n",
       "      <th>TOTHH</th>\n",
       "      <th>HHPOP</th>\n",
       "      <th>HHSIZE</th>\n",
       "      <th>TOTEMP</th>\n",
       "      <th>RETEMP</th>\n",
       "      <th>INDEMP</th>\n",
       "      <th>OTHEMP</th>\n",
       "      <th>ALLEMP</th>\n",
       "      <th>RETL</th>\n",
       "      <th>FOOD</th>\n",
       "      <th>MANU</th>\n",
       "      <th>WSLE</th>\n",
       "      <th>OFFI</th>\n",
       "      <th>GVED</th>\n",
       "      <th>HLTH</th>\n",
       "      <th>OTHR</th>\n",
       "      <th>FM_AGRI</th>\n",
       "      <th>FM_MING</th>\n",
       "      <th>FM_CONS</th>\n",
       "      <th>HBJ</th>\n",
       "      <th>AVGINCOME</th>\n",
       "      <th>Enrol_Elem</th>\n",
       "      <th>Enrol_Midl</th>\n",
       "      <th>Enrol_High</th>\n",
       "      <th>CO_FIPS</th>\n",
       "      <th>CO_NAME</th>\n",
       "    </tr>\n",
       "  </thead>\n",
       "  <tbody>\n",
       "    <tr>\n",
       "      <th>0</th>\n",
       "      <td>141</td>\n",
       "      <td>570141</td>\n",
       "      <td>145.0</td>\n",
       "      <td>390.274663</td>\n",
       "      <td>2.691549</td>\n",
       "      <td>959.0</td>\n",
       "      <td>3.0</td>\n",
       "      <td>728.0</td>\n",
       "      <td>228.0</td>\n",
       "      <td>1245.975037</td>\n",
       "      <td>0.0</td>\n",
       "      <td>3.0</td>\n",
       "      <td>728.0</td>\n",
       "      <td>0.0</td>\n",
       "      <td>12.0</td>\n",
       "      <td>192.0</td>\n",
       "      <td>5.0</td>\n",
       "      <td>19.0</td>\n",
       "      <td>96.200418</td>\n",
       "      <td>180.77305</td>\n",
       "      <td>0.000000</td>\n",
       "      <td>10.001570</td>\n",
       "      <td>60843</td>\n",
       "      <td>0.0</td>\n",
       "      <td>0.0</td>\n",
       "      <td>0.0</td>\n",
       "      <td>57</td>\n",
       "      <td>WEBER</td>\n",
       "    </tr>\n",
       "    <tr>\n",
       "      <th>1</th>\n",
       "      <td>142</td>\n",
       "      <td>570142</td>\n",
       "      <td>33.0</td>\n",
       "      <td>97.815675</td>\n",
       "      <td>2.964111</td>\n",
       "      <td>0.0</td>\n",
       "      <td>0.0</td>\n",
       "      <td>0.0</td>\n",
       "      <td>0.0</td>\n",
       "      <td>16.029542</td>\n",
       "      <td>0.0</td>\n",
       "      <td>0.0</td>\n",
       "      <td>0.0</td>\n",
       "      <td>0.0</td>\n",
       "      <td>0.0</td>\n",
       "      <td>0.0</td>\n",
       "      <td>0.0</td>\n",
       "      <td>0.0</td>\n",
       "      <td>14.029228</td>\n",
       "      <td>0.00000</td>\n",
       "      <td>0.000000</td>\n",
       "      <td>2.000314</td>\n",
       "      <td>60843</td>\n",
       "      <td>0.0</td>\n",
       "      <td>0.0</td>\n",
       "      <td>0.0</td>\n",
       "      <td>57</td>\n",
       "      <td>WEBER</td>\n",
       "    </tr>\n",
       "    <tr>\n",
       "      <th>2</th>\n",
       "      <td>143</td>\n",
       "      <td>570143</td>\n",
       "      <td>52.0</td>\n",
       "      <td>158.085939</td>\n",
       "      <td>3.040114</td>\n",
       "      <td>1.0</td>\n",
       "      <td>0.0</td>\n",
       "      <td>0.0</td>\n",
       "      <td>1.0</td>\n",
       "      <td>26.044469</td>\n",
       "      <td>0.0</td>\n",
       "      <td>0.0</td>\n",
       "      <td>0.0</td>\n",
       "      <td>0.0</td>\n",
       "      <td>1.0</td>\n",
       "      <td>0.0</td>\n",
       "      <td>0.0</td>\n",
       "      <td>0.0</td>\n",
       "      <td>21.043841</td>\n",
       "      <td>0.00000</td>\n",
       "      <td>0.000000</td>\n",
       "      <td>4.000628</td>\n",
       "      <td>60843</td>\n",
       "      <td>0.0</td>\n",
       "      <td>0.0</td>\n",
       "      <td>0.0</td>\n",
       "      <td>57</td>\n",
       "      <td>WEBER</td>\n",
       "    </tr>\n",
       "    <tr>\n",
       "      <th>3</th>\n",
       "      <td>144</td>\n",
       "      <td>570144</td>\n",
       "      <td>31.0</td>\n",
       "      <td>81.019044</td>\n",
       "      <td>2.613518</td>\n",
       "      <td>0.0</td>\n",
       "      <td>0.0</td>\n",
       "      <td>0.0</td>\n",
       "      <td>0.0</td>\n",
       "      <td>16.029542</td>\n",
       "      <td>0.0</td>\n",
       "      <td>0.0</td>\n",
       "      <td>0.0</td>\n",
       "      <td>0.0</td>\n",
       "      <td>0.0</td>\n",
       "      <td>0.0</td>\n",
       "      <td>0.0</td>\n",
       "      <td>0.0</td>\n",
       "      <td>14.029228</td>\n",
       "      <td>0.00000</td>\n",
       "      <td>0.000000</td>\n",
       "      <td>2.000314</td>\n",
       "      <td>66989</td>\n",
       "      <td>0.0</td>\n",
       "      <td>0.0</td>\n",
       "      <td>0.0</td>\n",
       "      <td>57</td>\n",
       "      <td>WEBER</td>\n",
       "    </tr>\n",
       "    <tr>\n",
       "      <th>4</th>\n",
       "      <td>145</td>\n",
       "      <td>570145</td>\n",
       "      <td>165.0</td>\n",
       "      <td>501.922858</td>\n",
       "      <td>3.041957</td>\n",
       "      <td>0.0</td>\n",
       "      <td>0.0</td>\n",
       "      <td>0.0</td>\n",
       "      <td>0.0</td>\n",
       "      <td>30.031333</td>\n",
       "      <td>0.0</td>\n",
       "      <td>0.0</td>\n",
       "      <td>0.0</td>\n",
       "      <td>0.0</td>\n",
       "      <td>0.0</td>\n",
       "      <td>0.0</td>\n",
       "      <td>0.0</td>\n",
       "      <td>0.0</td>\n",
       "      <td>13.027140</td>\n",
       "      <td>0.00000</td>\n",
       "      <td>6.002466</td>\n",
       "      <td>11.001727</td>\n",
       "      <td>66989</td>\n",
       "      <td>0.0</td>\n",
       "      <td>0.0</td>\n",
       "      <td>0.0</td>\n",
       "      <td>57</td>\n",
       "      <td>WEBER</td>\n",
       "    </tr>\n",
       "  </tbody>\n",
       "</table>\n",
       "</div>"
      ],
      "text/plain": [
       "   ;TAZID  CO_TAZID  TOTHH       HHPOP    HHSIZE  TOTEMP  RETEMP  INDEMP  \\\n",
       "0     141    570141  145.0  390.274663  2.691549   959.0     3.0   728.0   \n",
       "1     142    570142   33.0   97.815675  2.964111     0.0     0.0     0.0   \n",
       "2     143    570143   52.0  158.085939  3.040114     1.0     0.0     0.0   \n",
       "3     144    570144   31.0   81.019044  2.613518     0.0     0.0     0.0   \n",
       "4     145    570145  165.0  501.922858  3.041957     0.0     0.0     0.0   \n",
       "\n",
       "   OTHEMP       ALLEMP  RETL  FOOD   MANU  WSLE  OFFI   GVED  HLTH  OTHR  \\\n",
       "0   228.0  1245.975037   0.0   3.0  728.0   0.0  12.0  192.0   5.0  19.0   \n",
       "1     0.0    16.029542   0.0   0.0    0.0   0.0   0.0    0.0   0.0   0.0   \n",
       "2     1.0    26.044469   0.0   0.0    0.0   0.0   1.0    0.0   0.0   0.0   \n",
       "3     0.0    16.029542   0.0   0.0    0.0   0.0   0.0    0.0   0.0   0.0   \n",
       "4     0.0    30.031333   0.0   0.0    0.0   0.0   0.0    0.0   0.0   0.0   \n",
       "\n",
       "     FM_AGRI    FM_MING   FM_CONS        HBJ  AVGINCOME  Enrol_Elem  \\\n",
       "0  96.200418  180.77305  0.000000  10.001570      60843         0.0   \n",
       "1  14.029228    0.00000  0.000000   2.000314      60843         0.0   \n",
       "2  21.043841    0.00000  0.000000   4.000628      60843         0.0   \n",
       "3  14.029228    0.00000  0.000000   2.000314      66989         0.0   \n",
       "4  13.027140    0.00000  6.002466  11.001727      66989         0.0   \n",
       "\n",
       "   Enrol_Midl  Enrol_High  CO_FIPS CO_NAME  \n",
       "0         0.0         0.0       57   WEBER  \n",
       "1         0.0         0.0       57   WEBER  \n",
       "2         0.0         0.0       57   WEBER  \n",
       "3         0.0         0.0       57   WEBER  \n",
       "4         0.0         0.0       57   WEBER  "
      ]
     },
     "execution_count": 9,
     "metadata": {},
     "output_type": "execute_result"
    }
   ],
   "source": [
    "run1.head()"
   ]
  },
  {
   "cell_type": "code",
   "execution_count": 10,
   "metadata": {},
   "outputs": [
    {
     "data": {
      "text/html": [
       "<div>\n",
       "<style scoped>\n",
       "    .dataframe tbody tr th:only-of-type {\n",
       "        vertical-align: middle;\n",
       "    }\n",
       "\n",
       "    .dataframe tbody tr th {\n",
       "        vertical-align: top;\n",
       "    }\n",
       "\n",
       "    .dataframe thead th {\n",
       "        text-align: right;\n",
       "    }\n",
       "</style>\n",
       "<table border=\"1\" class=\"dataframe\">\n",
       "  <thead>\n",
       "    <tr style=\"text-align: right;\">\n",
       "      <th></th>\n",
       "      <th>;TAZID</th>\n",
       "      <th>CO_TAZID</th>\n",
       "      <th>TOTHH</th>\n",
       "      <th>HHPOP</th>\n",
       "      <th>HHSIZE</th>\n",
       "      <th>TOTEMP</th>\n",
       "      <th>RETEMP</th>\n",
       "      <th>INDEMP</th>\n",
       "      <th>OTHEMP</th>\n",
       "      <th>ALLEMP</th>\n",
       "      <th>RETL</th>\n",
       "      <th>FOOD</th>\n",
       "      <th>MANU</th>\n",
       "      <th>WSLE</th>\n",
       "      <th>OFFI</th>\n",
       "      <th>GVED</th>\n",
       "      <th>HLTH</th>\n",
       "      <th>OTHR</th>\n",
       "      <th>FM_AGRI</th>\n",
       "      <th>FM_MING</th>\n",
       "      <th>FM_CONS</th>\n",
       "      <th>HBJ</th>\n",
       "      <th>AVGINCOME</th>\n",
       "      <th>Enrol_Elem</th>\n",
       "      <th>Enrol_Midl</th>\n",
       "      <th>Enrol_High</th>\n",
       "      <th>CO_FIPS</th>\n",
       "    </tr>\n",
       "  </thead>\n",
       "  <tbody>\n",
       "    <tr>\n",
       "      <th>0</th>\n",
       "      <td>141</td>\n",
       "      <td>570141</td>\n",
       "      <td>148.0</td>\n",
       "      <td>404.709993</td>\n",
       "      <td>2.734378</td>\n",
       "      <td>959.4</td>\n",
       "      <td>4.0</td>\n",
       "      <td>731.6</td>\n",
       "      <td>223.8</td>\n",
       "      <td>1246.511401</td>\n",
       "      <td>0.0</td>\n",
       "      <td>4.0</td>\n",
       "      <td>731.6</td>\n",
       "      <td>0.0</td>\n",
       "      <td>11.2</td>\n",
       "      <td>188.6</td>\n",
       "      <td>2.6</td>\n",
       "      <td>21.4</td>\n",
       "      <td>96.341486</td>\n",
       "      <td>180.77305</td>\n",
       "      <td>0.000000</td>\n",
       "      <td>9.996865</td>\n",
       "      <td>60843</td>\n",
       "      <td>0.0</td>\n",
       "      <td>0.0</td>\n",
       "      <td>0.0</td>\n",
       "      <td>57</td>\n",
       "    </tr>\n",
       "    <tr>\n",
       "      <th>1</th>\n",
       "      <td>142</td>\n",
       "      <td>570142</td>\n",
       "      <td>32.8</td>\n",
       "      <td>95.644772</td>\n",
       "      <td>2.915343</td>\n",
       "      <td>0.0</td>\n",
       "      <td>0.0</td>\n",
       "      <td>0.0</td>\n",
       "      <td>0.0</td>\n",
       "      <td>16.049173</td>\n",
       "      <td>0.0</td>\n",
       "      <td>0.0</td>\n",
       "      <td>0.0</td>\n",
       "      <td>0.0</td>\n",
       "      <td>0.0</td>\n",
       "      <td>0.0</td>\n",
       "      <td>0.0</td>\n",
       "      <td>0.0</td>\n",
       "      <td>14.049800</td>\n",
       "      <td>0.00000</td>\n",
       "      <td>0.000000</td>\n",
       "      <td>1.999373</td>\n",
       "      <td>60843</td>\n",
       "      <td>0.0</td>\n",
       "      <td>0.0</td>\n",
       "      <td>0.0</td>\n",
       "      <td>57</td>\n",
       "    </tr>\n",
       "    <tr>\n",
       "      <th>2</th>\n",
       "      <td>143</td>\n",
       "      <td>570143</td>\n",
       "      <td>51.2</td>\n",
       "      <td>155.519392</td>\n",
       "      <td>3.037552</td>\n",
       "      <td>1.4</td>\n",
       "      <td>0.0</td>\n",
       "      <td>0.2</td>\n",
       "      <td>1.2</td>\n",
       "      <td>25.873728</td>\n",
       "      <td>0.0</td>\n",
       "      <td>0.0</td>\n",
       "      <td>0.2</td>\n",
       "      <td>0.0</td>\n",
       "      <td>0.4</td>\n",
       "      <td>0.4</td>\n",
       "      <td>0.4</td>\n",
       "      <td>0.0</td>\n",
       "      <td>21.074700</td>\n",
       "      <td>0.00000</td>\n",
       "      <td>0.000000</td>\n",
       "      <td>3.399028</td>\n",
       "      <td>60843</td>\n",
       "      <td>0.0</td>\n",
       "      <td>0.0</td>\n",
       "      <td>0.0</td>\n",
       "      <td>57</td>\n",
       "    </tr>\n",
       "    <tr>\n",
       "      <th>3</th>\n",
       "      <td>144</td>\n",
       "      <td>570144</td>\n",
       "      <td>31.6</td>\n",
       "      <td>86.356473</td>\n",
       "      <td>2.733316</td>\n",
       "      <td>0.0</td>\n",
       "      <td>0.0</td>\n",
       "      <td>0.0</td>\n",
       "      <td>0.0</td>\n",
       "      <td>18.049379</td>\n",
       "      <td>0.0</td>\n",
       "      <td>0.0</td>\n",
       "      <td>0.0</td>\n",
       "      <td>0.0</td>\n",
       "      <td>0.0</td>\n",
       "      <td>0.0</td>\n",
       "      <td>0.0</td>\n",
       "      <td>0.0</td>\n",
       "      <td>14.049800</td>\n",
       "      <td>0.00000</td>\n",
       "      <td>2.000205</td>\n",
       "      <td>1.999373</td>\n",
       "      <td>66989</td>\n",
       "      <td>0.0</td>\n",
       "      <td>0.0</td>\n",
       "      <td>0.0</td>\n",
       "      <td>57</td>\n",
       "    </tr>\n",
       "    <tr>\n",
       "      <th>4</th>\n",
       "      <td>145</td>\n",
       "      <td>570145</td>\n",
       "      <td>174.0</td>\n",
       "      <td>524.065973</td>\n",
       "      <td>3.013297</td>\n",
       "      <td>0.0</td>\n",
       "      <td>0.0</td>\n",
       "      <td>0.0</td>\n",
       "      <td>0.0</td>\n",
       "      <td>60.645864</td>\n",
       "      <td>0.0</td>\n",
       "      <td>0.0</td>\n",
       "      <td>0.0</td>\n",
       "      <td>0.0</td>\n",
       "      <td>0.0</td>\n",
       "      <td>0.0</td>\n",
       "      <td>0.0</td>\n",
       "      <td>0.0</td>\n",
       "      <td>12.243103</td>\n",
       "      <td>0.00000</td>\n",
       "      <td>36.406554</td>\n",
       "      <td>11.996207</td>\n",
       "      <td>66989</td>\n",
       "      <td>0.0</td>\n",
       "      <td>0.0</td>\n",
       "      <td>0.0</td>\n",
       "      <td>57</td>\n",
       "    </tr>\n",
       "  </tbody>\n",
       "</table>\n",
       "</div>"
      ],
      "text/plain": [
       "   ;TAZID  CO_TAZID  TOTHH       HHPOP    HHSIZE  TOTEMP  RETEMP  INDEMP  \\\n",
       "0     141    570141  148.0  404.709993  2.734378   959.4     4.0   731.6   \n",
       "1     142    570142   32.8   95.644772  2.915343     0.0     0.0     0.0   \n",
       "2     143    570143   51.2  155.519392  3.037552     1.4     0.0     0.2   \n",
       "3     144    570144   31.6   86.356473  2.733316     0.0     0.0     0.0   \n",
       "4     145    570145  174.0  524.065973  3.013297     0.0     0.0     0.0   \n",
       "\n",
       "   OTHEMP       ALLEMP  RETL  FOOD   MANU  WSLE  OFFI   GVED  HLTH  OTHR  \\\n",
       "0   223.8  1246.511401   0.0   4.0  731.6   0.0  11.2  188.6   2.6  21.4   \n",
       "1     0.0    16.049173   0.0   0.0    0.0   0.0   0.0    0.0   0.0   0.0   \n",
       "2     1.2    25.873728   0.0   0.0    0.2   0.0   0.4    0.4   0.4   0.0   \n",
       "3     0.0    18.049379   0.0   0.0    0.0   0.0   0.0    0.0   0.0   0.0   \n",
       "4     0.0    60.645864   0.0   0.0    0.0   0.0   0.0    0.0   0.0   0.0   \n",
       "\n",
       "     FM_AGRI    FM_MING    FM_CONS        HBJ  AVGINCOME  Enrol_Elem  \\\n",
       "0  96.341486  180.77305   0.000000   9.996865      60843         0.0   \n",
       "1  14.049800    0.00000   0.000000   1.999373      60843         0.0   \n",
       "2  21.074700    0.00000   0.000000   3.399028      60843         0.0   \n",
       "3  14.049800    0.00000   2.000205   1.999373      66989         0.0   \n",
       "4  12.243103    0.00000  36.406554  11.996207      66989         0.0   \n",
       "\n",
       "   Enrol_Midl  Enrol_High  CO_FIPS  \n",
       "0         0.0         0.0       57  \n",
       "1         0.0         0.0       57  \n",
       "2         0.0         0.0       57  \n",
       "3         0.0         0.0       57  \n",
       "4         0.0         0.0       57  "
      ]
     },
     "execution_count": 10,
     "metadata": {},
     "output_type": "execute_result"
    }
   ],
   "source": [
    "mean.head()"
   ]
  },
  {
   "cell_type": "markdown",
   "metadata": {},
   "source": [
    "## 2030"
   ]
  },
  {
   "cell_type": "code",
   "execution_count": 11,
   "metadata": {},
   "outputs": [],
   "source": [
    "# import the taz outputs \n",
    "run1 = pd.read_csv(r'.\\Inputs\\run1\\SE_WF_2030.csv')\n",
    "run2 = pd.read_csv(r'.\\Inputs\\run2\\SE_WF_2030.csv')\n",
    "run3 = pd.read_csv(r'.\\Inputs\\run3\\SE_WF_2030.csv')\n",
    "run4 = pd.read_csv(r'.\\Inputs\\run4\\SE_WF_2030.csv')\n",
    "run5 = pd.read_csv(r'.\\Inputs\\run5\\SE_WF_2030.csv')"
   ]
  },
  {
   "cell_type": "code",
   "execution_count": 12,
   "metadata": {},
   "outputs": [],
   "source": [
    "# average each cell across runs\n",
    "runs = pd.concat([run1,run2,run3,run4,run5])\n",
    "mean = runs.groupby(runs.index).mean()\n",
    "\n",
    "# get county name (CO_NAME) back on the table\n",
    "mean2030 = mean.merge(run1[[';TAZID', 'CO_NAME']], left_on=';TAZID', right_on=';TAZID', how='inner')"
   ]
  },
  {
   "cell_type": "code",
   "execution_count": 13,
   "metadata": {},
   "outputs": [],
   "source": [
    "# export the result\n",
    "mean2030.to_csv(r'.\\Outputs\\SE_WF_2030_Maxsprawl.csv')"
   ]
  },
  {
   "cell_type": "markdown",
   "metadata": {},
   "source": [
    "## 2040"
   ]
  },
  {
   "cell_type": "code",
   "execution_count": 14,
   "metadata": {},
   "outputs": [],
   "source": [
    "# import the taz outputs \n",
    "run1 = pd.read_csv(r'.\\Inputs\\run1\\SE_WF_2040.csv')\n",
    "run2 = pd.read_csv(r'.\\Inputs\\run2\\SE_WF_2040.csv')\n",
    "run3 = pd.read_csv(r'.\\Inputs\\run3\\SE_WF_2040.csv')\n",
    "run4 = pd.read_csv(r'.\\Inputs\\run4\\SE_WF_2040.csv')\n",
    "run5 = pd.read_csv(r'.\\Inputs\\run5\\SE_WF_2040.csv')"
   ]
  },
  {
   "cell_type": "code",
   "execution_count": 15,
   "metadata": {},
   "outputs": [],
   "source": [
    "# average each cell across runs\n",
    "runs = pd.concat([run1,run2,run3,run4,run5])\n",
    "mean = runs.groupby(runs.index).mean()\n",
    "\n",
    "# get county name (CO_NAME) back on the table\n",
    "mean2040 = mean.merge(run1[[';TAZID', 'CO_NAME']], left_on=';TAZID', right_on=';TAZID', how='inner')"
   ]
  },
  {
   "cell_type": "code",
   "execution_count": 16,
   "metadata": {},
   "outputs": [],
   "source": [
    "# export the result\n",
    "mean2040.to_csv(r'.\\Outputs\\SE_WF_2040_Maxsprawl.csv')"
   ]
  },
  {
   "cell_type": "markdown",
   "metadata": {},
   "source": [
    "## 2050"
   ]
  },
  {
   "cell_type": "code",
   "execution_count": 17,
   "metadata": {},
   "outputs": [],
   "source": [
    "# import the taz outputs \n",
    "run1 = pd.read_csv(r'.\\Inputs\\run1\\SE_WF_2050.csv')\n",
    "run2 = pd.read_csv(r'.\\Inputs\\run2\\SE_WF_2050.csv')\n",
    "run3 = pd.read_csv(r'.\\Inputs\\run3\\SE_WF_2050.csv')\n",
    "run4 = pd.read_csv(r'.\\Inputs\\run4\\SE_WF_2050.csv')\n",
    "run5 = pd.read_csv(r'.\\Inputs\\run5\\SE_WF_2050.csv')"
   ]
  },
  {
   "cell_type": "code",
   "execution_count": 18,
   "metadata": {},
   "outputs": [],
   "source": [
    "# average each cell across runs\n",
    "runs = pd.concat([run1,run2,run3,run4,run5])\n",
    "mean = runs.groupby(runs.index).mean()\n",
    "\n",
    "# get county name (CO_NAME) back on the table\n",
    "mean2050 = mean.merge(run1[[';TAZID', 'CO_NAME']], left_on=';TAZID', right_on=';TAZID', how='inner')"
   ]
  },
  {
   "cell_type": "code",
   "execution_count": 19,
   "metadata": {},
   "outputs": [],
   "source": [
    "# export the result\n",
    "mean2050.to_csv(r'.\\Outputs\\SE_WF_2050_Maxsprawl.csv')"
   ]
  },
  {
   "cell_type": "markdown",
   "metadata": {},
   "source": [
    "## Create Spatial Outputs"
   ]
  },
  {
   "cell_type": "code",
   "execution_count": 20,
   "metadata": {},
   "outputs": [
    {
     "data": {
      "text/plain": [
       "Index(['FID', 'CO_TAZID', 'DEVACRES', 'TAZID', 'CO_FIPS', 'CO_NAME', 'SHAPE'], dtype='object')"
      ]
     },
     "execution_count": 20,
     "metadata": {},
     "output_type": "execute_result"
    }
   ],
   "source": [
    "# read in the taz shapefile\n",
    "taz = '.\\\\Inputs\\\\TAZ_WFRC_UTM12.shp'\n",
    "taz_sdf = pd.DataFrame.spatial.from_featureclass(taz)\n",
    "taz_sdf.columns"
   ]
  },
  {
   "cell_type": "code",
   "execution_count": 21,
   "metadata": {},
   "outputs": [],
   "source": [
    "# create output gdb\n",
    "outputs = '.\\\\Outputs'\n",
    "gdb = os.path.join(outputs, \"max_sprawl_results.gdb\")\n",
    "if not arcpy.Exists(gdb):\n",
    "    arcpy.CreateFileGDB_management(outputs, \"max_sprawl_results.gdb\")"
   ]
  },
  {
   "cell_type": "code",
   "execution_count": 22,
   "metadata": {},
   "outputs": [
    {
     "data": {
      "text/plain": [
       "'E:\\\\Projects\\\\REMM-Analysis-Tools\\\\Max_Sprawl_Outputs\\\\Outputs\\\\max_sprawl_results.gdb\\\\SE_WF_MAXSPRAWL_2015_2050'"
      ]
     },
     "execution_count": 22,
     "metadata": {},
     "output_type": "execute_result"
    }
   ],
   "source": [
    "mean2015[\"year\"]= 2015\n",
    "mean2020[\"year\"]= 2020\n",
    "mean2030[\"year\"]= 2030\n",
    "mean2040[\"year\"]= 2040\n",
    "mean2050[\"year\"]= 2050\n",
    "\n",
    "#concatenate all the tables together to one file\n",
    "means_cat = pd.concat([mean2015, mean2020, mean2030, mean2040, mean2050])\n",
    "                    \n",
    "maxsprawl_sdf = taz_sdf.merge(means_cat, left_on='TAZID', right_on=';TAZID', how='left')\n",
    "maxsprawl_sdf.spatial.to_featureclass(location=os.path.join(gdb, 'SE_WF_MAXSPRAWL_2015_2050'))"
   ]
  },
  {
   "cell_type": "markdown",
   "metadata": {},
   "source": [
    "## Create Difference 2050 - 2015 (baseyear)"
   ]
  },
  {
   "cell_type": "code",
   "execution_count": 23,
   "metadata": {},
   "outputs": [
    {
     "data": {
      "text/plain": [
       "'E:\\\\Projects\\\\REMM-Analysis-Tools\\\\Max_Sprawl_Outputs\\\\Outputs\\\\max_sprawl_results.gdb\\\\SE_WF_DIFF_MAX_SPRAWL2050_MINUS_BASE2015'"
      ]
     },
     "execution_count": 23,
     "metadata": {},
     "output_type": "execute_result"
    }
   ],
   "source": [
    "# sort the tables by tazid\n",
    "mean2015.sort_values(by=[';TAZID'], inplace=True)\n",
    "mean2050.sort_values(by=[';TAZID'], inplace=True)\n",
    "\n",
    "base = mean2050[[';TAZID', 'CO_TAZID']].copy()\n",
    "\n",
    "# get the differences\n",
    "base['diff_hh'] = mean2050['TOTHH'] - mean2015['TOTHH']\n",
    "base['diff_pop'] = mean2050['HHPOP'] - mean2015['HHPOP']\n",
    "base['diff_emp'] = mean2050['TOTEMP'] - mean2015['TOTEMP']\n",
    "\n",
    "diff_sprawl_base = taz_sdf.merge(base, left_on='TAZID', right_on=';TAZID', how='left')\n",
    "diff_sprawl_base.spatial.to_featureclass(location=os.path.join(gdb, 'SE_WF_DIFF_MAX_SPRAWL2050_MINUS_BASE2015'))"
   ]
  },
  {
   "cell_type": "markdown",
   "metadata": {},
   "source": [
    "## Create Difference 2050 (sprawl) - 2050 (regular)"
   ]
  },
  {
   "cell_type": "code",
   "execution_count": 24,
   "metadata": {},
   "outputs": [
    {
     "data": {
      "text/plain": [
       "'E:\\\\Projects\\\\REMM-Analysis-Tools\\\\Max_Sprawl_Outputs\\\\Outputs\\\\max_sprawl_results.gdb\\\\SE_WF_DIFF_MAX_SPRAWL2050_MINUS_NORMAL2050'"
      ]
     },
     "execution_count": 24,
     "metadata": {},
     "output_type": "execute_result"
    }
   ],
   "source": [
    "# read in regular run 2050 table\n",
    "reg2050 = pd.read_csv(r'.\\Inputs\\old\\SE_WF_2050.csv').sort_values(by=[';TAZID'])\n",
    "\n",
    "# sort the table by tazid\n",
    "mean2050.sort_values(by=[';TAZID'], inplace=True)\n",
    "\n",
    "base = reg2050[[';TAZID', 'CO_TAZID']].copy()\n",
    "\n",
    "# get the differences\n",
    "base['diff_hh'] = mean2050['TOTHH'] - reg2050['TOTHH']\n",
    "base['diff_pop'] = mean2050['HHPOP'] - reg2050['HHPOP']\n",
    "base['diff_emp'] = mean2050['TOTEMP'] - reg2050['TOTEMP']\n",
    "\n",
    "diff_sprawl_reg = taz_sdf.merge(base, left_on='TAZID', right_on=';TAZID', how='left')\n",
    "diff_sprawl_reg.spatial.to_featureclass(location=os.path.join(gdb, 'SE_WF_DIFF_MAX_SPRAWL2050_MINUS_NORMAL2050'))"
   ]
  }
 ],
 "metadata": {
  "kernelspec": {
   "display_name": "joshPy3",
   "language": "python",
   "name": "joshpy3"
  },
  "language_info": {
   "codemirror_mode": {
    "name": "ipython",
    "version": 3
   },
   "file_extension": ".py",
   "mimetype": "text/x-python",
   "name": "python",
   "nbconvert_exporter": "python",
   "pygments_lexer": "ipython3",
   "version": "3.6.10"
  }
 },
 "nbformat": 4,
 "nbformat_minor": 4
}
