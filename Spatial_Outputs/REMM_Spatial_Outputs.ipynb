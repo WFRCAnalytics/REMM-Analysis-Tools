{
 "cells": [
  {
   "cell_type": "code",
   "execution_count": 2,
   "metadata": {},
   "outputs": [],
   "source": [
    "import pandas as pd \n",
    "import os\n",
    "import numpy as np\n",
    "import arcpy\n",
    "from arcgis import GIS\n",
    "from arcgis.features import GeoAccessor, GeoSeriesAccessor\n",
    "arcpy.env.overwriteOutput = True\n",
    "# show all columns\n",
    "pd.options.display.max_columns = None"
   ]
  },
  {
   "cell_type": "code",
   "execution_count": 16,
   "metadata": {},
   "outputs": [],
   "source": [
    "# create output gdb\n",
    "outputs = '.\\\\Outputs'\n",
    "gdb = os.path.join(outputs, \"counties_join.gdb\")\n",
    "if not arcpy.Exists(gdb):\n",
    "    arcpy.CreateFileGDB_management(outputs, \"counties_join.gdb\")"
   ]
  },
  {
   "cell_type": "code",
   "execution_count": 13,
   "metadata": {},
   "outputs": [],
   "source": [
    "county_ind_2015 = \".\\\\Inputs\\\\REMMRun\\\\county_indicators_59_2015.csv\"\n",
    "county_ind_2020 = \".\\\\Inputs\\\\REMMRun\\\\county_indicators_59_2020.csv\"\n",
    "county_ind_2030 = \".\\\\Inputs\\\\REMMRun\\\\county_indicators_59_2030.csv\"\n",
    "county_ind_2040 = \".\\\\Inputs\\\\REMMRun\\\\county_indicators_59_2040.csv\"\n",
    "county_ind_2050 = \".\\\\Inputs\\\\REMMRun\\\\county_indicators_59_2050.csv\""
   ]
  },
  {
   "cell_type": "code",
   "execution_count": 14,
   "metadata": {},
   "outputs": [],
   "source": [
    "county_ind_2015_df = pd.read_csv(county_ind_2015)\n",
    "county_ind_2020_df = pd.read_csv(county_ind_2020)\n",
    "county_ind_2030_df = pd.read_csv(county_ind_2030)\n",
    "county_ind_2040_df = pd.read_csv(county_ind_2040)\n",
    "county_ind_2050_df = pd.read_csv(county_ind_2050)"
   ]
  },
  {
   "cell_type": "code",
   "execution_count": 4,
   "metadata": {},
   "outputs": [],
   "source": [
    "counties_shp = \".\\\\Inputs\\\\Boundaries\\\\Counties.shp\"\n",
    "REMM_Parcels_shp = \".\\\\Inputs\\\\Boundaries\\\\REMM_Parcels_2015.shp\"\n",
    "TAZ_shp = \".\\\\Inputs\\\\Boundaries\\\\TAZ_WFRC_MAG.shp\""
   ]
  },
  {
   "cell_type": "code",
   "execution_count": 5,
   "metadata": {},
   "outputs": [],
   "source": [
    "counties_sdf = pd.DataFrame.spatial.from_featureclass(counties_shp)\n",
    "REMM_Parcels_sdf = pd.DataFrame.spatial.from_featureclass(REMM_Parcels_shp)\n",
    "TAZ_sdf = pd.DataFrame.spatial.from_featureclass(TAZ_shp)"
   ]
  },
  {
   "cell_type": "code",
   "execution_count": 9,
   "metadata": {},
   "outputs": [
    {
     "data": {
      "text/html": [
       "<div>\n",
       "<style scoped>\n",
       "    .dataframe tbody tr th:only-of-type {\n",
       "        vertical-align: middle;\n",
       "    }\n",
       "\n",
       "    .dataframe tbody tr th {\n",
       "        vertical-align: top;\n",
       "    }\n",
       "\n",
       "    .dataframe thead th {\n",
       "        text-align: right;\n",
       "    }\n",
       "</style>\n",
       "<table border=\"1\" class=\"dataframe\">\n",
       "  <thead>\n",
       "    <tr style=\"text-align: right;\">\n",
       "      <th></th>\n",
       "      <th>FIPS</th>\n",
       "      <th>SHAPE</th>\n",
       "    </tr>\n",
       "  </thead>\n",
       "  <tbody>\n",
       "    <tr>\n",
       "      <th>0</th>\n",
       "      <td>5.0</td>\n",
       "      <td>{\"rings\": [[[-112.15617197899996, 41.997725941...</td>\n",
       "    </tr>\n",
       "    <tr>\n",
       "      <th>1</th>\n",
       "      <td>13.0</td>\n",
       "      <td>{\"rings\": [[[-110.25173670299995, 40.832347463...</td>\n",
       "    </tr>\n",
       "    <tr>\n",
       "      <th>2</th>\n",
       "      <td>11.0</td>\n",
       "      <td>{\"rings\": [[[-111.99471694299996, 41.152669619...</td>\n",
       "    </tr>\n",
       "    <tr>\n",
       "      <th>3</th>\n",
       "      <td>27.0</td>\n",
       "      <td>{\"rings\": [[[-112.23854898599996, 39.553633436...</td>\n",
       "    </tr>\n",
       "    <tr>\n",
       "      <th>4</th>\n",
       "      <td>51.0</td>\n",
       "      <td>{\"rings\": [[[-111.39572506599995, 40.690187842...</td>\n",
       "    </tr>\n",
       "  </tbody>\n",
       "</table>\n",
       "</div>"
      ],
      "text/plain": [
       "   FIPS                                              SHAPE\n",
       "0   5.0  {\"rings\": [[[-112.15617197899996, 41.997725941...\n",
       "1  13.0  {\"rings\": [[[-110.25173670299995, 40.832347463...\n",
       "2  11.0  {\"rings\": [[[-111.99471694299996, 41.152669619...\n",
       "3  27.0  {\"rings\": [[[-112.23854898599996, 39.553633436...\n",
       "4  51.0  {\"rings\": [[[-111.39572506599995, 40.690187842..."
      ]
     },
     "execution_count": 9,
     "metadata": {},
     "output_type": "execute_result"
    }
   ],
   "source": [
    "counties_sdf.head()"
   ]
  },
  {
   "cell_type": "code",
   "execution_count": 8,
   "metadata": {},
   "outputs": [],
   "source": [
    "counties_sdf= counties_sdf[[\"FIPS\",\"SHAPE\"]].copy()"
   ]
  },
  {
   "cell_type": "code",
   "execution_count": 15,
   "metadata": {},
   "outputs": [],
   "source": [
    "counties_2015_join= counties_sdf.merge(county_ind_2015_df,left_on=\"FIPS\",right_on=\"county_id\",\n",
    "how=\"inner\")"
   ]
  },
  {
   "cell_type": "code",
   "execution_count": 17,
   "metadata": {},
   "outputs": [
    {
     "data": {
      "text/plain": [
       "'C:\\\\Projects\\\\REMM-Analysis-Tools\\\\Spatial_Outputs\\\\Outputs\\\\counties_join.gdb\\\\county_indicators_2015'"
      ]
     },
     "execution_count": 17,
     "metadata": {},
     "output_type": "execute_result"
    }
   ],
   "source": [
    "counties_2015_join.spatial.to_featureclass(location=os.path.join(gdb,\"county_indicators_2015\"))"
   ]
  },
  {
   "cell_type": "code",
   "execution_count": null,
   "metadata": {},
   "outputs": [],
   "source": []
  }
 ],
 "metadata": {
  "kernelspec": {
   "display_name": "Python 3",
   "language": "python",
   "name": "python3"
  },
  "language_info": {
   "codemirror_mode": {
    "name": "ipython",
    "version": 3
   },
   "file_extension": ".py",
   "mimetype": "text/x-python",
   "name": "python",
   "nbconvert_exporter": "python",
   "pygments_lexer": "ipython3",
   "version": "3.6.10"
  }
 },
 "nbformat": 4,
 "nbformat_minor": 4
}
