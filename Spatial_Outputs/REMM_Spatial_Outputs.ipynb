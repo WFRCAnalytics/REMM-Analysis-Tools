{
 "cells": [
  {
   "cell_type": "code",
<<<<<<< HEAD
   "execution_count": 3,
=======
   "execution_count": 2,
>>>>>>> 3b964cbcd39b6927ce3ab7a36cf40015ee20be62
   "metadata": {},
   "outputs": [],
   "source": [
    "import pandas as pd \n",
    "import os\n",
    "import numpy as np\n",
    "import arcpy\n",
    "from arcgis import GIS\n",
    "from arcgis.features import GeoAccessor, GeoSeriesAccessor\n",
    "arcpy.env.overwriteOutput = True\n",
    "# show all columns\n",
    "pd.options.display.max_columns = None"
   ]
  },
  {
<<<<<<< HEAD
   "cell_type": "markdown",
   "metadata": {},
   "source": [
    "## Create output GDB"
   ]
  },
  {
   "cell_type": "code",
   "execution_count": 4,
=======
   "cell_type": "code",
   "execution_count": 16,
>>>>>>> 3b964cbcd39b6927ce3ab7a36cf40015ee20be62
   "metadata": {},
   "outputs": [],
   "source": [
    "# create output gdb\n",
    "outputs = '.\\\\Outputs'\n",
    "gdb = os.path.join(outputs, \"counties_join.gdb\")\n",
    "if not arcpy.Exists(gdb):\n",
    "    arcpy.CreateFileGDB_management(outputs, \"counties_join.gdb\")"
   ]
  },
  {
<<<<<<< HEAD
   "cell_type": "markdown",
   "metadata": {},
   "source": [
    "## Assign tables and geospatial data to variables"
   ]
  },
  {
   "cell_type": "code",
   "execution_count": 5,
=======
   "cell_type": "code",
   "execution_count": 13,
>>>>>>> 3b964cbcd39b6927ce3ab7a36cf40015ee20be62
   "metadata": {},
   "outputs": [],
   "source": [
    "county_ind_2015 = \".\\\\Inputs\\\\REMMRun\\\\county_indicators_59_2015.csv\"\n",
    "county_ind_2020 = \".\\\\Inputs\\\\REMMRun\\\\county_indicators_59_2020.csv\"\n",
    "county_ind_2030 = \".\\\\Inputs\\\\REMMRun\\\\county_indicators_59_2030.csv\"\n",
    "county_ind_2040 = \".\\\\Inputs\\\\REMMRun\\\\county_indicators_59_2040.csv\"\n",
<<<<<<< HEAD
    "county_ind_2050 = \".\\\\Inputs\\\\REMMRun\\\\county_indicators_59_2050.csv\"\n",
    "\n",
    "zone_ind_2015 = \".\\\\Inputs\\\\REMMRun\\\\zone_indicators_5_2015.csv\"\n",
    "zone_ind_2020 = \".\\\\Inputs\\\\REMMRun\\\\zone_indicators_5_2020.csv\"\n",
    "zone_ind_2030 = \".\\\\Inputs\\\\REMMRun\\\\zone_indicators_5_2030.csv\"\n",
    "zone_ind_2040 = \".\\\\Inputs\\\\REMMRun\\\\zone_indicators_5_2040.csv\"\n",
    "zone_ind_2050 = \".\\\\Inputs\\\\REMMRun\\\\zone_indicators_5_2050.csv\"\n",
    "\n",
    "all_buildings_2015 = \".\\\\Inputs\\\\REMMRun\\\\run5year2015allbuildings.csv\"\n",
    "all_buildings_2020 = \".\\\\Inputs\\\\REMMRun\\\\run5year2020allbuildings.csv\"\n",
    "all_buildings_2030 = \".\\\\Inputs\\\\REMMRun\\\\run5year2030allbuildings.csv\"\n",
    "all_buildings_2040 = \".\\\\Inputs\\\\REMMRun\\\\run5year2040allbuildings.csv\"\n",
    "all_buildings_2050 = \".\\\\Inputs\\\\REMMRun\\\\run5year2050allbuildings.csv\""
=======
    "county_ind_2050 = \".\\\\Inputs\\\\REMMRun\\\\county_indicators_59_2050.csv\""
>>>>>>> 3b964cbcd39b6927ce3ab7a36cf40015ee20be62
   ]
  },
  {
   "cell_type": "code",
<<<<<<< HEAD
   "execution_count": 6,
=======
   "execution_count": 14,
>>>>>>> 3b964cbcd39b6927ce3ab7a36cf40015ee20be62
   "metadata": {},
   "outputs": [],
   "source": [
    "county_ind_2015_df = pd.read_csv(county_ind_2015)\n",
    "county_ind_2020_df = pd.read_csv(county_ind_2020)\n",
    "county_ind_2030_df = pd.read_csv(county_ind_2030)\n",
    "county_ind_2040_df = pd.read_csv(county_ind_2040)\n",
<<<<<<< HEAD
    "county_ind_2050_df = pd.read_csv(county_ind_2050)\n",
    "\n",
    "zone_ind_2015_df = pd.read_csv(zone_ind_2015)\n",
    "zone_ind_2020_df = pd.read_csv(zone_ind_2020)\n",
    "zone_ind_2030_df = pd.read_csv(zone_ind_2030)\n",
    "zone_ind_2040_df = pd.read_csv(zone_ind_2040)\n",
    "zone_ind_2050_df = pd.read_csv(zone_ind_2050)\n",
    "\n",
    "all_buildings_2015_df= pd.read_csv(all_buildings_2015)\n",
    "all_buildings_2020_df= pd.read_csv(all_buildings_2020)\n",
    "all_buildings_2030_df= pd.read_csv(all_buildings_2030)\n",
    "all_buildings_2040_df= pd.read_csv(all_buildings_2040)\n",
    "all_buildings_2050_df= pd.read_csv(all_buildings_2050)"
   ]
  },
  {
   "cell_type": "markdown",
   "metadata": {},
   "source": [
    "## add year field to the dfs\n",
    "used to combine the tables of different years into one file"
   ]
  },
  {
   "cell_type": "code",
   "execution_count": 7,
   "metadata": {},
   "outputs": [],
   "source": [
    "county_ind_2015_df[\"year\"]= 2015\n",
    "county_ind_2020_df[\"year\"]= 2020\n",
    "county_ind_2030_df[\"year\"]= 2030\n",
    "county_ind_2040_df[\"year\"]= 2040\n",
    "county_ind_2050_df[\"year\"]= 2050\n",
    "#concatenate all the tables together to one file\n",
    "county_tables_df = [county_ind_2015_df,county_ind_2020_df,county_ind_2030_df,county_ind_2040_df,county_ind_2050_df]\n",
    "all_county_ind_df = pd.concat(county_tables_df)"
   ]
  },
  {
   "cell_type": "code",
   "execution_count": 8,
   "metadata": {},
   "outputs": [],
   "source": [
    "zone_ind_2015_df[\"year\"]= 2015\n",
    "zone_ind_2020_df[\"year\"]= 2020\n",
    "zone_ind_2030_df[\"year\"]= 2030\n",
    "zone_ind_2040_df[\"year\"]= 2040\n",
    "zone_ind_2050_df[\"year\"]= 2050\n",
    "#concatenate all the tables together to one file\n",
    "zone_inds_df = [zone_ind_2015_df,zone_ind_2020_df,zone_ind_2030_df,zone_ind_2040_df,zone_ind_2050_df]\n",
    "all_zone_inds_df = pd.concat(zone_inds_df)\n"
   ]
  },
  {
   "cell_type": "code",
   "execution_count": 9,
   "metadata": {},
   "outputs": [],
   "source": [
    "all_buildings_2015_df[\"year\"] = 2015\n",
    "all_buildings_2020_df[\"year\"] = 2020\n",
    "all_buildings_2030_df[\"year\"] = 2030\n",
    "all_buildings_2040_df[\"year\"] = 2040\n",
    "all_buildings_2050_df[\"year\"] = 2050\n",
    "#concatenate all the tables together to one file\n",
    "all_buildings_df_list = [all_buildings_2015_df,all_buildings_2020_df,all_buildings_2030_df,\n",
    "                    all_buildings_2040_df,all_buildings_2050_df]\n",
    "all_buildings_df = pd.concat(all_buildings_df_list)"
   ]
  },
  {
   "cell_type": "code",
   "execution_count": 10,
   "metadata": {},
   "outputs": [
    {
     "name": "stdout",
     "output_type": "stream",
     "text": [
      "(20, 28)\n",
      "(13625, 30)\n"
     ]
    }
   ],
   "source": [
    "#checking the number of fields vs columns for combined dfs\n",
    "print (all_county_ind_df.shape)\n",
    "print (all_zone_inds_df.shape)\n",
    "#print (all_buildings_df.shape)"
   ]
  },
  {
   "cell_type": "code",
   "execution_count": null,
   "metadata": {},
   "outputs": [],
   "source": []
  },
  {
   "cell_type": "markdown",
   "metadata": {},
   "source": [
    "## Import shapefiles"
=======
    "county_ind_2050_df = pd.read_csv(county_ind_2050)"
>>>>>>> 3b964cbcd39b6927ce3ab7a36cf40015ee20be62
   ]
  },
  {
   "cell_type": "code",
<<<<<<< HEAD
   "execution_count": 11,
=======
   "execution_count": 4,
>>>>>>> 3b964cbcd39b6927ce3ab7a36cf40015ee20be62
   "metadata": {},
   "outputs": [],
   "source": [
    "counties_shp = \".\\\\Inputs\\\\Boundaries\\\\Counties.shp\"\n",
    "REMM_Parcels_shp = \".\\\\Inputs\\\\Boundaries\\\\REMM_Parcels_2015.shp\"\n",
    "TAZ_shp = \".\\\\Inputs\\\\Boundaries\\\\TAZ_WFRC_MAG.shp\""
   ]
  },
  {
<<<<<<< HEAD
   "cell_type": "markdown",
   "metadata": {},
   "source": [
    "## Convert shps to spatial dataframes"
   ]
  },
  {
   "cell_type": "code",
   "execution_count": 12,
=======
   "cell_type": "code",
   "execution_count": 5,
>>>>>>> 3b964cbcd39b6927ce3ab7a36cf40015ee20be62
   "metadata": {},
   "outputs": [],
   "source": [
    "counties_sdf = pd.DataFrame.spatial.from_featureclass(counties_shp)\n",
    "REMM_Parcels_sdf = pd.DataFrame.spatial.from_featureclass(REMM_Parcels_shp)\n",
    "TAZ_sdf = pd.DataFrame.spatial.from_featureclass(TAZ_shp)"
   ]
  },
  {
   "cell_type": "code",
<<<<<<< HEAD
   "execution_count": null,
   "metadata": {},
   "outputs": [],
   "source": []
  },
  {
   "cell_type": "code",
   "execution_count": 13,
   "metadata": {},
   "outputs": [],
   "source": [
    "#create a copy of the table\n",
    "counties_sdf= counties_sdf[[\"FIPS\",\"SHAPE\"]].copy()\n",
    "TAZ_sdf = TAZ_sdf[[\"TAZID\",\"SHAPE\"]].copy()"
   ]
  },
  {
   "cell_type": "markdown",
   "metadata": {},
   "source": [
    "## Merge the tables with the spatial dataframe"
   ]
  },
  {
   "cell_type": "code",
   "execution_count": 14,
   "metadata": {},
   "outputs": [
    {
     "name": "stdout",
     "output_type": "stream",
     "text": [
      "(20, 30)\n",
      "(13625, 32)\n"
     ]
    }
   ],
   "source": [
    "all_county_ind_sdf= counties_sdf.merge(all_county_ind_df,left_on=\"FIPS\",right_on=\"county_id\",\n",
    "how=\"inner\")\n",
    "\n",
    "\n",
    "all_zone_inds_sdf= TAZ_sdf.merge(all_zone_inds_df,left_on=\"TAZID\",right_on=\"zone_id\",\n",
    "how=\"inner\")\n",
    "\n",
    "#checking the shape\n",
    "print (all_county_ind_sdf.shape)\n",
    "print (all_zone_inds_sdf.shape)"
   ]
  },
  {
   "cell_type": "markdown",
   "metadata": {},
   "source": [
    "## geocode building tables"
   ]
  },
  {
   "cell_type": "code",
   "execution_count": 15,
=======
   "execution_count": 9,
>>>>>>> 3b964cbcd39b6927ce3ab7a36cf40015ee20be62
   "metadata": {},
   "outputs": [
    {
     "data": {
      "text/html": [
<<<<<<< HEAD
       "<h2>Output</h2>.\\Outputs\\counties_join.gdb\\all_buildings<h2>Messages</h2>Start Time: Wednesday, December 2, 2020 10:26:06 AM<br/>Succeeded at Wednesday, December 2, 2020 10:31:31 AM (Elapsed Time: 5 minutes 25 seconds)<br/><style>.rendered_html td, .rendered_html th {text-align: left;}.rendered_html tbody {border: 1px solid black;}</style>"
      ],
      "text/plain": [
       "<Result '.\\\\Outputs\\\\counties_join.gdb\\\\all_buildings'>"
      ]
     },
     "execution_count": 15,
=======
       "<div>\n",
       "<style scoped>\n",
       "    .dataframe tbody tr th:only-of-type {\n",
       "        vertical-align: middle;\n",
       "    }\n",
       "\n",
       "    .dataframe tbody tr th {\n",
       "        vertical-align: top;\n",
       "    }\n",
       "\n",
       "    .dataframe thead th {\n",
       "        text-align: right;\n",
       "    }\n",
       "</style>\n",
       "<table border=\"1\" class=\"dataframe\">\n",
       "  <thead>\n",
       "    <tr style=\"text-align: right;\">\n",
       "      <th></th>\n",
       "      <th>FIPS</th>\n",
       "      <th>SHAPE</th>\n",
       "    </tr>\n",
       "  </thead>\n",
       "  <tbody>\n",
       "    <tr>\n",
       "      <th>0</th>\n",
       "      <td>5.0</td>\n",
       "      <td>{\"rings\": [[[-112.15617197899996, 41.997725941...</td>\n",
       "    </tr>\n",
       "    <tr>\n",
       "      <th>1</th>\n",
       "      <td>13.0</td>\n",
       "      <td>{\"rings\": [[[-110.25173670299995, 40.832347463...</td>\n",
       "    </tr>\n",
       "    <tr>\n",
       "      <th>2</th>\n",
       "      <td>11.0</td>\n",
       "      <td>{\"rings\": [[[-111.99471694299996, 41.152669619...</td>\n",
       "    </tr>\n",
       "    <tr>\n",
       "      <th>3</th>\n",
       "      <td>27.0</td>\n",
       "      <td>{\"rings\": [[[-112.23854898599996, 39.553633436...</td>\n",
       "    </tr>\n",
       "    <tr>\n",
       "      <th>4</th>\n",
       "      <td>51.0</td>\n",
       "      <td>{\"rings\": [[[-111.39572506599995, 40.690187842...</td>\n",
       "    </tr>\n",
       "  </tbody>\n",
       "</table>\n",
       "</div>"
      ],
      "text/plain": [
       "   FIPS                                              SHAPE\n",
       "0   5.0  {\"rings\": [[[-112.15617197899996, 41.997725941...\n",
       "1  13.0  {\"rings\": [[[-110.25173670299995, 40.832347463...\n",
       "2  11.0  {\"rings\": [[[-111.99471694299996, 41.152669619...\n",
       "3  27.0  {\"rings\": [[[-112.23854898599996, 39.553633436...\n",
       "4  51.0  {\"rings\": [[[-111.39572506599995, 40.690187842..."
      ]
     },
     "execution_count": 9,
>>>>>>> 3b964cbcd39b6927ce3ab7a36cf40015ee20be62
     "metadata": {},
     "output_type": "execute_result"
    }
   ],
   "source": [
<<<<<<< HEAD
    "#pre-named output feature class created\n",
    "out_featureclass = os.path.join(gdb,\"all_buildings\")\n",
    "\n",
    "#converting the dbf back to csv\n",
    "all_buildings_csv = os.path.join(outputs,\"all_buildings.csv\")\n",
    "all_buildings_df.to_csv(all_buildings_csv,index = True)\n",
    "\n",
    "\n",
    "#get spatial reference from already existing dataset\n",
    "spatial_ref = arcpy.Describe(REMM_Parcels_shp).spatialReference\n",
    "\n",
    "\n",
    "#geocoding, and inputting table into output feature class, using pre-set spatial reference\n",
    "arcpy.management.XYTableToPoint(all_buildings_csv, out_featureclass,\n",
    "                                \"utmxi\", \"utmyi\",\"\",\n",
    "                                spatial_ref)"
   ]
  },
  {
   "cell_type": "markdown",
   "metadata": {},
   "source": [
    "## Export the new joined spatial feature to output gdb"
=======
    "counties_sdf.head()"
   ]
  },
  {
   "cell_type": "code",
   "execution_count": 8,
   "metadata": {},
   "outputs": [],
   "source": [
    "counties_sdf= counties_sdf[[\"FIPS\",\"SHAPE\"]].copy()"
>>>>>>> 3b964cbcd39b6927ce3ab7a36cf40015ee20be62
   ]
  },
  {
   "cell_type": "code",
<<<<<<< HEAD
   "execution_count": 16,
=======
   "execution_count": 15,
   "metadata": {},
   "outputs": [],
   "source": [
    "counties_2015_join= counties_sdf.merge(county_ind_2015_df,left_on=\"FIPS\",right_on=\"county_id\",\n",
    "how=\"inner\")"
   ]
  },
  {
   "cell_type": "code",
   "execution_count": 17,
>>>>>>> 3b964cbcd39b6927ce3ab7a36cf40015ee20be62
   "metadata": {},
   "outputs": [
    {
     "data": {
      "text/plain": [
<<<<<<< HEAD
       "'C:\\\\Projects\\\\REMM-Analysis-Tools\\\\Spatial_Outputs\\\\Outputs\\\\counties_join.gdb\\\\zone_indicators_ALL'"
      ]
     },
     "execution_count": 16,
=======
       "'C:\\\\Projects\\\\REMM-Analysis-Tools\\\\Spatial_Outputs\\\\Outputs\\\\counties_join.gdb\\\\county_indicators_2015'"
      ]
     },
     "execution_count": 17,
>>>>>>> 3b964cbcd39b6927ce3ab7a36cf40015ee20be62
     "metadata": {},
     "output_type": "execute_result"
    }
   ],
   "source": [
<<<<<<< HEAD
    "all_county_ind_sdf.spatial.to_featureclass(location=os.path.join(gdb,\"county_indicators_ALL\"))\n",
    "\n",
    "\n",
    "all_zone_inds_sdf.spatial.to_featureclass(location=os.path.join(gdb,\"zone_indicators_ALL\"))\n"
=======
    "counties_2015_join.spatial.to_featureclass(location=os.path.join(gdb,\"county_indicators_2015\"))"
>>>>>>> 3b964cbcd39b6927ce3ab7a36cf40015ee20be62
   ]
  },
  {
   "cell_type": "code",
   "execution_count": null,
   "metadata": {},
   "outputs": [],
   "source": []
  }
 ],
 "metadata": {
  "kernelspec": {
   "display_name": "Python 3",
   "language": "python",
   "name": "python3"
  },
  "language_info": {
   "codemirror_mode": {
    "name": "ipython",
    "version": 3
   },
   "file_extension": ".py",
   "mimetype": "text/x-python",
   "name": "python",
   "nbconvert_exporter": "python",
   "pygments_lexer": "ipython3",
   "version": "3.6.10"
  }
 },
 "nbformat": 4,
 "nbformat_minor": 4
}
