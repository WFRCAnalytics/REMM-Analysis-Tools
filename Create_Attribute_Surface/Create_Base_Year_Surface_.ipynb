{
 "cells": [
  {
   "cell_type": "code",
   "execution_count": 1,
   "metadata": {},
   "outputs": [],
   "source": [
    "import arcpy\n",
    "from arcpy import env\n",
    "import os\n",
    "from arcgis import GIS\n",
    "from arcgis.features import GeoAccessor\n",
    "import pandas as pd\n",
    "\n",
    "arcpy.env.overwriteOutput = True\n",
    "arcpy.env.parallelProcessingFactor = \"90%\"\n",
    "\n",
    "# show all columns\n",
    "pd.options.display.max_columns = None\n",
    "\n",
    "# pd.DataFrame.spatial.from_featureclass(???)\n",
    "# df.spatial.to_featureclass(location=???,sanitize_columns=False)"
   ]
  },
  {
   "cell_type": "code",
   "execution_count": 2,
   "metadata": {},
   "outputs": [],
   "source": [
    "# Inputs\n",
    "parcels = r\".\\Inputs\\remm_base_year_2019.gdb\\parcels_2019\"\n",
    "grid = r\".\\Inputs\\grid.shp\" # 15km grid"
   ]
  },
  {
   "cell_type": "code",
   "execution_count": 3,
   "metadata": {},
   "outputs": [
    {
     "name": "stdout",
     "output_type": "stream",
     "text": [
      "Output gdb path: .\\Outputs\\scratch.gdb\n",
      "Output gdb2 path: .\\Outputs\\zoning_surface.gdb\n"
     ]
    }
   ],
   "source": [
    "# output directory\n",
    "if not os.path.exists('Outputs'): os.makedirs('Outputs') \n",
    "outputs = ['.\\\\Outputs', 'scratch.gdb', 'zoning_surface.gdb']\n",
    "gdb = os.path.join(outputs[0], outputs[1])\n",
    "gdb2 = os.path.join(outputs[0], outputs[2])\n",
    "if not arcpy.Exists(gdb): \n",
    "    arcpy.CreateFileGDB_management(outputs[0], outputs[1])\n",
    "    arcpy.CreateFileGDB_management(outputs[0], outputs[2])\n",
    "print('Output gdb path: {}'.format(gdb))\n",
    "print('Output gdb2 path: {}'.format(gdb2))"
   ]
  },
  {
   "cell_type": "code",
   "execution_count": 4,
   "metadata": {},
   "outputs": [],
   "source": [
    "# create grid\n",
    "area = '.5 SquareKilometers'\n",
    "grid2 = arcpy.GenerateTessellation_management(os.path.join(os.path.realpath(r'.\\Outputs\\zoning_surface.gdb'), '_00_grid2'), arcpy.Describe(parcels).extent, \"SQUARE\", area,)"
   ]
  },
  {
   "cell_type": "code",
   "execution_count": 5,
   "metadata": {},
   "outputs": [
    {
     "name": "stdout",
     "output_type": "stream",
     "text": [
      "711978\n",
      "569055\n"
     ]
    },
    {
     "data": {
      "text/html": [
       "<div class='gpresult'><h2>Messages</h2><div id='messages' data-messages='[\"Start Time: Wednesday, April 27, 2022 3:06:17 PM\",\"Succeeded at Wednesday, April 27, 2022 3:06:56 PM (Elapsed Time: 38.93 seconds)\"]' data-show='true'><div id = 'default' /></div></div>"
      ],
      "text/plain": [
       "<Result 'parcels_lyr'>"
      ]
     },
     "execution_count": 5,
     "metadata": {},
     "output_type": "execute_result"
    }
   ],
   "source": [
    "# copy input parcels\n",
    "p_copy = arcpy.FeatureClassToFeatureClass_conversion(parcels, gdb,'_00_parcels_copy')\n",
    "parcels_lyr = arcpy.MakeFeatureLayer_management(p_copy, 'parcels_lyr')\n",
    "print(arcpy.GetCount_management(parcels_lyr))\n",
    "\n",
    "query = \"\"\" building_sqft IS NULL \"\"\"\n",
    "arcpy.SelectLayerByAttribute_management(parcels_lyr, 'NEW_SELECTION', query)\n",
    "arcpy.DeleteFeatures_management(parcels_lyr)\n",
    "print(arcpy.GetCount_management(parcels_lyr))\n",
    "\n",
    "# add and calculate parcel FAR attribute\n",
    "arcpy.SelectLayerByAttribute_management(parcels_lyr, 'CLEAR_SELECTION')\n",
    "arcpy.AddField_management(parcels_lyr, 'FAR', \"FLOAT\")\n",
    "arcpy.CalculateField_management(parcels_lyr, 'FAR', '''!building_sqft! / !parcel_acres!''' )"
   ]
  },
  {
   "cell_type": "markdown",
   "metadata": {},
   "source": [
    "## Median Year Built by Building Type"
   ]
  },
  {
   "cell_type": "code",
   "execution_count": 6,
   "metadata": {},
   "outputs": [
    {
     "name": "stdout",
     "output_type": "stream",
     "text": [
      "499730\n"
     ]
    },
    {
     "data": {
      "text/html": [
       "<div class='gpresult'><h2>Messages</h2><div id='messages' data-messages='[\"Start Time: Wednesday, April 27, 2022 3:07:25 PM\",\"Succeeded at Wednesday, April 27, 2022 3:07:25 PM (Elapsed Time: 0.01 seconds)\"]' data-show='true'><div id = 'default' /></div></div>"
      ],
      "text/plain": [
       "<Result 'parcels_lyr'>"
      ]
     },
     "execution_count": 6,
     "metadata": {},
     "output_type": "execute_result"
    }
   ],
   "source": [
    "query = \"\"\" building_type_id = 1 \"\"\"\n",
    "arcpy.SelectLayerByAttribute_management(parcels_lyr, 'NEW_SELECTION', query)\n",
    "print(arcpy.GetCount_management(parcels_lyr))\n",
    "\n",
    "target_features = grid2\n",
    "join_features = parcels_lyr\n",
    "output_features = os.path.join(gdb, \"_01_year_built_sf_sj\")\n",
    "\n",
    "fieldmappings = arcpy.FieldMappings()\n",
    "fieldmappings.addTable(target_features)\n",
    "fieldmappings.addTable(join_features)\n",
    "\n",
    "# attribute to summarize\n",
    "fieldindex = fieldmappings.findFieldMapIndex('year_built')\n",
    "fieldmap = fieldmappings.getFieldMap(fieldindex)\n",
    "fieldmap.mergeRule = 'Median'\n",
    "fieldmappings.replaceFieldMap(fieldindex, fieldmap)\n",
    "\n",
    "# run the spatial join\n",
    "sj5 = arcpy.SpatialJoin_analysis(target_features, join_features, output_features,'JOIN_ONE_TO_ONE', \"KEEP_ALL\", \n",
    "                           fieldmappings, \"INTERSECT\")\n",
    "\n",
    "arcpy.SelectLayerByAttribute_management(parcels_lyr, 'CLEAR_SELECTION')"
   ]
  },
  {
   "cell_type": "code",
   "execution_count": 7,
   "metadata": {},
   "outputs": [
    {
     "name": "stdout",
     "output_type": "stream",
     "text": [
      "26530\n"
     ]
    },
    {
     "data": {
      "text/html": [
       "<div class='gpresult'><h2>Messages</h2><div id='messages' data-messages='[\"Start Time: Wednesday, April 27, 2022 3:07:30 PM\",\"Succeeded at Wednesday, April 27, 2022 3:07:30 PM (Elapsed Time: 0.01 seconds)\"]' data-show='true'><div id = 'default' /></div></div>"
      ],
      "text/plain": [
       "<Result 'parcels_lyr'>"
      ]
     },
     "execution_count": 7,
     "metadata": {},
     "output_type": "execute_result"
    }
   ],
   "source": [
    "query = \"\"\" building_type_id = 2 \"\"\"\n",
    "arcpy.SelectLayerByAttribute_management(parcels_lyr, 'NEW_SELECTION', query)\n",
    "print(arcpy.GetCount_management(parcels_lyr))\n",
    "\n",
    "target_features = grid2\n",
    "join_features = parcels_lyr\n",
    "output_features = os.path.join(gdb, \"_01_year_built_mf_sj\")\n",
    "\n",
    "fieldmappings = arcpy.FieldMappings()\n",
    "fieldmappings.addTable(target_features)\n",
    "fieldmappings.addTable(join_features)\n",
    "\n",
    "# attribute to summarize\n",
    "fieldindex = fieldmappings.findFieldMapIndex('year_built')\n",
    "fieldmap = fieldmappings.getFieldMap(fieldindex)\n",
    "fieldmap.mergeRule = 'Median'\n",
    "fieldmappings.replaceFieldMap(fieldindex, fieldmap)\n",
    "\n",
    "# run the spatial join\n",
    "sj6 = arcpy.SpatialJoin_analysis(target_features, join_features, output_features,'JOIN_ONE_TO_ONE', \"KEEP_ALL\", \n",
    "                           fieldmappings, \"INTERSECT\")\n",
    "\n",
    "arcpy.SelectLayerByAttribute_management(parcels_lyr, 'CLEAR_SELECTION')"
   ]
  },
  {
   "cell_type": "code",
   "execution_count": 8,
   "metadata": {},
   "outputs": [
    {
     "name": "stdout",
     "output_type": "stream",
     "text": [
      "9092\n"
     ]
    },
    {
     "data": {
      "text/html": [
       "<div class='gpresult'><h2>Messages</h2><div id='messages' data-messages='[\"Start Time: Wednesday, April 27, 2022 3:07:34 PM\",\"Succeeded at Wednesday, April 27, 2022 3:07:34 PM (Elapsed Time: 0.02 seconds)\"]' data-show='true'><div id = 'default' /></div></div>"
      ],
      "text/plain": [
       "<Result 'parcels_lyr'>"
      ]
     },
     "execution_count": 8,
     "metadata": {},
     "output_type": "execute_result"
    }
   ],
   "source": [
    "query = \"\"\" building_type_id = 3 \"\"\"\n",
    "arcpy.SelectLayerByAttribute_management(parcels_lyr, 'NEW_SELECTION', query)\n",
    "print(arcpy.GetCount_management(parcels_lyr))\n",
    "\n",
    "target_features = grid2\n",
    "join_features = parcels_lyr\n",
    "output_features = os.path.join(gdb, \"_01_year_built_ind_sj\")\n",
    "\n",
    "fieldmappings = arcpy.FieldMappings()\n",
    "fieldmappings.addTable(target_features)\n",
    "fieldmappings.addTable(join_features)\n",
    "\n",
    "# attribute to summarize\n",
    "fieldindex = fieldmappings.findFieldMapIndex('year_built')\n",
    "fieldmap = fieldmappings.getFieldMap(fieldindex)\n",
    "fieldmap.mergeRule = 'Median'\n",
    "fieldmappings.replaceFieldMap(fieldindex, fieldmap)\n",
    "\n",
    "# run the spatial join\n",
    "sj7 = arcpy.SpatialJoin_analysis(target_features, join_features, output_features,'JOIN_ONE_TO_ONE', \"KEEP_ALL\", \n",
    "                           fieldmappings, \"INTERSECT\")\n",
    "\n",
    "arcpy.SelectLayerByAttribute_management(parcels_lyr, 'CLEAR_SELECTION')"
   ]
  },
  {
   "cell_type": "code",
   "execution_count": 9,
   "metadata": {},
   "outputs": [
    {
     "name": "stdout",
     "output_type": "stream",
     "text": [
      "23850\n"
     ]
    },
    {
     "data": {
      "text/html": [
       "<div class='gpresult'><h2>Messages</h2><div id='messages' data-messages='[\"Start Time: Wednesday, April 27, 2022 3:07:40 PM\",\"Succeeded at Wednesday, April 27, 2022 3:07:40 PM (Elapsed Time: 0.01 seconds)\"]' data-show='true'><div id = 'default' /></div></div>"
      ],
      "text/plain": [
       "<Result 'parcels_lyr'>"
      ]
     },
     "execution_count": 9,
     "metadata": {},
     "output_type": "execute_result"
    }
   ],
   "source": [
    "query = \"\"\" building_type_id in (4,5,6,7,8,9,10,11,13) \"\"\"\n",
    "arcpy.SelectLayerByAttribute_management(parcels_lyr, 'NEW_SELECTION', query)\n",
    "print(arcpy.GetCount_management(parcels_lyr))\n",
    "\n",
    "target_features = grid2\n",
    "join_features = parcels_lyr\n",
    "output_features = os.path.join(gdb, \"_01_year_built_nobind_sj\")\n",
    "\n",
    "fieldmappings = arcpy.FieldMappings()\n",
    "fieldmappings.addTable(target_features)\n",
    "fieldmappings.addTable(join_features)\n",
    "\n",
    "# attribute to summarize\n",
    "fieldindex = fieldmappings.findFieldMapIndex('year_built')\n",
    "fieldmap = fieldmappings.getFieldMap(fieldindex)\n",
    "fieldmap.mergeRule = 'Median'\n",
    "fieldmappings.replaceFieldMap(fieldindex, fieldmap)\n",
    "\n",
    "# run the spatial join\n",
    "sj8 = arcpy.SpatialJoin_analysis(target_features, join_features, output_features,'JOIN_ONE_TO_ONE', \"KEEP_ALL\", \n",
    "                           fieldmappings, \"INTERSECT\")\n",
    "\n",
    "arcpy.SelectLayerByAttribute_management(parcels_lyr, 'CLEAR_SELECTION')"
   ]
  },
  {
   "cell_type": "markdown",
   "metadata": {},
   "source": [
    "## Median MAXDUA"
   ]
  },
  {
   "cell_type": "code",
   "execution_count": 10,
   "metadata": {},
   "outputs": [],
   "source": [
    "target_features = grid2\n",
    "join_features = parcels\n",
    "output_features = os.path.join(gdb, \"_02_grid_parcels_maxdua_sj\")\n",
    "\n",
    "fieldmappings = arcpy.FieldMappings()\n",
    "fieldmappings.addTable(target_features)\n",
    "fieldmappings.addTable(join_features)\n",
    "\n",
    "# attribute to summarize\n",
    "fieldindex = fieldmappings.findFieldMapIndex('max_dua')\n",
    "fieldmap = fieldmappings.getFieldMap(fieldindex)\n",
    "fieldmap.mergeRule = 'Median'\n",
    "fieldmappings.replaceFieldMap(fieldindex, fieldmap)\n",
    "\n",
    "# run the spatial join\n",
    "sj = arcpy.SpatialJoin_analysis(target_features, join_features, output_features,'JOIN_ONE_TO_ONE', \"KEEP_ALL\", \n",
    "                           fieldmappings, \"INTERSECT\")"
   ]
  },
  {
   "cell_type": "markdown",
   "metadata": {},
   "source": [
    "## Median MAXFAR by Building Type"
   ]
  },
  {
   "cell_type": "code",
   "execution_count": 11,
   "metadata": {},
   "outputs": [
    {
     "name": "stdout",
     "output_type": "stream",
     "text": [
      "499730\n"
     ]
    },
    {
     "data": {
      "text/html": [
       "<div class='gpresult'><h2>Messages</h2><div id='messages' data-messages='[\"Start Time: Wednesday, April 27, 2022 3:08:34 PM\",\"Succeeded at Wednesday, April 27, 2022 3:08:34 PM (Elapsed Time: 0.01 seconds)\"]' data-show='true'><div id = 'default' /></div></div>"
      ],
      "text/plain": [
       "<Result 'parcels_lyr'>"
      ]
     },
     "execution_count": 11,
     "metadata": {},
     "output_type": "execute_result"
    }
   ],
   "source": [
    "query = \"\"\" building_type_id = 1 \"\"\"\n",
    "arcpy.SelectLayerByAttribute_management(parcels_lyr, 'NEW_SELECTION', query)\n",
    "print(arcpy.GetCount_management(parcels_lyr))\n",
    "\n",
    "target_features = grid\n",
    "join_features = parcels_lyr\n",
    "output_features = os.path.join(gdb, \"_03_grid_parcels_sf_sj\")\n",
    "\n",
    "fieldmappings = arcpy.FieldMappings()\n",
    "fieldmappings.addTable(target_features)\n",
    "fieldmappings.addTable(join_features)\n",
    "\n",
    "# attribute to summarize\n",
    "fieldindex = fieldmappings.findFieldMapIndex('FAR')\n",
    "fieldmap = fieldmappings.getFieldMap(fieldindex)\n",
    "fieldmap.mergeRule = 'Median'\n",
    "fieldmappings.replaceFieldMap(fieldindex, fieldmap)\n",
    "\n",
    "# run the spatial join\n",
    "sj1 = arcpy.SpatialJoin_analysis(target_features, join_features, output_features,'JOIN_ONE_TO_ONE', \"KEEP_ALL\", \n",
    "                           fieldmappings, \"INTERSECT\")\n",
    "\n",
    "arcpy.SelectLayerByAttribute_management(parcels_lyr, 'CLEAR_SELECTION')"
   ]
  },
  {
   "cell_type": "code",
   "execution_count": 12,
   "metadata": {},
   "outputs": [
    {
     "name": "stdout",
     "output_type": "stream",
     "text": [
      "26530\n"
     ]
    },
    {
     "data": {
      "text/html": [
       "<div class='gpresult'><h2>Messages</h2><div id='messages' data-messages='[\"Start Time: Wednesday, April 27, 2022 3:08:38 PM\",\"Succeeded at Wednesday, April 27, 2022 3:08:38 PM (Elapsed Time: 0.02 seconds)\"]' data-show='true'><div id = 'default' /></div></div>"
      ],
      "text/plain": [
       "<Result 'parcels_lyr'>"
      ]
     },
     "execution_count": 12,
     "metadata": {},
     "output_type": "execute_result"
    }
   ],
   "source": [
    "query = \"\"\" building_type_id = 2 \"\"\"\n",
    "arcpy.SelectLayerByAttribute_management(parcels_lyr, 'NEW_SELECTION', query)\n",
    "print(arcpy.GetCount_management(parcels_lyr))\n",
    "\n",
    "target_features = grid\n",
    "join_features = parcels_lyr\n",
    "output_features = os.path.join(gdb, \"_03_grid_parcels_mf_sj\")\n",
    "\n",
    "fieldmappings = arcpy.FieldMappings()\n",
    "fieldmappings.addTable(target_features)\n",
    "fieldmappings.addTable(join_features)\n",
    "\n",
    "# attribute to summarize\n",
    "fieldindex = fieldmappings.findFieldMapIndex('FAR')\n",
    "fieldmap = fieldmappings.getFieldMap(fieldindex)\n",
    "fieldmap.mergeRule = 'Median'\n",
    "fieldmappings.replaceFieldMap(fieldindex, fieldmap)\n",
    "\n",
    "# run the spatial join\n",
    "sj2 = arcpy.SpatialJoin_analysis(target_features, join_features, output_features,'JOIN_ONE_TO_ONE', \"KEEP_ALL\", \n",
    "                           fieldmappings, \"INTERSECT\")\n",
    "\n",
    "arcpy.SelectLayerByAttribute_management(parcels_lyr, 'CLEAR_SELECTION')"
   ]
  },
  {
   "cell_type": "code",
   "execution_count": 13,
   "metadata": {},
   "outputs": [
    {
     "name": "stdout",
     "output_type": "stream",
     "text": [
      "9092\n"
     ]
    },
    {
     "data": {
      "text/html": [
       "<div class='gpresult'><h2>Messages</h2><div id='messages' data-messages='[\"Start Time: Wednesday, April 27, 2022 3:08:41 PM\",\"Succeeded at Wednesday, April 27, 2022 3:08:41 PM (Elapsed Time: 0.01 seconds)\"]' data-show='true'><div id = 'default' /></div></div>"
      ],
      "text/plain": [
       "<Result 'parcels_lyr'>"
      ]
     },
     "execution_count": 13,
     "metadata": {},
     "output_type": "execute_result"
    }
   ],
   "source": [
    "query = \"\"\" building_type_id = 3 \"\"\"\n",
    "arcpy.SelectLayerByAttribute_management(parcels_lyr, 'NEW_SELECTION', query)\n",
    "print(arcpy.GetCount_management(parcels_lyr))\n",
    "\n",
    "target_features = grid\n",
    "join_features = parcels_lyr\n",
    "output_features = os.path.join(gdb, \"_03_grid_parcels_ind_sj\")\n",
    "\n",
    "fieldmappings = arcpy.FieldMappings()\n",
    "fieldmappings.addTable(target_features)\n",
    "fieldmappings.addTable(join_features)\n",
    "\n",
    "# attribute to summarize\n",
    "fieldindex = fieldmappings.findFieldMapIndex('FAR')\n",
    "fieldmap = fieldmappings.getFieldMap(fieldindex)\n",
    "fieldmap.mergeRule = 'Median'\n",
    "fieldmappings.replaceFieldMap(fieldindex, fieldmap)\n",
    "\n",
    "# run the spatial join\n",
    "sj3 = arcpy.SpatialJoin_analysis(target_features, join_features, output_features,'JOIN_ONE_TO_ONE', \"KEEP_ALL\", \n",
    "                           fieldmappings, \"INTERSECT\")\n",
    "\n",
    "arcpy.SelectLayerByAttribute_management(parcels_lyr, 'CLEAR_SELECTION')"
   ]
  },
  {
   "cell_type": "code",
   "execution_count": 14,
   "metadata": {},
   "outputs": [
    {
     "name": "stdout",
     "output_type": "stream",
     "text": [
      "569055\n"
     ]
    },
    {
     "data": {
      "text/html": [
       "<div class='gpresult'><h2>Messages</h2><div id='messages' data-messages='[\"Start Time: Wednesday, April 27, 2022 3:09:07 PM\",\"Succeeded at Wednesday, April 27, 2022 3:09:07 PM (Elapsed Time: 0.01 seconds)\"]' data-show='true'><div id = 'default' /></div></div>"
      ],
      "text/plain": [
       "<Result 'parcels_lyr'>"
      ]
     },
     "execution_count": 14,
     "metadata": {},
     "output_type": "execute_result"
    }
   ],
   "source": [
    "query = \"\"\" building_type_id in (4,5,6,7,8,9,10,11,13) \"\"\"\n",
    "arcpy.SelectLayerByAttribute_management(parcels_lyr, 'NEW_SELECTION')\n",
    "print(arcpy.GetCount_management(parcels_lyr))\n",
    "\n",
    "target_features = grid\n",
    "join_features = parcels_lyr\n",
    "output_features = os.path.join(gdb, \"_03_grid_parcels_nonind_sj\")\n",
    "\n",
    "fieldmappings = arcpy.FieldMappings()\n",
    "fieldmappings.addTable(target_features)\n",
    "fieldmappings.addTable(join_features)\n",
    "\n",
    "# attribute to summarize\n",
    "fieldindex = fieldmappings.findFieldMapIndex('FAR')\n",
    "fieldmap = fieldmappings.getFieldMap(fieldindex)\n",
    "fieldmap.mergeRule = 'Median'\n",
    "fieldmappings.replaceFieldMap(fieldindex, fieldmap)\n",
    "\n",
    "# run the spatial join\n",
    "sj4 = arcpy.SpatialJoin_analysis(target_features, join_features, output_features,'JOIN_ONE_TO_ONE', \"KEEP_ALL\", \n",
    "                           fieldmappings, \"INTERSECT\")\n",
    "\n",
    "arcpy.SelectLayerByAttribute_management(parcels_lyr, 'CLEAR_SELECTION')"
   ]
  },
  {
   "cell_type": "code",
   "execution_count": 15,
   "metadata": {},
   "outputs": [],
   "source": [
    "grid_sdf = pd.DataFrame.spatial.from_featureclass(grid)\n",
    "grid2_sdf = pd.DataFrame.spatial.from_featureclass(grid2[0])\n",
    "\n",
    "sj_df = pd.DataFrame.spatial.from_featureclass(sj[0])[['GRID_ID', 'max_dua']].copy()\n",
    "sj_df.columns = ['GRID_ID', 'MAXDUA_MED']\n",
    "\n",
    "sj1_df = pd.DataFrame.spatial.from_featureclass(sj1[0])[['GRID_ID', 'FAR']].copy()\n",
    "sj1_df.columns = ['GRID_ID', 'FAR_SF']\n",
    "\n",
    "sj2_df = pd.DataFrame.spatial.from_featureclass(sj2[0])[['GRID_ID', 'FAR']].copy()\n",
    "sj2_df.columns = ['GRID_ID', 'FAR_MF']\n",
    "\n",
    "sj3_df = pd.DataFrame.spatial.from_featureclass(sj3[0])[['GRID_ID', 'FAR']].copy()\n",
    "sj3_df.columns = ['GRID_ID', 'FAR_IND']\n",
    "\n",
    "sj4_df = pd.DataFrame.spatial.from_featureclass(sj4[0])[['GRID_ID', 'FAR']].copy()\n",
    "sj4_df.columns = ['GRID_ID', 'FAR_NONIND']\n",
    "\n",
    "sj5_df = pd.DataFrame.spatial.from_featureclass(sj5[0])[['GRID_ID', 'year_built']].copy()\n",
    "sj5_df.columns = ['GRID_ID', 'YB_SF']\n",
    "sj5_df['YB_SF'] = sj5_df['YB_SF'].fillna(0).round(0).astype(int)\n",
    "\n",
    "sj6_df = pd.DataFrame.spatial.from_featureclass(sj6[0])[['GRID_ID', 'year_built']].copy()\n",
    "sj6_df.columns = ['GRID_ID', 'YB_MF']\n",
    "sj6_df['YB_MF'] = sj6_df['YB_MF'].fillna(0).round(0).astype(int)\n",
    "\n",
    "sj7_df = pd.DataFrame.spatial.from_featureclass(sj7[0])[['GRID_ID', 'year_built']].copy()\n",
    "sj7_df.columns = ['GRID_ID', 'YB_IND']\n",
    "sj7_df['YB_IND'] = sj7_df['YB_IND'].fillna(0).round(0).astype(int)\n",
    "\n",
    "sj8_df = pd.DataFrame.spatial.from_featureclass(sj8[0])[['GRID_ID', 'year_built']].copy()\n",
    "sj8_df.columns = ['GRID_ID', 'YB_NONIND']\n",
    "sj8_df['YB_NONIND'] = sj8_df['YB_NONIND'].fillna(0).round(0).astype(int)"
   ]
  },
  {
   "cell_type": "code",
   "execution_count": 16,
   "metadata": {},
   "outputs": [],
   "source": [
    "# max far\n",
    "merged = grid_sdf.merge(sj1_df, left_on='GRID_ID', right_on='GRID_ID', how='left')\n",
    "merged = merged.merge(sj2_df, left_on='GRID_ID', right_on='GRID_ID', how='left')\n",
    "merged = merged.merge(sj3_df, left_on='GRID_ID', right_on='GRID_ID', how='left')\n",
    "merged = merged.merge(sj4_df, left_on='GRID_ID', right_on='GRID_ID', how='left')\n",
    "\n",
    "# everything else\n",
    "merged2 = grid2_sdf.merge(sj_df, left_on='GRID_ID', right_on='GRID_ID', how='left')\n",
    "merged2 = merged2.merge(sj5_df, left_on='GRID_ID', right_on='GRID_ID', how='left')\n",
    "merged2 = merged2.merge(sj6_df, left_on='GRID_ID', right_on='GRID_ID', how='left')\n",
    "merged2 = merged2.merge(sj7_df, left_on='GRID_ID', right_on='GRID_ID', how='left')\n",
    "merged2 = merged2.merge(sj8_df, left_on='GRID_ID', right_on='GRID_ID', how='left')"
   ]
  },
  {
   "cell_type": "code",
   "execution_count": 17,
   "metadata": {},
   "outputs": [
    {
     "name": "stdout",
     "output_type": "stream",
     "text": [
      "(338, 9)\n",
      "(19404, 8)\n"
     ]
    }
   ],
   "source": [
    "print(merged.shape)\n",
    "print(merged2.shape)"
   ]
  },
  {
   "cell_type": "code",
   "execution_count": 18,
   "metadata": {},
   "outputs": [
    {
     "data": {
      "text/plain": [
       "'e:\\\\Projects\\\\Create_Zoning_Surface_For_REMM\\\\Outputs\\\\zoning_surface.gdb\\\\base_year_surface_far'"
      ]
     },
     "execution_count": 18,
     "metadata": {},
     "output_type": "execute_result"
    }
   ],
   "source": [
    "result = os.path.join(gdb2, 'base_year_surface_far')\n",
    "merged.spatial.to_featureclass(location=result, sanitize_columns=False)"
   ]
  },
  {
   "cell_type": "code",
   "execution_count": 19,
   "metadata": {},
   "outputs": [
    {
     "data": {
      "text/plain": [
       "'e:\\\\Projects\\\\Create_Zoning_Surface_For_REMM\\\\Outputs\\\\zoning_surface.gdb\\\\base_year_surface_maxdua_year_built'"
      ]
     },
     "execution_count": 19,
     "metadata": {},
     "output_type": "execute_result"
    }
   ],
   "source": [
    "result2 = os.path.join(gdb2, 'base_year_surface_maxdua_year_built')\n",
    "merged2.spatial.to_featureclass(location=result2, sanitize_columns=False)"
   ]
  },
  {
   "cell_type": "code",
   "execution_count": 20,
   "metadata": {},
   "outputs": [],
   "source": [
    "# os.startfile(r\".\\Create_Base_Year_Surface_.aprx\")"
   ]
  }
 ],
 "metadata": {
  "interpreter": {
   "hash": "d657bb250ec970b20532561b3a87d14bbf82ce653c71023131e868b5848d28d1"
  },
  "kernelspec": {
   "display_name": "Clone",
   "language": "python",
   "name": "clone"
  },
  "language_info": {
   "codemirror_mode": {
    "name": "ipython",
    "version": 3
   },
   "file_extension": ".py",
   "mimetype": "text/x-python",
   "name": "python",
   "nbconvert_exporter": "python",
   "pygments_lexer": "ipython3",
   "version": "3.7.11"
  },
  "varInspector": {
   "cols": {
    "lenName": 16,
    "lenType": 16,
    "lenVar": 40
   },
   "kernels_config": {
    "python": {
     "delete_cmd_postfix": "",
     "delete_cmd_prefix": "del ",
     "library": "var_list.py",
     "varRefreshCmd": "print(var_dic_list())"
    },
    "r": {
     "delete_cmd_postfix": ") ",
     "delete_cmd_prefix": "rm(",
     "library": "var_list.r",
     "varRefreshCmd": "cat(var_dic_list()) "
    }
   },
   "types_to_exclude": [
    "module",
    "function",
    "builtin_function_or_method",
    "instance",
    "_Feature"
   ],
   "window_display": false
  }
 },
 "nbformat": 4,
 "nbformat_minor": 4
}
